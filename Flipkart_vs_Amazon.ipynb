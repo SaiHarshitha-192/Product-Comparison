{
  "nbformat": 4,
  "nbformat_minor": 0,
  "metadata": {
    "colab": {
      "provenance": [],
      "mount_file_id": "1YQsHpwTap-eslZ-rPwd4jSOqnSs0pwXD",
      "authorship_tag": "ABX9TyPxzHv+T6lJ4rK6veviDAx9",
      "include_colab_link": true
    },
    "kernelspec": {
      "name": "python3",
      "display_name": "Python 3"
    },
    "language_info": {
      "name": "python"
    }
  },
  "cells": [
    {
      "cell_type": "markdown",
      "metadata": {
        "id": "view-in-github",
        "colab_type": "text"
      },
      "source": [
        "<a href=\"https://colab.research.google.com/github/SaiHarshitha-192/Product-Comparison/blob/main/Flipkart_vs_Amazon.ipynb\" target=\"_parent\"><img src=\"https://colab.research.google.com/assets/colab-badge.svg\" alt=\"Open In Colab\"/></a>"
      ]
    },
    {
      "cell_type": "markdown",
      "source": [
        "#Comparision of prices between amazon and flipkart products <br>\n",
        "\n",
        "\n",
        "> Firstly I've imported the datasets and did some data analysis to remove null values from both the sets<br>\n",
        "> Then I've done some data visualization between different features of each sets<br>\n",
        ">After some plots, I've dropped all the columns from both the tables except for product name, retail price and discount price because we only need those ones<br>\n",
        ">Now both the dataframes are left with two columns each - discount price, retail price and name<br>\n",
        "\n",
        ">The task is to display the prices in both amazon and flipkart for a particular product.<br>\n",
        ">So I've merged both tables using joint.merge and then to display the product price which the user asks, I did it in 2 ways:<br>\n",
        "\n",
        "\n",
        "*   ONE: I took user input of the product name and displayed it \n",
        "*   TWO: I made forms where on entering the name of product we get the table\n",
        "\n",
        "\n",
        "> Then at last I've displayed the least price for a particular product for both websites"
      ],
      "metadata": {
        "id": "1SKwtxqz-QJ0"
      }
    },
    {
      "cell_type": "markdown",
      "source": [
        "##AMAZON"
      ],
      "metadata": {
        "id": "dxchpc92B4tz"
      }
    },
    {
      "cell_type": "code",
      "execution_count": 1,
      "metadata": {
        "id": "JELOlAbVaTL8"
      },
      "outputs": [],
      "source": [
        "#importing\n",
        "import pandas as pd\n",
        "import numpy as np\n",
        "import matplotlib.pyplot as plt \n",
        "import seaborn as sns"
      ]
    },
    {
      "cell_type": "code",
      "source": [
        "amazon = pd.read_csv('/content/drive/MyDrive/amz_com-ecommerce_sample.csv', encoding='latin')\n",
        "amazon.head()"
      ],
      "metadata": {
        "colab": {
          "base_uri": "https://localhost:8080/",
          "height": 531
        },
        "id": "U66GBudvb9la",
        "outputId": "667642b6-70c9-45d3-c2c1-f47bc0cef2d7"
      },
      "execution_count": 2,
      "outputs": [
        {
          "output_type": "execute_result",
          "data": {
            "text/plain": [
              "                            uniq_id            crawl_timestamp  \\\n",
              "0  c2d766ca982eca8304150849735ffef9  2016-03-25 22:59:23 +0000   \n",
              "1  7f7036a6d550aaa89d34c77bd39a5e48  2016-03-25 22:59:23 +0000   \n",
              "2  f449ec65dcbc041b6ae5e6a32717d01b  2016-03-25 22:59:23 +0000   \n",
              "3  0973b37acd0c664e3de26e97e5571454  2016-03-25 22:59:23 +0000   \n",
              "4  bc940ea42ee6bef5ac7cea3fb5cfbee7  2016-03-25 22:59:23 +0000   \n",
              "\n",
              "                                         product_url  \\\n",
              "0  http://www.flipkart.com/alisha-solid-women-s-c...   \n",
              "1  http://www.flipkart.com/fabhomedecor-fabric-do...   \n",
              "2  http://www.flipkart.com/aw-bellies/p/itmeh4grg...   \n",
              "3  http://www.flipkart.com/alisha-solid-women-s-c...   \n",
              "4  http://www.flipkart.com/sicons-all-purpose-arn...   \n",
              "\n",
              "                            product_name  \\\n",
              "0    Alisha Solid Women's Cycling Shorts   \n",
              "1    FabHomeDecor Fabric Double Sofa Bed   \n",
              "2                             AW Bellies   \n",
              "3    Alisha Solid Women's Cycling Shorts   \n",
              "4  Sicons All Purpose Arnica Dog Shampoo   \n",
              "\n",
              "                               product_category_tree               pid  \\\n",
              "0  [\"Clothing >> Women's Clothing >> Lingerie, Sl...  SRTEH2FF9KEDEFGF   \n",
              "1  [\"Furniture >> Living Room Furniture >> Sofa B...  SBEEH3QGU7MFYJFY   \n",
              "2  [\"Footwear >> Women's Footwear >> Ballerinas >...  SHOEH4GRSUBJGZXE   \n",
              "3  [\"Clothing >> Women's Clothing >> Lingerie, Sl...  SRTEH2F6HUZMQ6SJ   \n",
              "4  [\"Pet Supplies >> Grooming >> Skin & Coat Care...  PSOEH3ZYDMSYARJ5   \n",
              "\n",
              "   retail_price  discounted_price  \\\n",
              "0           982               438   \n",
              "1         32143             29121   \n",
              "2           991               551   \n",
              "3           694               325   \n",
              "4           208               258   \n",
              "\n",
              "                                               image  is_FK_Advantage_product  \\\n",
              "0  [\"http://img5a.flixcart.com/image/short/u/4/a/...                    False   \n",
              "1  [\"http://img6a.flixcart.com/image/sofa-bed/j/f...                    False   \n",
              "2  [\"http://img5a.flixcart.com/image/shoe/7/z/z/r...                    False   \n",
              "3  [\"http://img5a.flixcart.com/image/short/6/2/h/...                    False   \n",
              "4  [\"http://img5a.flixcart.com/image/pet-shampoo/...                    False   \n",
              "\n",
              "                                         description       product_rating  \\\n",
              "0  Key Features of Alisha Solid Women's Cycling S...  No rating available   \n",
              "1  FabHomeDecor Fabric Double Sofa Bed (Finish Co...  No rating available   \n",
              "2  Key Features of AW Bellies Sandals Wedges Heel...  No rating available   \n",
              "3  Key Features of Alisha Solid Women's Cycling S...  No rating available   \n",
              "4  Specifications of Sicons All Purpose Arnica Do...  No rating available   \n",
              "\n",
              "        overall_rating         brand  \\\n",
              "0  No rating available        Alisha   \n",
              "1  No rating available  FabHomeDecor   \n",
              "2  No rating available            AW   \n",
              "3  No rating available        Alisha   \n",
              "4  No rating available        Sicons   \n",
              "\n",
              "                              product_specifications  \n",
              "0  {\"product_specification\"=>[{\"key\"=>\"Number of ...  \n",
              "1  {\"product_specification\"=>[{\"key\"=>\"Installati...  \n",
              "2  {\"product_specification\"=>[{\"key\"=>\"Ideal For\"...  \n",
              "3  {\"product_specification\"=>[{\"key\"=>\"Number of ...  \n",
              "4  {\"product_specification\"=>[{\"key\"=>\"Pet Type\",...  "
            ],
            "text/html": [
              "\n",
              "  <div id=\"df-09b62c68-3dea-4388-af0b-4a770cd6f74d\">\n",
              "    <div class=\"colab-df-container\">\n",
              "      <div>\n",
              "<style scoped>\n",
              "    .dataframe tbody tr th:only-of-type {\n",
              "        vertical-align: middle;\n",
              "    }\n",
              "\n",
              "    .dataframe tbody tr th {\n",
              "        vertical-align: top;\n",
              "    }\n",
              "\n",
              "    .dataframe thead th {\n",
              "        text-align: right;\n",
              "    }\n",
              "</style>\n",
              "<table border=\"1\" class=\"dataframe\">\n",
              "  <thead>\n",
              "    <tr style=\"text-align: right;\">\n",
              "      <th></th>\n",
              "      <th>uniq_id</th>\n",
              "      <th>crawl_timestamp</th>\n",
              "      <th>product_url</th>\n",
              "      <th>product_name</th>\n",
              "      <th>product_category_tree</th>\n",
              "      <th>pid</th>\n",
              "      <th>retail_price</th>\n",
              "      <th>discounted_price</th>\n",
              "      <th>image</th>\n",
              "      <th>is_FK_Advantage_product</th>\n",
              "      <th>description</th>\n",
              "      <th>product_rating</th>\n",
              "      <th>overall_rating</th>\n",
              "      <th>brand</th>\n",
              "      <th>product_specifications</th>\n",
              "    </tr>\n",
              "  </thead>\n",
              "  <tbody>\n",
              "    <tr>\n",
              "      <th>0</th>\n",
              "      <td>c2d766ca982eca8304150849735ffef9</td>\n",
              "      <td>2016-03-25 22:59:23 +0000</td>\n",
              "      <td>http://www.flipkart.com/alisha-solid-women-s-c...</td>\n",
              "      <td>Alisha Solid Women's Cycling Shorts</td>\n",
              "      <td>[\"Clothing &gt;&gt; Women's Clothing &gt;&gt; Lingerie, Sl...</td>\n",
              "      <td>SRTEH2FF9KEDEFGF</td>\n",
              "      <td>982</td>\n",
              "      <td>438</td>\n",
              "      <td>[\"http://img5a.flixcart.com/image/short/u/4/a/...</td>\n",
              "      <td>False</td>\n",
              "      <td>Key Features of Alisha Solid Women's Cycling S...</td>\n",
              "      <td>No rating available</td>\n",
              "      <td>No rating available</td>\n",
              "      <td>Alisha</td>\n",
              "      <td>{\"product_specification\"=&gt;[{\"key\"=&gt;\"Number of ...</td>\n",
              "    </tr>\n",
              "    <tr>\n",
              "      <th>1</th>\n",
              "      <td>7f7036a6d550aaa89d34c77bd39a5e48</td>\n",
              "      <td>2016-03-25 22:59:23 +0000</td>\n",
              "      <td>http://www.flipkart.com/fabhomedecor-fabric-do...</td>\n",
              "      <td>FabHomeDecor Fabric Double Sofa Bed</td>\n",
              "      <td>[\"Furniture &gt;&gt; Living Room Furniture &gt;&gt; Sofa B...</td>\n",
              "      <td>SBEEH3QGU7MFYJFY</td>\n",
              "      <td>32143</td>\n",
              "      <td>29121</td>\n",
              "      <td>[\"http://img6a.flixcart.com/image/sofa-bed/j/f...</td>\n",
              "      <td>False</td>\n",
              "      <td>FabHomeDecor Fabric Double Sofa Bed (Finish Co...</td>\n",
              "      <td>No rating available</td>\n",
              "      <td>No rating available</td>\n",
              "      <td>FabHomeDecor</td>\n",
              "      <td>{\"product_specification\"=&gt;[{\"key\"=&gt;\"Installati...</td>\n",
              "    </tr>\n",
              "    <tr>\n",
              "      <th>2</th>\n",
              "      <td>f449ec65dcbc041b6ae5e6a32717d01b</td>\n",
              "      <td>2016-03-25 22:59:23 +0000</td>\n",
              "      <td>http://www.flipkart.com/aw-bellies/p/itmeh4grg...</td>\n",
              "      <td>AW Bellies</td>\n",
              "      <td>[\"Footwear &gt;&gt; Women's Footwear &gt;&gt; Ballerinas &gt;...</td>\n",
              "      <td>SHOEH4GRSUBJGZXE</td>\n",
              "      <td>991</td>\n",
              "      <td>551</td>\n",
              "      <td>[\"http://img5a.flixcart.com/image/shoe/7/z/z/r...</td>\n",
              "      <td>False</td>\n",
              "      <td>Key Features of AW Bellies Sandals Wedges Heel...</td>\n",
              "      <td>No rating available</td>\n",
              "      <td>No rating available</td>\n",
              "      <td>AW</td>\n",
              "      <td>{\"product_specification\"=&gt;[{\"key\"=&gt;\"Ideal For\"...</td>\n",
              "    </tr>\n",
              "    <tr>\n",
              "      <th>3</th>\n",
              "      <td>0973b37acd0c664e3de26e97e5571454</td>\n",
              "      <td>2016-03-25 22:59:23 +0000</td>\n",
              "      <td>http://www.flipkart.com/alisha-solid-women-s-c...</td>\n",
              "      <td>Alisha Solid Women's Cycling Shorts</td>\n",
              "      <td>[\"Clothing &gt;&gt; Women's Clothing &gt;&gt; Lingerie, Sl...</td>\n",
              "      <td>SRTEH2F6HUZMQ6SJ</td>\n",
              "      <td>694</td>\n",
              "      <td>325</td>\n",
              "      <td>[\"http://img5a.flixcart.com/image/short/6/2/h/...</td>\n",
              "      <td>False</td>\n",
              "      <td>Key Features of Alisha Solid Women's Cycling S...</td>\n",
              "      <td>No rating available</td>\n",
              "      <td>No rating available</td>\n",
              "      <td>Alisha</td>\n",
              "      <td>{\"product_specification\"=&gt;[{\"key\"=&gt;\"Number of ...</td>\n",
              "    </tr>\n",
              "    <tr>\n",
              "      <th>4</th>\n",
              "      <td>bc940ea42ee6bef5ac7cea3fb5cfbee7</td>\n",
              "      <td>2016-03-25 22:59:23 +0000</td>\n",
              "      <td>http://www.flipkart.com/sicons-all-purpose-arn...</td>\n",
              "      <td>Sicons All Purpose Arnica Dog Shampoo</td>\n",
              "      <td>[\"Pet Supplies &gt;&gt; Grooming &gt;&gt; Skin &amp; Coat Care...</td>\n",
              "      <td>PSOEH3ZYDMSYARJ5</td>\n",
              "      <td>208</td>\n",
              "      <td>258</td>\n",
              "      <td>[\"http://img5a.flixcart.com/image/pet-shampoo/...</td>\n",
              "      <td>False</td>\n",
              "      <td>Specifications of Sicons All Purpose Arnica Do...</td>\n",
              "      <td>No rating available</td>\n",
              "      <td>No rating available</td>\n",
              "      <td>Sicons</td>\n",
              "      <td>{\"product_specification\"=&gt;[{\"key\"=&gt;\"Pet Type\",...</td>\n",
              "    </tr>\n",
              "  </tbody>\n",
              "</table>\n",
              "</div>\n",
              "      <button class=\"colab-df-convert\" onclick=\"convertToInteractive('df-09b62c68-3dea-4388-af0b-4a770cd6f74d')\"\n",
              "              title=\"Convert this dataframe to an interactive table.\"\n",
              "              style=\"display:none;\">\n",
              "        \n",
              "  <svg xmlns=\"http://www.w3.org/2000/svg\" height=\"24px\"viewBox=\"0 0 24 24\"\n",
              "       width=\"24px\">\n",
              "    <path d=\"M0 0h24v24H0V0z\" fill=\"none\"/>\n",
              "    <path d=\"M18.56 5.44l.94 2.06.94-2.06 2.06-.94-2.06-.94-.94-2.06-.94 2.06-2.06.94zm-11 1L8.5 8.5l.94-2.06 2.06-.94-2.06-.94L8.5 2.5l-.94 2.06-2.06.94zm10 10l.94 2.06.94-2.06 2.06-.94-2.06-.94-.94-2.06-.94 2.06-2.06.94z\"/><path d=\"M17.41 7.96l-1.37-1.37c-.4-.4-.92-.59-1.43-.59-.52 0-1.04.2-1.43.59L10.3 9.45l-7.72 7.72c-.78.78-.78 2.05 0 2.83L4 21.41c.39.39.9.59 1.41.59.51 0 1.02-.2 1.41-.59l7.78-7.78 2.81-2.81c.8-.78.8-2.07 0-2.86zM5.41 20L4 18.59l7.72-7.72 1.47 1.35L5.41 20z\"/>\n",
              "  </svg>\n",
              "      </button>\n",
              "      \n",
              "  <style>\n",
              "    .colab-df-container {\n",
              "      display:flex;\n",
              "      flex-wrap:wrap;\n",
              "      gap: 12px;\n",
              "    }\n",
              "\n",
              "    .colab-df-convert {\n",
              "      background-color: #E8F0FE;\n",
              "      border: none;\n",
              "      border-radius: 50%;\n",
              "      cursor: pointer;\n",
              "      display: none;\n",
              "      fill: #1967D2;\n",
              "      height: 32px;\n",
              "      padding: 0 0 0 0;\n",
              "      width: 32px;\n",
              "    }\n",
              "\n",
              "    .colab-df-convert:hover {\n",
              "      background-color: #E2EBFA;\n",
              "      box-shadow: 0px 1px 2px rgba(60, 64, 67, 0.3), 0px 1px 3px 1px rgba(60, 64, 67, 0.15);\n",
              "      fill: #174EA6;\n",
              "    }\n",
              "\n",
              "    [theme=dark] .colab-df-convert {\n",
              "      background-color: #3B4455;\n",
              "      fill: #D2E3FC;\n",
              "    }\n",
              "\n",
              "    [theme=dark] .colab-df-convert:hover {\n",
              "      background-color: #434B5C;\n",
              "      box-shadow: 0px 1px 3px 1px rgba(0, 0, 0, 0.15);\n",
              "      filter: drop-shadow(0px 1px 2px rgba(0, 0, 0, 0.3));\n",
              "      fill: #FFFFFF;\n",
              "    }\n",
              "  </style>\n",
              "\n",
              "      <script>\n",
              "        const buttonEl =\n",
              "          document.querySelector('#df-09b62c68-3dea-4388-af0b-4a770cd6f74d button.colab-df-convert');\n",
              "        buttonEl.style.display =\n",
              "          google.colab.kernel.accessAllowed ? 'block' : 'none';\n",
              "\n",
              "        async function convertToInteractive(key) {\n",
              "          const element = document.querySelector('#df-09b62c68-3dea-4388-af0b-4a770cd6f74d');\n",
              "          const dataTable =\n",
              "            await google.colab.kernel.invokeFunction('convertToInteractive',\n",
              "                                                     [key], {});\n",
              "          if (!dataTable) return;\n",
              "\n",
              "          const docLinkHtml = 'Like what you see? Visit the ' +\n",
              "            '<a target=\"_blank\" href=https://colab.research.google.com/notebooks/data_table.ipynb>data table notebook</a>'\n",
              "            + ' to learn more about interactive tables.';\n",
              "          element.innerHTML = '';\n",
              "          dataTable['output_type'] = 'display_data';\n",
              "          await google.colab.output.renderOutput(dataTable, element);\n",
              "          const docLink = document.createElement('div');\n",
              "          docLink.innerHTML = docLinkHtml;\n",
              "          element.appendChild(docLink);\n",
              "        }\n",
              "      </script>\n",
              "    </div>\n",
              "  </div>\n",
              "  "
            ]
          },
          "metadata": {},
          "execution_count": 2
        }
      ]
    },
    {
      "cell_type": "code",
      "source": [
        "#true features of dataset\n",
        "amazon.shape"
      ],
      "metadata": {
        "colab": {
          "base_uri": "https://localhost:8080/"
        },
        "id": "UqpRnVizfwTB",
        "outputId": "07bd5e0a-3e83-40e7-ff5e-3047d53b4306"
      },
      "execution_count": 3,
      "outputs": [
        {
          "output_type": "execute_result",
          "data": {
            "text/plain": [
              "(20000, 15)"
            ]
          },
          "metadata": {},
          "execution_count": 3
        }
      ]
    },
    {
      "cell_type": "code",
      "source": [
        "amazon.info()"
      ],
      "metadata": {
        "colab": {
          "base_uri": "https://localhost:8080/"
        },
        "id": "rKsCi1Mqfw6V",
        "outputId": "95c88528-e35e-49c2-9648-24e5721112bb"
      },
      "execution_count": 4,
      "outputs": [
        {
          "output_type": "stream",
          "name": "stdout",
          "text": [
            "<class 'pandas.core.frame.DataFrame'>\n",
            "RangeIndex: 20000 entries, 0 to 19999\n",
            "Data columns (total 15 columns):\n",
            " #   Column                   Non-Null Count  Dtype \n",
            "---  ------                   --------------  ----- \n",
            " 0   uniq_id                  20000 non-null  object\n",
            " 1   crawl_timestamp          20000 non-null  object\n",
            " 2   product_url              20000 non-null  object\n",
            " 3   product_name             20000 non-null  object\n",
            " 4   product_category_tree    20000 non-null  object\n",
            " 5   pid                      20000 non-null  object\n",
            " 6   retail_price             20000 non-null  int64 \n",
            " 7   discounted_price         20000 non-null  int64 \n",
            " 8   image                    19997 non-null  object\n",
            " 9   is_FK_Advantage_product  20000 non-null  bool  \n",
            " 10  description              19998 non-null  object\n",
            " 11  product_rating           20000 non-null  object\n",
            " 12  overall_rating           20000 non-null  object\n",
            " 13  brand                    14136 non-null  object\n",
            " 14  product_specifications   19986 non-null  object\n",
            "dtypes: bool(1), int64(2), object(12)\n",
            "memory usage: 2.2+ MB\n"
          ]
        }
      ]
    },
    {
      "cell_type": "code",
      "source": [
        "#null values\n",
        "amazon.isnull().sum()"
      ],
      "metadata": {
        "colab": {
          "base_uri": "https://localhost:8080/"
        },
        "id": "kG0-lUUufw74",
        "outputId": "5d2ae03b-e86e-4847-ef2c-67e52a411daa"
      },
      "execution_count": 5,
      "outputs": [
        {
          "output_type": "execute_result",
          "data": {
            "text/plain": [
              "uniq_id                       0\n",
              "crawl_timestamp               0\n",
              "product_url                   0\n",
              "product_name                  0\n",
              "product_category_tree         0\n",
              "pid                           0\n",
              "retail_price                  0\n",
              "discounted_price              0\n",
              "image                         3\n",
              "is_FK_Advantage_product       0\n",
              "description                   2\n",
              "product_rating                0\n",
              "overall_rating                0\n",
              "brand                      5864\n",
              "product_specifications       14\n",
              "dtype: int64"
            ]
          },
          "metadata": {},
          "execution_count": 5
        }
      ]
    },
    {
      "cell_type": "code",
      "source": [
        "#removing null values\n",
        "amazon=amazon.dropna(axis=0)"
      ],
      "metadata": {
        "id": "ugAgH7rlfxAL"
      },
      "execution_count": 6,
      "outputs": []
    },
    {
      "cell_type": "code",
      "source": [
        "amazon.shape"
      ],
      "metadata": {
        "colab": {
          "base_uri": "https://localhost:8080/"
        },
        "id": "GDaQ0X1hfxBd",
        "outputId": "623908e5-9613-4341-e5cf-589801d0e69b"
      },
      "execution_count": 7,
      "outputs": [
        {
          "output_type": "execute_result",
          "data": {
            "text/plain": [
              "(14121, 15)"
            ]
          },
          "metadata": {},
          "execution_count": 7
        }
      ]
    },
    {
      "cell_type": "code",
      "source": [
        "amazon.isnull().sum()"
      ],
      "metadata": {
        "colab": {
          "base_uri": "https://localhost:8080/"
        },
        "id": "hbwc8XhSghQT",
        "outputId": "caa18683-2c40-4949-a091-3fb55a869c0e"
      },
      "execution_count": 8,
      "outputs": [
        {
          "output_type": "execute_result",
          "data": {
            "text/plain": [
              "uniq_id                    0\n",
              "crawl_timestamp            0\n",
              "product_url                0\n",
              "product_name               0\n",
              "product_category_tree      0\n",
              "pid                        0\n",
              "retail_price               0\n",
              "discounted_price           0\n",
              "image                      0\n",
              "is_FK_Advantage_product    0\n",
              "description                0\n",
              "product_rating             0\n",
              "overall_rating             0\n",
              "brand                      0\n",
              "product_specifications     0\n",
              "dtype: int64"
            ]
          },
          "metadata": {},
          "execution_count": 8
        }
      ]
    },
    {
      "cell_type": "code",
      "source": [
        "#plot to say no null values are present\n",
        "plt.figure(figsize=(10,5))\n",
        "sns.heatmap(amazon.isnull(),cbar=False,yticklabels=False)"
      ],
      "metadata": {
        "colab": {
          "base_uri": "https://localhost:8080/",
          "height": 454
        },
        "id": "kUnXg9cLghEz",
        "outputId": "76f1262f-619e-4b9d-f23b-5b017a61001b"
      },
      "execution_count": 9,
      "outputs": [
        {
          "output_type": "execute_result",
          "data": {
            "text/plain": [
              "<matplotlib.axes._subplots.AxesSubplot at 0x7f498b9f0730>"
            ]
          },
          "metadata": {},
          "execution_count": 9
        },
        {
          "output_type": "display_data",
          "data": {
            "text/plain": [
              "<Figure size 720x360 with 1 Axes>"
            ],
            "image/png": "[encoded data removed]"
          },
          "metadata": {
            "needs_background": "light"
          }
        }
      ]
    },
    {
      "cell_type": "markdown",
      "source": [
        "##FLIPKART"
      ],
      "metadata": {
        "id": "9GYpP3gtCLhN"
      }
    },
    {
      "cell_type": "code",
      "source": [
        "flipkart = pd.read_csv('/content/drive/MyDrive/flipkart_com-ecommerce_sample.csv')\n",
        "flipkart.head()"
      ],
      "metadata": {
        "colab": {
          "base_uri": "https://localhost:8080/",
          "height": 531
        },
        "id": "fz3dTyQUb8EE",
        "outputId": "4c193cec-1032-476f-e2cb-38a89d86eda4"
      },
      "execution_count": 10,
      "outputs": [
        {
          "output_type": "execute_result",
          "data": {
            "text/plain": [
              "                            uniq_id            crawl_timestamp  \\\n",
              "0  c2d766ca982eca8304150849735ffef9  2016-03-25 22:59:23 +0000   \n",
              "1  7f7036a6d550aaa89d34c77bd39a5e48  2016-03-25 22:59:23 +0000   \n",
              "2  f449ec65dcbc041b6ae5e6a32717d01b  2016-03-25 22:59:23 +0000   \n",
              "3  0973b37acd0c664e3de26e97e5571454  2016-03-25 22:59:23 +0000   \n",
              "4  bc940ea42ee6bef5ac7cea3fb5cfbee7  2016-03-25 22:59:23 +0000   \n",
              "\n",
              "                                         product_url  \\\n",
              "0  http://www.flipkart.com/alisha-solid-women-s-c...   \n",
              "1  http://www.flipkart.com/fabhomedecor-fabric-do...   \n",
              "2  http://www.flipkart.com/aw-bellies/p/itmeh4grg...   \n",
              "3  http://www.flipkart.com/alisha-solid-women-s-c...   \n",
              "4  http://www.flipkart.com/sicons-all-purpose-arn...   \n",
              "\n",
              "                            product_name  \\\n",
              "0    Alisha Solid Women's Cycling Shorts   \n",
              "1    FabHomeDecor Fabric Double Sofa Bed   \n",
              "2                             AW Bellies   \n",
              "3    Alisha Solid Women's Cycling Shorts   \n",
              "4  Sicons All Purpose Arnica Dog Shampoo   \n",
              "\n",
              "                               product_category_tree               pid  \\\n",
              "0  [\"Clothing >> Women's Clothing >> Lingerie, Sl...  SRTEH2FF9KEDEFGF   \n",
              "1  [\"Furniture >> Living Room Furniture >> Sofa B...  SBEEH3QGU7MFYJFY   \n",
              "2  [\"Footwear >> Women's Footwear >> Ballerinas >...  SHOEH4GRSUBJGZXE   \n",
              "3  [\"Clothing >> Women's Clothing >> Lingerie, Sl...  SRTEH2F6HUZMQ6SJ   \n",
              "4  [\"Pet Supplies >> Grooming >> Skin & Coat Care...  PSOEH3ZYDMSYARJ5   \n",
              "\n",
              "   retail_price  discounted_price  \\\n",
              "0         999.0             379.0   \n",
              "1       32157.0           22646.0   \n",
              "2         999.0             499.0   \n",
              "3         699.0             267.0   \n",
              "4         220.0             210.0   \n",
              "\n",
              "                                               image  is_FK_Advantage_product  \\\n",
              "0  [\"http://img5a.flixcart.com/image/short/u/4/a/...                    False   \n",
              "1  [\"http://img6a.flixcart.com/image/sofa-bed/j/f...                    False   \n",
              "2  [\"http://img5a.flixcart.com/image/shoe/7/z/z/r...                    False   \n",
              "3  [\"http://img5a.flixcart.com/image/short/6/2/h/...                    False   \n",
              "4  [\"http://img5a.flixcart.com/image/pet-shampoo/...                    False   \n",
              "\n",
              "                                         description       product_rating  \\\n",
              "0  Key Features of Alisha Solid Women's Cycling S...  No rating available   \n",
              "1  FabHomeDecor Fabric Double Sofa Bed (Finish Co...  No rating available   \n",
              "2  Key Features of AW Bellies Sandals Wedges Heel...  No rating available   \n",
              "3  Key Features of Alisha Solid Women's Cycling S...  No rating available   \n",
              "4  Specifications of Sicons All Purpose Arnica Do...  No rating available   \n",
              "\n",
              "        overall_rating         brand  \\\n",
              "0  No rating available        Alisha   \n",
              "1  No rating available  FabHomeDecor   \n",
              "2  No rating available            AW   \n",
              "3  No rating available        Alisha   \n",
              "4  No rating available        Sicons   \n",
              "\n",
              "                              product_specifications  \n",
              "0  {\"product_specification\"=>[{\"key\"=>\"Number of ...  \n",
              "1  {\"product_specification\"=>[{\"key\"=>\"Installati...  \n",
              "2  {\"product_specification\"=>[{\"key\"=>\"Ideal For\"...  \n",
              "3  {\"product_specification\"=>[{\"key\"=>\"Number of ...  \n",
              "4  {\"product_specification\"=>[{\"key\"=>\"Pet Type\",...  "
            ],
            "text/html": [
              "\n",
              "  <div id=\"df-d1b4e3a5-fa94-430c-a54d-e7173b254e21\">\n",
              "    <div class=\"colab-df-container\">\n",
              "      <div>\n",
              "<style scoped>\n",
              "    .dataframe tbody tr th:only-of-type {\n",
              "        vertical-align: middle;\n",
              "    }\n",
              "\n",
              "    .dataframe tbody tr th {\n",
              "        vertical-align: top;\n",
              "    }\n",
              "\n",
              "    .dataframe thead th {\n",
              "        text-align: right;\n",
              "    }\n",
              "</style>\n",
              "<table border=\"1\" class=\"dataframe\">\n",
              "  <thead>\n",
              "    <tr style=\"text-align: right;\">\n",
              "      <th></th>\n",
              "      <th>uniq_id</th>\n",
              "      <th>crawl_timestamp</th>\n",
              "      <th>product_url</th>\n",
              "      <th>product_name</th>\n",
              "      <th>product_category_tree</th>\n",
              "      <th>pid</th>\n",
              "      <th>retail_price</th>\n",
              "      <th>discounted_price</th>\n",
              "      <th>image</th>\n",
              "      <th>is_FK_Advantage_product</th>\n",
              "      <th>description</th>\n",
              "      <th>product_rating</th>\n",
              "      <th>overall_rating</th>\n",
              "      <th>brand</th>\n",
              "      <th>product_specifications</th>\n",
              "    </tr>\n",
              "  </thead>\n",
              "  <tbody>\n",
              "    <tr>\n",
              "      <th>0</th>\n",
              "      <td>c2d766ca982eca8304150849735ffef9</td>\n",
              "      <td>2016-03-25 22:59:23 +0000</td>\n",
              "      <td>http://www.flipkart.com/alisha-solid-women-s-c...</td>\n",
              "      <td>Alisha Solid Women's Cycling Shorts</td>\n",
              "      <td>[\"Clothing &gt;&gt; Women's Clothing &gt;&gt; Lingerie, Sl...</td>\n",
              "      <td>SRTEH2FF9KEDEFGF</td>\n",
              "      <td>999.0</td>\n",
              "      <td>379.0</td>\n",
              "      <td>[\"http://img5a.flixcart.com/image/short/u/4/a/...</td>\n",
              "      <td>False</td>\n",
              "      <td>Key Features of Alisha Solid Women's Cycling S...</td>\n",
              "      <td>No rating available</td>\n",
              "      <td>No rating available</td>\n",
              "      <td>Alisha</td>\n",
              "      <td>{\"product_specification\"=&gt;[{\"key\"=&gt;\"Number of ...</td>\n",
              "    </tr>\n",
              "    <tr>\n",
              "      <th>1</th>\n",
              "      <td>7f7036a6d550aaa89d34c77bd39a5e48</td>\n",
              "      <td>2016-03-25 22:59:23 +0000</td>\n",
              "      <td>http://www.flipkart.com/fabhomedecor-fabric-do...</td>\n",
              "      <td>FabHomeDecor Fabric Double Sofa Bed</td>\n",
              "      <td>[\"Furniture &gt;&gt; Living Room Furniture &gt;&gt; Sofa B...</td>\n",
              "      <td>SBEEH3QGU7MFYJFY</td>\n",
              "      <td>32157.0</td>\n",
              "      <td>22646.0</td>\n",
              "      <td>[\"http://img6a.flixcart.com/image/sofa-bed/j/f...</td>\n",
              "      <td>False</td>\n",
              "      <td>FabHomeDecor Fabric Double Sofa Bed (Finish Co...</td>\n",
              "      <td>No rating available</td>\n",
              "      <td>No rating available</td>\n",
              "      <td>FabHomeDecor</td>\n",
              "      <td>{\"product_specification\"=&gt;[{\"key\"=&gt;\"Installati...</td>\n",
              "    </tr>\n",
              "    <tr>\n",
              "      <th>2</th>\n",
              "      <td>f449ec65dcbc041b6ae5e6a32717d01b</td>\n",
              "      <td>2016-03-25 22:59:23 +0000</td>\n",
              "      <td>http://www.flipkart.com/aw-bellies/p/itmeh4grg...</td>\n",
              "      <td>AW Bellies</td>\n",
              "      <td>[\"Footwear &gt;&gt; Women's Footwear &gt;&gt; Ballerinas &gt;...</td>\n",
              "      <td>SHOEH4GRSUBJGZXE</td>\n",
              "      <td>999.0</td>\n",
              "      <td>499.0</td>\n",
              "      <td>[\"http://img5a.flixcart.com/image/shoe/7/z/z/r...</td>\n",
              "      <td>False</td>\n",
              "      <td>Key Features of AW Bellies Sandals Wedges Heel...</td>\n",
              "      <td>No rating available</td>\n",
              "      <td>No rating available</td>\n",
              "      <td>AW</td>\n",
              "      <td>{\"product_specification\"=&gt;[{\"key\"=&gt;\"Ideal For\"...</td>\n",
              "    </tr>\n",
              "    <tr>\n",
              "      <th>3</th>\n",
              "      <td>0973b37acd0c664e3de26e97e5571454</td>\n",
              "      <td>2016-03-25 22:59:23 +0000</td>\n",
              "      <td>http://www.flipkart.com/alisha-solid-women-s-c...</td>\n",
              "      <td>Alisha Solid Women's Cycling Shorts</td>\n",
              "      <td>[\"Clothing &gt;&gt; Women's Clothing &gt;&gt; Lingerie, Sl...</td>\n",
              "      <td>SRTEH2F6HUZMQ6SJ</td>\n",
              "      <td>699.0</td>\n",
              "      <td>267.0</td>\n",
              "      <td>[\"http://img5a.flixcart.com/image/short/6/2/h/...</td>\n",
              "      <td>False</td>\n",
              "      <td>Key Features of Alisha Solid Women's Cycling S...</td>\n",
              "      <td>No rating available</td>\n",
              "      <td>No rating available</td>\n",
              "      <td>Alisha</td>\n",
              "      <td>{\"product_specification\"=&gt;[{\"key\"=&gt;\"Number of ...</td>\n",
              "    </tr>\n",
              "    <tr>\n",
              "      <th>4</th>\n",
              "      <td>bc940ea42ee6bef5ac7cea3fb5cfbee7</td>\n",
              "      <td>2016-03-25 22:59:23 +0000</td>\n",
              "      <td>http://www.flipkart.com/sicons-all-purpose-arn...</td>\n",
              "      <td>Sicons All Purpose Arnica Dog Shampoo</td>\n",
              "      <td>[\"Pet Supplies &gt;&gt; Grooming &gt;&gt; Skin &amp; Coat Care...</td>\n",
              "      <td>PSOEH3ZYDMSYARJ5</td>\n",
              "      <td>220.0</td>\n",
              "      <td>210.0</td>\n",
              "      <td>[\"http://img5a.flixcart.com/image/pet-shampoo/...</td>\n",
              "      <td>False</td>\n",
              "      <td>Specifications of Sicons All Purpose Arnica Do...</td>\n",
              "      <td>No rating available</td>\n",
              "      <td>No rating available</td>\n",
              "      <td>Sicons</td>\n",
              "      <td>{\"product_specification\"=&gt;[{\"key\"=&gt;\"Pet Type\",...</td>\n",
              "    </tr>\n",
              "  </tbody>\n",
              "</table>\n",
              "</div>\n",
              "      <button class=\"colab-df-convert\" onclick=\"convertToInteractive('df-d1b4e3a5-fa94-430c-a54d-e7173b254e21')\"\n",
              "              title=\"Convert this dataframe to an interactive table.\"\n",
              "              style=\"display:none;\">\n",
              "        \n",
              "  <svg xmlns=\"http://www.w3.org/2000/svg\" height=\"24px\"viewBox=\"0 0 24 24\"\n",
              "       width=\"24px\">\n",
              "    <path d=\"M0 0h24v24H0V0z\" fill=\"none\"/>\n",
              "    <path d=\"M18.56 5.44l.94 2.06.94-2.06 2.06-.94-2.06-.94-.94-2.06-.94 2.06-2.06.94zm-11 1L8.5 8.5l.94-2.06 2.06-.94-2.06-.94L8.5 2.5l-.94 2.06-2.06.94zm10 10l.94 2.06.94-2.06 2.06-.94-2.06-.94-.94-2.06-.94 2.06-2.06.94z\"/><path d=\"M17.41 7.96l-1.37-1.37c-.4-.4-.92-.59-1.43-.59-.52 0-1.04.2-1.43.59L10.3 9.45l-7.72 7.72c-.78.78-.78 2.05 0 2.83L4 21.41c.39.39.9.59 1.41.59.51 0 1.02-.2 1.41-.59l7.78-7.78 2.81-2.81c.8-.78.8-2.07 0-2.86zM5.41 20L4 18.59l7.72-7.72 1.47 1.35L5.41 20z\"/>\n",
              "  </svg>\n",
              "      </button>\n",
              "      \n",
              "  <style>\n",
              "    .colab-df-container {\n",
              "      display:flex;\n",
              "      flex-wrap:wrap;\n",
              "      gap: 12px;\n",
              "    }\n",
              "\n",
              "    .colab-df-convert {\n",
              "      background-color: #E8F0FE;\n",
              "      border: none;\n",
              "      border-radius: 50%;\n",
              "      cursor: pointer;\n",
              "      display: none;\n",
              "      fill: #1967D2;\n",
              "      height: 32px;\n",
              "      padding: 0 0 0 0;\n",
              "      width: 32px;\n",
              "    }\n",
              "\n",
              "    .colab-df-convert:hover {\n",
              "      background-color: #E2EBFA;\n",
              "      box-shadow: 0px 1px 2px rgba(60, 64, 67, 0.3), 0px 1px 3px 1px rgba(60, 64, 67, 0.15);\n",
              "      fill: #174EA6;\n",
              "    }\n",
              "\n",
              "    [theme=dark] .colab-df-convert {\n",
              "      background-color: #3B4455;\n",
              "      fill: #D2E3FC;\n",
              "    }\n",
              "\n",
              "    [theme=dark] .colab-df-convert:hover {\n",
              "      background-color: #434B5C;\n",
              "      box-shadow: 0px 1px 3px 1px rgba(0, 0, 0, 0.15);\n",
              "      filter: drop-shadow(0px 1px 2px rgba(0, 0, 0, 0.3));\n",
              "      fill: #FFFFFF;\n",
              "    }\n",
              "  </style>\n",
              "\n",
              "      <script>\n",
              "        const buttonEl =\n",
              "          document.querySelector('#df-d1b4e3a5-fa94-430c-a54d-e7173b254e21 button.colab-df-convert');\n",
              "        buttonEl.style.display =\n",
              "          google.colab.kernel.accessAllowed ? 'block' : 'none';\n",
              "\n",
              "        async function convertToInteractive(key) {\n",
              "          const element = document.querySelector('#df-d1b4e3a5-fa94-430c-a54d-e7173b254e21');\n",
              "          const dataTable =\n",
              "            await google.colab.kernel.invokeFunction('convertToInteractive',\n",
              "                                                     [key], {});\n",
              "          if (!dataTable) return;\n",
              "\n",
              "          const docLinkHtml = 'Like what you see? Visit the ' +\n",
              "            '<a target=\"_blank\" href=https://colab.research.google.com/notebooks/data_table.ipynb>data table notebook</a>'\n",
              "            + ' to learn more about interactive tables.';\n",
              "          element.innerHTML = '';\n",
              "          dataTable['output_type'] = 'display_data';\n",
              "          await google.colab.output.renderOutput(dataTable, element);\n",
              "          const docLink = document.createElement('div');\n",
              "          docLink.innerHTML = docLinkHtml;\n",
              "          element.appendChild(docLink);\n",
              "        }\n",
              "      </script>\n",
              "    </div>\n",
              "  </div>\n",
              "  "
            ]
          },
          "metadata": {},
          "execution_count": 10
        }
      ]
    },
    {
      "cell_type": "code",
      "source": [
        "#true features of dataset\n",
        "flipkart.shape"
      ],
      "metadata": {
        "colab": {
          "base_uri": "https://localhost:8080/"
        },
        "id": "1NC27ZTvgvar",
        "outputId": "bda676c4-cd6d-4df3-f994-7b4190e4a3b5"
      },
      "execution_count": 11,
      "outputs": [
        {
          "output_type": "execute_result",
          "data": {
            "text/plain": [
              "(20000, 15)"
            ]
          },
          "metadata": {},
          "execution_count": 11
        }
      ]
    },
    {
      "cell_type": "code",
      "source": [
        "flipkart.info()"
      ],
      "metadata": {
        "colab": {
          "base_uri": "https://localhost:8080/"
        },
        "id": "pzWYVUqHgvci",
        "outputId": "5bc24418-bb52-4d8e-82f1-10db08f645ac"
      },
      "execution_count": 12,
      "outputs": [
        {
          "output_type": "stream",
          "name": "stdout",
          "text": [
            "<class 'pandas.core.frame.DataFrame'>\n",
            "RangeIndex: 20000 entries, 0 to 19999\n",
            "Data columns (total 15 columns):\n",
            " #   Column                   Non-Null Count  Dtype  \n",
            "---  ------                   --------------  -----  \n",
            " 0   uniq_id                  20000 non-null  object \n",
            " 1   crawl_timestamp          20000 non-null  object \n",
            " 2   product_url              20000 non-null  object \n",
            " 3   product_name             20000 non-null  object \n",
            " 4   product_category_tree    20000 non-null  object \n",
            " 5   pid                      20000 non-null  object \n",
            " 6   retail_price             19922 non-null  float64\n",
            " 7   discounted_price         19922 non-null  float64\n",
            " 8   image                    19997 non-null  object \n",
            " 9   is_FK_Advantage_product  20000 non-null  bool   \n",
            " 10  description              19998 non-null  object \n",
            " 11  product_rating           20000 non-null  object \n",
            " 12  overall_rating           20000 non-null  object \n",
            " 13  brand                    14136 non-null  object \n",
            " 14  product_specifications   19986 non-null  object \n",
            "dtypes: bool(1), float64(2), object(12)\n",
            "memory usage: 2.2+ MB\n"
          ]
        }
      ]
    },
    {
      "cell_type": "code",
      "source": [
        "#null values in dataset\n",
        "flipkart.isnull().sum()"
      ],
      "metadata": {
        "colab": {
          "base_uri": "https://localhost:8080/"
        },
        "id": "BpmuSBYzgvgn",
        "outputId": "323956a2-cbde-4436-8bde-938e10a4784a"
      },
      "execution_count": 13,
      "outputs": [
        {
          "output_type": "execute_result",
          "data": {
            "text/plain": [
              "uniq_id                       0\n",
              "crawl_timestamp               0\n",
              "product_url                   0\n",
              "product_name                  0\n",
              "product_category_tree         0\n",
              "pid                           0\n",
              "retail_price                 78\n",
              "discounted_price             78\n",
              "image                         3\n",
              "is_FK_Advantage_product       0\n",
              "description                   2\n",
              "product_rating                0\n",
              "overall_rating                0\n",
              "brand                      5864\n",
              "product_specifications       14\n",
              "dtype: int64"
            ]
          },
          "metadata": {},
          "execution_count": 13
        }
      ]
    },
    {
      "cell_type": "code",
      "source": [
        "#removing null values\n",
        "flipkart=flipkart.dropna(axis=0)"
      ],
      "metadata": {
        "id": "W4I3VJfFgviH"
      },
      "execution_count": 14,
      "outputs": []
    },
    {
      "cell_type": "code",
      "source": [
        "flipkart.shape"
      ],
      "metadata": {
        "colab": {
          "base_uri": "https://localhost:8080/"
        },
        "id": "o0L4-mvjgvnP",
        "outputId": "d2983269-3ec3-4b51-ff4b-2a0fa48577ea"
      },
      "execution_count": 15,
      "outputs": [
        {
          "output_type": "execute_result",
          "data": {
            "text/plain": [
              "(14058, 15)"
            ]
          },
          "metadata": {},
          "execution_count": 15
        }
      ]
    },
    {
      "cell_type": "code",
      "source": [
        "flipkart.isnull().sum()"
      ],
      "metadata": {
        "colab": {
          "base_uri": "https://localhost:8080/"
        },
        "id": "yTfBxHaBhDhW",
        "outputId": "686647d2-ef2b-41cd-c1a9-1ab3384d1998"
      },
      "execution_count": 16,
      "outputs": [
        {
          "output_type": "execute_result",
          "data": {
            "text/plain": [
              "uniq_id                    0\n",
              "crawl_timestamp            0\n",
              "product_url                0\n",
              "product_name               0\n",
              "product_category_tree      0\n",
              "pid                        0\n",
              "retail_price               0\n",
              "discounted_price           0\n",
              "image                      0\n",
              "is_FK_Advantage_product    0\n",
              "description                0\n",
              "product_rating             0\n",
              "overall_rating             0\n",
              "brand                      0\n",
              "product_specifications     0\n",
              "dtype: int64"
            ]
          },
          "metadata": {},
          "execution_count": 16
        }
      ]
    },
    {
      "cell_type": "code",
      "source": [
        "#plot to show no null values\n",
        "plt.figure(figsize=(10,5))\n",
        "sns.heatmap(flipkart.isnull(),cbar=False,yticklabels=False)"
      ],
      "metadata": {
        "colab": {
          "base_uri": "https://localhost:8080/",
          "height": 454
        },
        "id": "flyNrEMThGYF",
        "outputId": "934db7b6-bca3-4a8b-e9ba-25d85fcf9a71"
      },
      "execution_count": 17,
      "outputs": [
        {
          "output_type": "execute_result",
          "data": {
            "text/plain": [
              "<matplotlib.axes._subplots.AxesSubplot at 0x7f4976216070>"
            ]
          },
          "metadata": {},
          "execution_count": 17
        },
        {
          "output_type": "display_data",
          "data": {
            "text/plain": [
              "<Figure size 720x360 with 1 Axes>"
            ],
            "image/png": "[encoded data removed]"
          },
          "metadata": {
            "needs_background": "light"
          }
        }
      ]
    },
    {
      "cell_type": "markdown",
      "source": [
        "#Comparing amazon and flipkart dataset"
      ],
      "metadata": {
        "id": "7SDucQNUCkjj"
      }
    },
    {
      "cell_type": "code",
      "source": [
        "#more about amazon dataset\n",
        "amazon.describe()"
      ],
      "metadata": {
        "colab": {
          "base_uri": "https://localhost:8080/",
          "height": 300
        },
        "id": "FrFFIbYrhU-D",
        "outputId": "9a38e29c-3b41-41fa-ba85-6095b1eeb32d"
      },
      "execution_count": 18,
      "outputs": [
        {
          "output_type": "execute_result",
          "data": {
            "text/plain": [
              "        retail_price  discounted_price\n",
              "count   14121.000000      14121.000000\n",
              "mean     3613.789958       2894.159833\n",
              "std      9254.650945       8371.012632\n",
              "min       -20.000000          0.000000\n",
              "25%       686.000000        416.000000\n",
              "50%      1092.000000        661.000000\n",
              "75%      2186.000000       1474.000000\n",
              "max    250483.000000     207175.000000"
            ],
            "text/html": [
              "\n",
              "  <div id=\"df-78817a4a-80e7-4c6a-9633-3d66413d00ea\">\n",
              "    <div class=\"colab-df-container\">\n",
              "      <div>\n",
              "<style scoped>\n",
              "    .dataframe tbody tr th:only-of-type {\n",
              "        vertical-align: middle;\n",
              "    }\n",
              "\n",
              "    .dataframe tbody tr th {\n",
              "        vertical-align: top;\n",
              "    }\n",
              "\n",
              "    .dataframe thead th {\n",
              "        text-align: right;\n",
              "    }\n",
              "</style>\n",
              "<table border=\"1\" class=\"dataframe\">\n",
              "  <thead>\n",
              "    <tr style=\"text-align: right;\">\n",
              "      <th></th>\n",
              "      <th>retail_price</th>\n",
              "      <th>discounted_price</th>\n",
              "    </tr>\n",
              "  </thead>\n",
              "  <tbody>\n",
              "    <tr>\n",
              "      <th>count</th>\n",
              "      <td>14121.000000</td>\n",
              "      <td>14121.000000</td>\n",
              "    </tr>\n",
              "    <tr>\n",
              "      <th>mean</th>\n",
              "      <td>3613.789958</td>\n",
              "      <td>2894.159833</td>\n",
              "    </tr>\n",
              "    <tr>\n",
              "      <th>std</th>\n",
              "      <td>9254.650945</td>\n",
              "      <td>8371.012632</td>\n",
              "    </tr>\n",
              "    <tr>\n",
              "      <th>min</th>\n",
              "      <td>-20.000000</td>\n",
              "      <td>0.000000</td>\n",
              "    </tr>\n",
              "    <tr>\n",
              "      <th>25%</th>\n",
              "      <td>686.000000</td>\n",
              "      <td>416.000000</td>\n",
              "    </tr>\n",
              "    <tr>\n",
              "      <th>50%</th>\n",
              "      <td>1092.000000</td>\n",
              "      <td>661.000000</td>\n",
              "    </tr>\n",
              "    <tr>\n",
              "      <th>75%</th>\n",
              "      <td>2186.000000</td>\n",
              "      <td>1474.000000</td>\n",
              "    </tr>\n",
              "    <tr>\n",
              "      <th>max</th>\n",
              "      <td>250483.000000</td>\n",
              "      <td>207175.000000</td>\n",
              "    </tr>\n",
              "  </tbody>\n",
              "</table>\n",
              "</div>\n",
              "      <button class=\"colab-df-convert\" onclick=\"convertToInteractive('df-78817a4a-80e7-4c6a-9633-3d66413d00ea')\"\n",
              "              title=\"Convert this dataframe to an interactive table.\"\n",
              "              style=\"display:none;\">\n",
              "        \n",
              "  <svg xmlns=\"http://www.w3.org/2000/svg\" height=\"24px\"viewBox=\"0 0 24 24\"\n",
              "       width=\"24px\">\n",
              "    <path d=\"M0 0h24v24H0V0z\" fill=\"none\"/>\n",
              "    <path d=\"M18.56 5.44l.94 2.06.94-2.06 2.06-.94-2.06-.94-.94-2.06-.94 2.06-2.06.94zm-11 1L8.5 8.5l.94-2.06 2.06-.94-2.06-.94L8.5 2.5l-.94 2.06-2.06.94zm10 10l.94 2.06.94-2.06 2.06-.94-2.06-.94-.94-2.06-.94 2.06-2.06.94z\"/><path d=\"M17.41 7.96l-1.37-1.37c-.4-.4-.92-.59-1.43-.59-.52 0-1.04.2-1.43.59L10.3 9.45l-7.72 7.72c-.78.78-.78 2.05 0 2.83L4 21.41c.39.39.9.59 1.41.59.51 0 1.02-.2 1.41-.59l7.78-7.78 2.81-2.81c.8-.78.8-2.07 0-2.86zM5.41 20L4 18.59l7.72-7.72 1.47 1.35L5.41 20z\"/>\n",
              "  </svg>\n",
              "      </button>\n",
              "      \n",
              "  <style>\n",
              "    .colab-df-container {\n",
              "      display:flex;\n",
              "      flex-wrap:wrap;\n",
              "      gap: 12px;\n",
              "    }\n",
              "\n",
              "    .colab-df-convert {\n",
              "      background-color: #E8F0FE;\n",
              "      border: none;\n",
              "      border-radius: 50%;\n",
              "      cursor: pointer;\n",
              "      display: none;\n",
              "      fill: #1967D2;\n",
              "      height: 32px;\n",
              "      padding: 0 0 0 0;\n",
              "      width: 32px;\n",
              "    }\n",
              "\n",
              "    .colab-df-convert:hover {\n",
              "      background-color: #E2EBFA;\n",
              "      box-shadow: 0px 1px 2px rgba(60, 64, 67, 0.3), 0px 1px 3px 1px rgba(60, 64, 67, 0.15);\n",
              "      fill: #174EA6;\n",
              "    }\n",
              "\n",
              "    [theme=dark] .colab-df-convert {\n",
              "      background-color: #3B4455;\n",
              "      fill: #D2E3FC;\n",
              "    }\n",
              "\n",
              "    [theme=dark] .colab-df-convert:hover {\n",
              "      background-color: #434B5C;\n",
              "      box-shadow: 0px 1px 3px 1px rgba(0, 0, 0, 0.15);\n",
              "      filter: drop-shadow(0px 1px 2px rgba(0, 0, 0, 0.3));\n",
              "      fill: #FFFFFF;\n",
              "    }\n",
              "  </style>\n",
              "\n",
              "      <script>\n",
              "        const buttonEl =\n",
              "          document.querySelector('#df-78817a4a-80e7-4c6a-9633-3d66413d00ea button.colab-df-convert');\n",
              "        buttonEl.style.display =\n",
              "          google.colab.kernel.accessAllowed ? 'block' : 'none';\n",
              "\n",
              "        async function convertToInteractive(key) {\n",
              "          const element = document.querySelector('#df-78817a4a-80e7-4c6a-9633-3d66413d00ea');\n",
              "          const dataTable =\n",
              "            await google.colab.kernel.invokeFunction('convertToInteractive',\n",
              "                                                     [key], {});\n",
              "          if (!dataTable) return;\n",
              "\n",
              "          const docLinkHtml = 'Like what you see? Visit the ' +\n",
              "            '<a target=\"_blank\" href=https://colab.research.google.com/notebooks/data_table.ipynb>data table notebook</a>'\n",
              "            + ' to learn more about interactive tables.';\n",
              "          element.innerHTML = '';\n",
              "          dataTable['output_type'] = 'display_data';\n",
              "          await google.colab.output.renderOutput(dataTable, element);\n",
              "          const docLink = document.createElement('div');\n",
              "          docLink.innerHTML = docLinkHtml;\n",
              "          element.appendChild(docLink);\n",
              "        }\n",
              "      </script>\n",
              "    </div>\n",
              "  </div>\n",
              "  "
            ]
          },
          "metadata": {},
          "execution_count": 18
        }
      ]
    },
    {
      "cell_type": "code",
      "source": [
        "#more about flipkart dataset\n",
        "flipkart.describe()"
      ],
      "metadata": {
        "colab": {
          "base_uri": "https://localhost:8080/",
          "height": 300
        },
        "id": "88Ci5UFshmDI",
        "outputId": "424ed6c3-9989-4b85-fe94-070e7e9b65ec"
      },
      "execution_count": 19,
      "outputs": [
        {
          "output_type": "execute_result",
          "data": {
            "text/plain": [
              "        retail_price  discounted_price\n",
              "count   14058.000000      14058.000000\n",
              "mean     3640.462939       2419.567222\n",
              "std      9272.175892       6949.478890\n",
              "min        35.000000         35.000000\n",
              "25%       699.000000        349.000000\n",
              "50%      1100.000000        549.000000\n",
              "75%      2199.000000       1239.750000\n",
              "max    250500.000000     162825.000000"
            ],
            "text/html": [
              "\n",
              "  <div id=\"df-8446185d-2a39-4781-8c57-7db9700afc00\">\n",
              "    <div class=\"colab-df-container\">\n",
              "      <div>\n",
              "<style scoped>\n",
              "    .dataframe tbody tr th:only-of-type {\n",
              "        vertical-align: middle;\n",
              "    }\n",
              "\n",
              "    .dataframe tbody tr th {\n",
              "        vertical-align: top;\n",
              "    }\n",
              "\n",
              "    .dataframe thead th {\n",
              "        text-align: right;\n",
              "    }\n",
              "</style>\n",
              "<table border=\"1\" class=\"dataframe\">\n",
              "  <thead>\n",
              "    <tr style=\"text-align: right;\">\n",
              "      <th></th>\n",
              "      <th>retail_price</th>\n",
              "      <th>discounted_price</th>\n",
              "    </tr>\n",
              "  </thead>\n",
              "  <tbody>\n",
              "    <tr>\n",
              "      <th>count</th>\n",
              "      <td>14058.000000</td>\n",
              "      <td>14058.000000</td>\n",
              "    </tr>\n",
              "    <tr>\n",
              "      <th>mean</th>\n",
              "      <td>3640.462939</td>\n",
              "      <td>2419.567222</td>\n",
              "    </tr>\n",
              "    <tr>\n",
              "      <th>std</th>\n",
              "      <td>9272.175892</td>\n",
              "      <td>6949.478890</td>\n",
              "    </tr>\n",
              "    <tr>\n",
              "      <th>min</th>\n",
              "      <td>35.000000</td>\n",
              "      <td>35.000000</td>\n",
              "    </tr>\n",
              "    <tr>\n",
              "      <th>25%</th>\n",
              "      <td>699.000000</td>\n",
              "      <td>349.000000</td>\n",
              "    </tr>\n",
              "    <tr>\n",
              "      <th>50%</th>\n",
              "      <td>1100.000000</td>\n",
              "      <td>549.000000</td>\n",
              "    </tr>\n",
              "    <tr>\n",
              "      <th>75%</th>\n",
              "      <td>2199.000000</td>\n",
              "      <td>1239.750000</td>\n",
              "    </tr>\n",
              "    <tr>\n",
              "      <th>max</th>\n",
              "      <td>250500.000000</td>\n",
              "      <td>162825.000000</td>\n",
              "    </tr>\n",
              "  </tbody>\n",
              "</table>\n",
              "</div>\n",
              "      <button class=\"colab-df-convert\" onclick=\"convertToInteractive('df-8446185d-2a39-4781-8c57-7db9700afc00')\"\n",
              "              title=\"Convert this dataframe to an interactive table.\"\n",
              "              style=\"display:none;\">\n",
              "        \n",
              "  <svg xmlns=\"http://www.w3.org/2000/svg\" height=\"24px\"viewBox=\"0 0 24 24\"\n",
              "       width=\"24px\">\n",
              "    <path d=\"M0 0h24v24H0V0z\" fill=\"none\"/>\n",
              "    <path d=\"M18.56 5.44l.94 2.06.94-2.06 2.06-.94-2.06-.94-.94-2.06-.94 2.06-2.06.94zm-11 1L8.5 8.5l.94-2.06 2.06-.94-2.06-.94L8.5 2.5l-.94 2.06-2.06.94zm10 10l.94 2.06.94-2.06 2.06-.94-2.06-.94-.94-2.06-.94 2.06-2.06.94z\"/><path d=\"M17.41 7.96l-1.37-1.37c-.4-.4-.92-.59-1.43-.59-.52 0-1.04.2-1.43.59L10.3 9.45l-7.72 7.72c-.78.78-.78 2.05 0 2.83L4 21.41c.39.39.9.59 1.41.59.51 0 1.02-.2 1.41-.59l7.78-7.78 2.81-2.81c.8-.78.8-2.07 0-2.86zM5.41 20L4 18.59l7.72-7.72 1.47 1.35L5.41 20z\"/>\n",
              "  </svg>\n",
              "      </button>\n",
              "      \n",
              "  <style>\n",
              "    .colab-df-container {\n",
              "      display:flex;\n",
              "      flex-wrap:wrap;\n",
              "      gap: 12px;\n",
              "    }\n",
              "\n",
              "    .colab-df-convert {\n",
              "      background-color: #E8F0FE;\n",
              "      border: none;\n",
              "      border-radius: 50%;\n",
              "      cursor: pointer;\n",
              "      display: none;\n",
              "      fill: #1967D2;\n",
              "      height: 32px;\n",
              "      padding: 0 0 0 0;\n",
              "      width: 32px;\n",
              "    }\n",
              "\n",
              "    .colab-df-convert:hover {\n",
              "      background-color: #E2EBFA;\n",
              "      box-shadow: 0px 1px 2px rgba(60, 64, 67, 0.3), 0px 1px 3px 1px rgba(60, 64, 67, 0.15);\n",
              "      fill: #174EA6;\n",
              "    }\n",
              "\n",
              "    [theme=dark] .colab-df-convert {\n",
              "      background-color: #3B4455;\n",
              "      fill: #D2E3FC;\n",
              "    }\n",
              "\n",
              "    [theme=dark] .colab-df-convert:hover {\n",
              "      background-color: #434B5C;\n",
              "      box-shadow: 0px 1px 3px 1px rgba(0, 0, 0, 0.15);\n",
              "      filter: drop-shadow(0px 1px 2px rgba(0, 0, 0, 0.3));\n",
              "      fill: #FFFFFF;\n",
              "    }\n",
              "  </style>\n",
              "\n",
              "      <script>\n",
              "        const buttonEl =\n",
              "          document.querySelector('#df-8446185d-2a39-4781-8c57-7db9700afc00 button.colab-df-convert');\n",
              "        buttonEl.style.display =\n",
              "          google.colab.kernel.accessAllowed ? 'block' : 'none';\n",
              "\n",
              "        async function convertToInteractive(key) {\n",
              "          const element = document.querySelector('#df-8446185d-2a39-4781-8c57-7db9700afc00');\n",
              "          const dataTable =\n",
              "            await google.colab.kernel.invokeFunction('convertToInteractive',\n",
              "                                                     [key], {});\n",
              "          if (!dataTable) return;\n",
              "\n",
              "          const docLinkHtml = 'Like what you see? Visit the ' +\n",
              "            '<a target=\"_blank\" href=https://colab.research.google.com/notebooks/data_table.ipynb>data table notebook</a>'\n",
              "            + ' to learn more about interactive tables.';\n",
              "          element.innerHTML = '';\n",
              "          dataTable['output_type'] = 'display_data';\n",
              "          await google.colab.output.renderOutput(dataTable, element);\n",
              "          const docLink = document.createElement('div');\n",
              "          docLink.innerHTML = docLinkHtml;\n",
              "          element.appendChild(docLink);\n",
              "        }\n",
              "      </script>\n",
              "    </div>\n",
              "  </div>\n",
              "  "
            ]
          },
          "metadata": {},
          "execution_count": 19
        }
      ]
    },
    {
      "cell_type": "markdown",
      "source": [
        "#Data Visualization\n",
        "\n",
        "The following visualizations have been plotted:\n",
        "\n",
        "* RETAIL PRICE \n",
        "* DISCOUNT PRICE\n",
        "* PRODUCT RATING\n",
        "* OVERALL RATING\n",
        "* IS FK ADVANTAGE OR NOT\n",
        "* BRAND\n",
        "\n"
      ],
      "metadata": {
        "id": "Xq6jdPEyDtYm"
      }
    },
    {
      "cell_type": "markdown",
      "source": [
        "**RETAIL PRICE**"
      ],
      "metadata": {
        "id": "oLygj4_RD09-"
      }
    },
    {
      "cell_type": "code",
      "source": [
        "plt.figure(figsize=(20,8))\n",
        "sns.set(style=\"darkgrid\")\n",
        "sns.histplot(data=amazon,x=\"retail_price\",kde=True, legend=True,bins=70)"
      ],
      "metadata": {
        "colab": {
          "base_uri": "https://localhost:8080/",
          "height": 519
        },
        "id": "AwswmovGhuPw",
        "outputId": "761b144c-9115-42af-b43f-35d7f6a5d430"
      },
      "execution_count": 20,
      "outputs": [
        {
          "output_type": "execute_result",
          "data": {
            "text/plain": [
              "<matplotlib.axes._subplots.AxesSubplot at 0x7f49749e42b0>"
            ]
          },
          "metadata": {},
          "execution_count": 20
        },
        {
          "output_type": "display_data",
          "data": {
            "text/plain": [
              "<Figure size 1440x576 with 1 Axes>"
            ],
            "image/png": "[encoded data removed]"
          },
          "metadata": {
            "needs_background": "light"
          }
        }
      ]
    },
    {
      "cell_type": "code",
      "source": [
        "plt.figure(figsize=(20,8))\n",
        "sns.set(style=\"darkgrid\")\n",
        "sns.histplot(data=flipkart,x=\"retail_price\",kde=True, legend=True,bins=70)"
      ],
      "metadata": {
        "colab": {
          "base_uri": "https://localhost:8080/",
          "height": 519
        },
        "id": "yke4MfInh-D1",
        "outputId": "61fe18a2-8a18-4424-d46c-b2eb4a8fbf06"
      },
      "execution_count": 21,
      "outputs": [
        {
          "output_type": "execute_result",
          "data": {
            "text/plain": [
              "<matplotlib.axes._subplots.AxesSubplot at 0x7f49728a82b0>"
            ]
          },
          "metadata": {},
          "execution_count": 21
        },
        {
          "output_type": "display_data",
          "data": {
            "text/plain": [
              "<Figure size 1440x576 with 1 Axes>"
            ],
            "image/png": "[encoded data removed]"
          },
          "metadata": {}
        }
      ]
    },
    {
      "cell_type": "markdown",
      "source": [
        "**DISCOUNT PRICE**"
      ],
      "metadata": {
        "id": "GCcyQPUMD73W"
      }
    },
    {
      "cell_type": "code",
      "source": [
        "plt.figure(figsize=(20,8))\n",
        "sns.set(style=\"darkgrid\")\n",
        "sns.histplot(data=amazon,x=\"discounted_price\",kde=True, legend=True,bins=70)"
      ],
      "metadata": {
        "colab": {
          "base_uri": "https://localhost:8080/",
          "height": 519
        },
        "id": "NzkU4IpQIi78",
        "outputId": "12df3bd0-aae8-4941-991d-9c1c42c7cf67"
      },
      "execution_count": 22,
      "outputs": [
        {
          "output_type": "execute_result",
          "data": {
            "text/plain": [
              "<matplotlib.axes._subplots.AxesSubplot at 0x7f4972885220>"
            ]
          },
          "metadata": {},
          "execution_count": 22
        },
        {
          "output_type": "display_data",
          "data": {
            "text/plain": [
              "<Figure size 1440x576 with 1 Axes>"
            ],
            "image/png": "[encoded data removed]"
          },
          "metadata": {}
        }
      ]
    },
    {
      "cell_type": "code",
      "source": [
        "plt.figure(figsize=(20,8))\n",
        "sns.set(style=\"darkgrid\")\n",
        "sns.histplot(data=flipkart,x=\"discounted_price\",kde=True, legend=True,bins=70)"
      ],
      "metadata": {
        "colab": {
          "base_uri": "https://localhost:8080/",
          "height": 519
        },
        "id": "pwBCbjwOIoEi",
        "outputId": "e7cf3133-6dbe-42dd-f5f4-cfa3931cd48e"
      },
      "execution_count": 23,
      "outputs": [
        {
          "output_type": "execute_result",
          "data": {
            "text/plain": [
              "<matplotlib.axes._subplots.AxesSubplot at 0x7f497268a670>"
            ]
          },
          "metadata": {},
          "execution_count": 23
        },
        {
          "output_type": "display_data",
          "data": {
            "text/plain": [
              "<Figure size 1440x576 with 1 Axes>"
            ],
            "image/png": "[encoded data removed]"
          },
          "metadata": {}
        }
      ]
    },
    {
      "cell_type": "markdown",
      "source": [
        "**PRODUCT RATING**"
      ],
      "metadata": {
        "id": "kC9n7iTqI3jx"
      }
    },
    {
      "cell_type": "code",
      "source": [
        "amazon[\"product_rating\"].value_counts()"
      ],
      "metadata": {
        "colab": {
          "base_uri": "https://localhost:8080/"
        },
        "id": "4QHLtQYdKAEO",
        "outputId": "69e4b813-d1a9-4050-f30d-596c44e1d923"
      },
      "execution_count": 24,
      "outputs": [
        {
          "output_type": "execute_result",
          "data": {
            "text/plain": [
              "No rating available    13198\n",
              "5                        341\n",
              "4                        114\n",
              "1                         93\n",
              "3                         71\n",
              "2                         31\n",
              "4.2                       31\n",
              "4.5                       25\n",
              "3.7                       23\n",
              "4.3                       21\n",
              "3.5                       18\n",
              "2.5                       17\n",
              "3.6                       13\n",
              "3.8                       11\n",
              "4.8                       11\n",
              "4.1                       11\n",
              "3.2                       10\n",
              "2.3                       10\n",
              "4.4                        9\n",
              "3.9                        8\n",
              "3.3                        8\n",
              "3.4                        7\n",
              "4.7                        7\n",
              "4.6                        5\n",
              "2.8                        4\n",
              "2.7                        3\n",
              "2.9                        3\n",
              "4.9                        3\n",
              "2.4                        3\n",
              "2.2                        3\n",
              "1.5                        2\n",
              "1.3                        2\n",
              "3.1                        2\n",
              "1.7                        1\n",
              "1.8                        1\n",
              "2.6                        1\n",
              "Name: product_rating, dtype: int64"
            ]
          },
          "metadata": {},
          "execution_count": 24
        }
      ]
    },
    {
      "cell_type": "code",
      "source": [
        "#removing no rating available because we cant plot it\n",
        "amazon_product_rating=amazon[amazon[\"product_rating\"]!=\"No rating available\"]"
      ],
      "metadata": {
        "id": "mTqPg2d0I6C2"
      },
      "execution_count": 25,
      "outputs": []
    },
    {
      "cell_type": "code",
      "source": [
        "amazon_product_rating[\"product_rating\"].value_counts()"
      ],
      "metadata": {
        "colab": {
          "base_uri": "https://localhost:8080/"
        },
        "id": "5y2qtmqgJc6i",
        "outputId": "21164b9c-ef56-477f-f5f6-ed29ac19cea0"
      },
      "execution_count": 26,
      "outputs": [
        {
          "output_type": "execute_result",
          "data": {
            "text/plain": [
              "5      341\n",
              "4      114\n",
              "1       93\n",
              "3       71\n",
              "2       31\n",
              "4.2     31\n",
              "4.5     25\n",
              "3.7     23\n",
              "4.3     21\n",
              "3.5     18\n",
              "2.5     17\n",
              "3.6     13\n",
              "3.8     11\n",
              "4.8     11\n",
              "4.1     11\n",
              "3.2     10\n",
              "2.3     10\n",
              "4.4      9\n",
              "3.9      8\n",
              "3.3      8\n",
              "3.4      7\n",
              "4.7      7\n",
              "4.6      5\n",
              "2.8      4\n",
              "2.7      3\n",
              "2.9      3\n",
              "4.9      3\n",
              "2.4      3\n",
              "2.2      3\n",
              "1.5      2\n",
              "1.3      2\n",
              "3.1      2\n",
              "1.7      1\n",
              "1.8      1\n",
              "2.6      1\n",
              "Name: product_rating, dtype: int64"
            ]
          },
          "metadata": {},
          "execution_count": 26
        }
      ]
    },
    {
      "cell_type": "code",
      "source": [
        "amazon_product_rating[\"product_rating\"]=pd.to_numeric(amazon_product_rating[\"product_rating\"])\n",
        "plt.figure(figsize=(15,8))\n",
        "sns.set(style=\"darkgrid\")\n",
        "sns.histplot(data=amazon_product_rating,x=\"product_rating\", legend=True)"
      ],
      "metadata": {
        "colab": {
          "base_uri": "https://localhost:8080/",
          "height": 624
        },
        "id": "3egfXcaiKJ2N",
        "outputId": "7958ddf3-88e8-4059-8a32-ccf6873fea4d"
      },
      "execution_count": 27,
      "outputs": [
        {
          "output_type": "stream",
          "name": "stderr",
          "text": [
            "<ipython-input-27-e6c43f9a6865>:1: SettingWithCopyWarning: \n",
            "A value is trying to be set on a copy of a slice from a DataFrame.\n",
            "Try using .loc[row_indexer,col_indexer] = value instead\n",
            "\n",
            "See the caveats in the documentation: https://pandas.pydata.org/pandas-docs/stable/user_guide/indexing.html#returning-a-view-versus-a-copy\n",
            "  amazon_product_rating[\"product_rating\"]=pd.to_numeric(amazon_product_rating[\"product_rating\"])\n"
          ]
        },
        {
          "output_type": "execute_result",
          "data": {
            "text/plain": [
              "<matplotlib.axes._subplots.AxesSubplot at 0x7f497253e340>"
            ]
          },
          "metadata": {},
          "execution_count": 27
        },
        {
          "output_type": "display_data",
          "data": {
            "text/plain": [
              "<Figure size 1080x576 with 1 Axes>"
            ],
            "image/png": "[encoded data removed]"
          },
          "metadata": {}
        }
      ]
    },
    {
      "cell_type": "code",
      "source": [
        "flipkart[\"product_rating\"].value_counts()"
      ],
      "metadata": {
        "colab": {
          "base_uri": "https://localhost:8080/"
        },
        "id": "TZZ_aOXLKFx6",
        "outputId": "96e5a8a7-20ec-49c1-907d-255f7699cf23"
      },
      "execution_count": 28,
      "outputs": [
        {
          "output_type": "execute_result",
          "data": {
            "text/plain": [
              "No rating available    13140\n",
              "5                        339\n",
              "4                        114\n",
              "1                         91\n",
              "3                         71\n",
              "2                         31\n",
              "4.2                       31\n",
              "4.5                       25\n",
              "3.7                       23\n",
              "4.3                       21\n",
              "3.5                       18\n",
              "2.5                       16\n",
              "3.6                       13\n",
              "3.8                       11\n",
              "4.8                       11\n",
              "4.1                       11\n",
              "3.2                       10\n",
              "2.3                       10\n",
              "4.4                        9\n",
              "3.9                        8\n",
              "3.3                        8\n",
              "3.4                        7\n",
              "4.7                        7\n",
              "4.6                        5\n",
              "2.8                        4\n",
              "2.7                        3\n",
              "2.9                        3\n",
              "4.9                        3\n",
              "2.4                        3\n",
              "2.2                        3\n",
              "1.5                        2\n",
              "1.3                        2\n",
              "3.1                        2\n",
              "1.7                        1\n",
              "1.8                        1\n",
              "2.6                        1\n",
              "Name: product_rating, dtype: int64"
            ]
          },
          "metadata": {},
          "execution_count": 28
        }
      ]
    },
    {
      "cell_type": "code",
      "source": [
        "#removing no rating available because we cant plot it\n",
        "flipkart_product_rating=flipkart[flipkart[\"product_rating\"]!=\"No rating available\"]"
      ],
      "metadata": {
        "id": "p6s0uyXMJrhA"
      },
      "execution_count": 29,
      "outputs": []
    },
    {
      "cell_type": "code",
      "source": [
        "flipkart_product_rating['product_rating'].value_counts()"
      ],
      "metadata": {
        "colab": {
          "base_uri": "https://localhost:8080/"
        },
        "id": "0gp_bCMUJ4Gp",
        "outputId": "c6813cf1-a00d-4d3f-8eeb-e5e97e30542c"
      },
      "execution_count": 30,
      "outputs": [
        {
          "output_type": "execute_result",
          "data": {
            "text/plain": [
              "5      339\n",
              "4      114\n",
              "1       91\n",
              "3       71\n",
              "2       31\n",
              "4.2     31\n",
              "4.5     25\n",
              "3.7     23\n",
              "4.3     21\n",
              "3.5     18\n",
              "2.5     16\n",
              "3.6     13\n",
              "3.8     11\n",
              "4.8     11\n",
              "4.1     11\n",
              "3.2     10\n",
              "2.3     10\n",
              "4.4      9\n",
              "3.9      8\n",
              "3.3      8\n",
              "3.4      7\n",
              "4.7      7\n",
              "4.6      5\n",
              "2.8      4\n",
              "2.7      3\n",
              "2.9      3\n",
              "4.9      3\n",
              "2.4      3\n",
              "2.2      3\n",
              "1.5      2\n",
              "1.3      2\n",
              "3.1      2\n",
              "1.7      1\n",
              "1.8      1\n",
              "2.6      1\n",
              "Name: product_rating, dtype: int64"
            ]
          },
          "metadata": {},
          "execution_count": 30
        }
      ]
    },
    {
      "cell_type": "code",
      "source": [
        "flipkart_product_rating[\"product_rating\"]=pd.to_numeric(flipkart_product_rating[\"product_rating\"])\n",
        "plt.figure(figsize=(15,8))\n",
        "sns.set(style=\"darkgrid\")\n",
        "sns.histplot(data=flipkart_product_rating,x=\"product_rating\", legend=True)"
      ],
      "metadata": {
        "colab": {
          "base_uri": "https://localhost:8080/",
          "height": 624
        },
        "id": "_SP3Nf3KKrDz",
        "outputId": "9c17b4ea-9e4b-4712-f6d9-2708825babd6"
      },
      "execution_count": 31,
      "outputs": [
        {
          "output_type": "stream",
          "name": "stderr",
          "text": [
            "<ipython-input-31-cbb1a493cf8c>:1: SettingWithCopyWarning: \n",
            "A value is trying to be set on a copy of a slice from a DataFrame.\n",
            "Try using .loc[row_indexer,col_indexer] = value instead\n",
            "\n",
            "See the caveats in the documentation: https://pandas.pydata.org/pandas-docs/stable/user_guide/indexing.html#returning-a-view-versus-a-copy\n",
            "  flipkart_product_rating[\"product_rating\"]=pd.to_numeric(flipkart_product_rating[\"product_rating\"])\n"
          ]
        },
        {
          "output_type": "execute_result",
          "data": {
            "text/plain": [
              "<matplotlib.axes._subplots.AxesSubplot at 0x7f49724c4190>"
            ]
          },
          "metadata": {},
          "execution_count": 31
        },
        {
          "output_type": "display_data",
          "data": {
            "text/plain": [
              "<Figure size 1080x576 with 1 Axes>"
            ],
            "image/png": "[encoded data removed]"
          },
          "metadata": {}
        }
      ]
    },
    {
      "cell_type": "markdown",
      "source": [
        "**OVERALL RATING**"
      ],
      "metadata": {
        "id": "0vQLwjjjKxa3"
      }
    },
    {
      "cell_type": "code",
      "source": [
        "amazon[\"overall_rating\"].value_counts()"
      ],
      "metadata": {
        "colab": {
          "base_uri": "https://localhost:8080/"
        },
        "id": "QMYYI6jQKzrj",
        "outputId": "2a605661-8b6e-4cb0-ee4c-54f9d56349df"
      },
      "execution_count": 32,
      "outputs": [
        {
          "output_type": "execute_result",
          "data": {
            "text/plain": [
              "No rating available    13198\n",
              "5                        341\n",
              "4                        114\n",
              "1                         93\n",
              "3                         71\n",
              "2                         31\n",
              "4.2                       31\n",
              "4.5                       25\n",
              "3.7                       23\n",
              "4.3                       21\n",
              "3.5                       18\n",
              "2.5                       17\n",
              "3.6                       13\n",
              "3.8                       11\n",
              "4.8                       11\n",
              "4.1                       11\n",
              "3.2                       10\n",
              "2.3                       10\n",
              "4.4                        9\n",
              "3.9                        8\n",
              "3.3                        8\n",
              "3.4                        7\n",
              "4.7                        7\n",
              "4.6                        5\n",
              "2.8                        4\n",
              "2.7                        3\n",
              "2.9                        3\n",
              "4.9                        3\n",
              "2.4                        3\n",
              "2.2                        3\n",
              "1.5                        2\n",
              "1.3                        2\n",
              "3.1                        2\n",
              "1.7                        1\n",
              "1.8                        1\n",
              "2.6                        1\n",
              "Name: overall_rating, dtype: int64"
            ]
          },
          "metadata": {},
          "execution_count": 32
        }
      ]
    },
    {
      "cell_type": "code",
      "source": [
        "#removing no rating available because we cant plot it\n",
        "amazon_overall_rating=amazon[amazon[\"overall_rating\"]!=\"No rating available\"]\n",
        "\n",
        "amazon_overall_rating[\"overall_rating\"].value_counts()"
      ],
      "metadata": {
        "colab": {
          "base_uri": "https://localhost:8080/"
        },
        "id": "IiXizU5tK7EY",
        "outputId": "e007133b-04e0-4bb0-895f-034ff19c050a"
      },
      "execution_count": 33,
      "outputs": [
        {
          "output_type": "execute_result",
          "data": {
            "text/plain": [
              "5      341\n",
              "4      114\n",
              "1       93\n",
              "3       71\n",
              "2       31\n",
              "4.2     31\n",
              "4.5     25\n",
              "3.7     23\n",
              "4.3     21\n",
              "3.5     18\n",
              "2.5     17\n",
              "3.6     13\n",
              "3.8     11\n",
              "4.8     11\n",
              "4.1     11\n",
              "3.2     10\n",
              "2.3     10\n",
              "4.4      9\n",
              "3.9      8\n",
              "3.3      8\n",
              "3.4      7\n",
              "4.7      7\n",
              "4.6      5\n",
              "2.8      4\n",
              "2.7      3\n",
              "2.9      3\n",
              "4.9      3\n",
              "2.4      3\n",
              "2.2      3\n",
              "1.5      2\n",
              "1.3      2\n",
              "3.1      2\n",
              "1.7      1\n",
              "1.8      1\n",
              "2.6      1\n",
              "Name: overall_rating, dtype: int64"
            ]
          },
          "metadata": {},
          "execution_count": 33
        }
      ]
    },
    {
      "cell_type": "code",
      "source": [
        "amazon_overall_rating[\"overall_rating\"]=pd.to_numeric(amazon_overall_rating[\"overall_rating\"])\n",
        "plt.figure(figsize=(15,8))\n",
        "sns.set(style=\"darkgrid\")\n",
        "sns.histplot(data=amazon_overall_rating,x=\"overall_rating\", legend=True)"
      ],
      "metadata": {
        "colab": {
          "base_uri": "https://localhost:8080/",
          "height": 624
        },
        "id": "cJMuYvJ2LNVe",
        "outputId": "b982a962-de9c-40f9-e9ac-ff67efe4219f"
      },
      "execution_count": 34,
      "outputs": [
        {
          "output_type": "stream",
          "name": "stderr",
          "text": [
            "<ipython-input-34-b3813bd60cfd>:1: SettingWithCopyWarning: \n",
            "A value is trying to be set on a copy of a slice from a DataFrame.\n",
            "Try using .loc[row_indexer,col_indexer] = value instead\n",
            "\n",
            "See the caveats in the documentation: https://pandas.pydata.org/pandas-docs/stable/user_guide/indexing.html#returning-a-view-versus-a-copy\n",
            "  amazon_overall_rating[\"overall_rating\"]=pd.to_numeric(amazon_overall_rating[\"overall_rating\"])\n"
          ]
        },
        {
          "output_type": "execute_result",
          "data": {
            "text/plain": [
              "<matplotlib.axes._subplots.AxesSubplot at 0x7f497244de20>"
            ]
          },
          "metadata": {},
          "execution_count": 34
        },
        {
          "output_type": "display_data",
          "data": {
            "text/plain": [
              "<Figure size 1080x576 with 1 Axes>"
            ],
            "image/png": "[encoded data removed]"
          },
          "metadata": {}
        }
      ]
    },
    {
      "cell_type": "code",
      "source": [
        "flipkart[\"overall_rating\"].value_counts()"
      ],
      "metadata": {
        "colab": {
          "base_uri": "https://localhost:8080/"
        },
        "id": "sA5d1k2SLYRA",
        "outputId": "3e1adc2d-0b1e-4bd5-a55a-40db5f699f1b"
      },
      "execution_count": 35,
      "outputs": [
        {
          "output_type": "execute_result",
          "data": {
            "text/plain": [
              "No rating available    13140\n",
              "5                        339\n",
              "4                        114\n",
              "1                         91\n",
              "3                         71\n",
              "2                         31\n",
              "4.2                       31\n",
              "4.5                       25\n",
              "3.7                       23\n",
              "4.3                       21\n",
              "3.5                       18\n",
              "2.5                       16\n",
              "3.6                       13\n",
              "3.8                       11\n",
              "4.8                       11\n",
              "4.1                       11\n",
              "3.2                       10\n",
              "2.3                       10\n",
              "4.4                        9\n",
              "3.9                        8\n",
              "3.3                        8\n",
              "3.4                        7\n",
              "4.7                        7\n",
              "4.6                        5\n",
              "2.8                        4\n",
              "2.7                        3\n",
              "2.9                        3\n",
              "4.9                        3\n",
              "2.4                        3\n",
              "2.2                        3\n",
              "1.5                        2\n",
              "1.3                        2\n",
              "3.1                        2\n",
              "1.7                        1\n",
              "1.8                        1\n",
              "2.6                        1\n",
              "Name: overall_rating, dtype: int64"
            ]
          },
          "metadata": {},
          "execution_count": 35
        }
      ]
    },
    {
      "cell_type": "code",
      "source": [
        "#removing no rating available because we cant plot it\n",
        "flipkart_overall_rating=flipkart[flipkart[\"overall_rating\"]!=\"No rating available\"]\n",
        "\n",
        "flipkart_overall_rating[\"overall_rating\"].value_counts()"
      ],
      "metadata": {
        "colab": {
          "base_uri": "https://localhost:8080/"
        },
        "id": "50zh78svLgBa",
        "outputId": "544b25c0-b297-4f5e-d9a9-8bb2538426ed"
      },
      "execution_count": 36,
      "outputs": [
        {
          "output_type": "execute_result",
          "data": {
            "text/plain": [
              "5      339\n",
              "4      114\n",
              "1       91\n",
              "3       71\n",
              "2       31\n",
              "4.2     31\n",
              "4.5     25\n",
              "3.7     23\n",
              "4.3     21\n",
              "3.5     18\n",
              "2.5     16\n",
              "3.6     13\n",
              "3.8     11\n",
              "4.8     11\n",
              "4.1     11\n",
              "3.2     10\n",
              "2.3     10\n",
              "4.4      9\n",
              "3.9      8\n",
              "3.3      8\n",
              "3.4      7\n",
              "4.7      7\n",
              "4.6      5\n",
              "2.8      4\n",
              "2.7      3\n",
              "2.9      3\n",
              "4.9      3\n",
              "2.4      3\n",
              "2.2      3\n",
              "1.5      2\n",
              "1.3      2\n",
              "3.1      2\n",
              "1.7      1\n",
              "1.8      1\n",
              "2.6      1\n",
              "Name: overall_rating, dtype: int64"
            ]
          },
          "metadata": {},
          "execution_count": 36
        }
      ]
    },
    {
      "cell_type": "code",
      "source": [
        "flipkart_overall_rating[\"overall_rating\"]=pd.to_numeric(flipkart_overall_rating[\"overall_rating\"])\n",
        "plt.figure(figsize=(15,8))\n",
        "sns.set(style=\"darkgrid\")\n",
        "sns.histplot(data=flipkart_overall_rating,x=\"overall_rating\", legend=True)"
      ],
      "metadata": {
        "colab": {
          "base_uri": "https://localhost:8080/",
          "height": 624
        },
        "id": "NrhYS2BDLl-r",
        "outputId": "b3e4219d-e74e-4c80-8ec3-fd86aace00c4"
      },
      "execution_count": 37,
      "outputs": [
        {
          "output_type": "stream",
          "name": "stderr",
          "text": [
            "<ipython-input-37-8f2f7b008468>:1: SettingWithCopyWarning: \n",
            "A value is trying to be set on a copy of a slice from a DataFrame.\n",
            "Try using .loc[row_indexer,col_indexer] = value instead\n",
            "\n",
            "See the caveats in the documentation: https://pandas.pydata.org/pandas-docs/stable/user_guide/indexing.html#returning-a-view-versus-a-copy\n",
            "  flipkart_overall_rating[\"overall_rating\"]=pd.to_numeric(flipkart_overall_rating[\"overall_rating\"])\n"
          ]
        },
        {
          "output_type": "execute_result",
          "data": {
            "text/plain": [
              "<matplotlib.axes._subplots.AxesSubplot at 0x7f497245ffa0>"
            ]
          },
          "metadata": {},
          "execution_count": 37
        },
        {
          "output_type": "display_data",
          "data": {
            "text/plain": [
              "<Figure size 1080x576 with 1 Axes>"
            ],
            "image/png": "[encoded data removed]"
          },
          "metadata": {}
        }
      ]
    },
    {
      "cell_type": "markdown",
      "source": [
        "**IS FK ADVANTAGE PRODUCT OR NOT**"
      ],
      "metadata": {
        "id": "HQT1L8JnLr07"
      }
    },
    {
      "cell_type": "code",
      "source": [
        "amazon[\"is_FK_Advantage_product\"].value_counts()"
      ],
      "metadata": {
        "colab": {
          "base_uri": "https://localhost:8080/"
        },
        "id": "sZVGwLmPL7qG",
        "outputId": "1b3af9c4-9e26-4bf5-db7d-40f9c47b8a6f"
      },
      "execution_count": 38,
      "outputs": [
        {
          "output_type": "execute_result",
          "data": {
            "text/plain": [
              "False    13769\n",
              "True       352\n",
              "Name: is_FK_Advantage_product, dtype: int64"
            ]
          },
          "metadata": {},
          "execution_count": 38
        }
      ]
    },
    {
      "cell_type": "code",
      "source": [
        "sns.countplot(x ='is_FK_Advantage_product', data = amazon)"
      ],
      "metadata": {
        "colab": {
          "base_uri": "https://localhost:8080/",
          "height": 302
        },
        "id": "s4u8EzseNfhR",
        "outputId": "a3767ef9-c8b9-455e-d69f-056daf9f7e04"
      },
      "execution_count": 39,
      "outputs": [
        {
          "output_type": "execute_result",
          "data": {
            "text/plain": [
              "<matplotlib.axes._subplots.AxesSubplot at 0x7f497234f0d0>"
            ]
          },
          "metadata": {},
          "execution_count": 39
        },
        {
          "output_type": "display_data",
          "data": {
            "text/plain": [
              "<Figure size 432x288 with 1 Axes>"
            ],
            "image/png": "[encoded data removed]"
          },
          "metadata": {}
        }
      ]
    },
    {
      "cell_type": "code",
      "source": [
        "flipkart[\"is_FK_Advantage_product\"].value_counts()"
      ],
      "metadata": {
        "colab": {
          "base_uri": "https://localhost:8080/"
        },
        "id": "m9P4ivQ-Ob2o",
        "outputId": "0758095b-c0f1-4eca-dbc1-dffdd584184b"
      },
      "execution_count": 40,
      "outputs": [
        {
          "output_type": "execute_result",
          "data": {
            "text/plain": [
              "False    13722\n",
              "True       336\n",
              "Name: is_FK_Advantage_product, dtype: int64"
            ]
          },
          "metadata": {},
          "execution_count": 40
        }
      ]
    },
    {
      "cell_type": "code",
      "source": [
        "sns.countplot(x ='is_FK_Advantage_product', data = flipkart)"
      ],
      "metadata": {
        "colab": {
          "base_uri": "https://localhost:8080/",
          "height": 302
        },
        "id": "LM94K_aPOeFR",
        "outputId": "95321d5d-5e6b-4f18-9a96-cb15de518313"
      },
      "execution_count": 41,
      "outputs": [
        {
          "output_type": "execute_result",
          "data": {
            "text/plain": [
              "<matplotlib.axes._subplots.AxesSubplot at 0x7f4972353040>"
            ]
          },
          "metadata": {},
          "execution_count": 41
        },
        {
          "output_type": "display_data",
          "data": {
            "text/plain": [
              "<Figure size 432x288 with 1 Axes>"
            ],
            "image/png": "[encoded data removed]"
          },
          "metadata": {}
        }
      ]
    },
    {
      "cell_type": "markdown",
      "source": [
        "**BRAND**"
      ],
      "metadata": {
        "id": "t-AD9N-mPD9Z"
      }
    },
    {
      "cell_type": "code",
      "source": [
        "amazon_L1=list(amazon[\"brand\"].value_counts().keys()[0:30])\n",
        "amazon_L2=list(amazon[\"brand\"].value_counts().values[0:30])"
      ],
      "metadata": {
        "id": "mn93rBWNPIQk"
      },
      "execution_count": 42,
      "outputs": []
    },
    {
      "cell_type": "code",
      "source": [
        "amazon[\"brand\"].value_counts()"
      ],
      "metadata": {
        "colab": {
          "base_uri": "https://localhost:8080/"
        },
        "id": "ICucCegPPv4Z",
        "outputId": "1362ab40-3ab9-4e16-8341-2b10294989a3"
      },
      "execution_count": 43,
      "outputs": [
        {
          "output_type": "execute_result",
          "data": {
            "text/plain": [
              "Allure Auto        469\n",
              "Regular            313\n",
              "Voylla             299\n",
              "Slim               288\n",
              "TheLostPuppy       229\n",
              "                  ... \n",
              "Lucky Thailand       1\n",
              "Loreal Paris         1\n",
              "CLASSY               1\n",
              "ORIFLAME SWEDEN      1\n",
              "Fun To See           1\n",
              "Name: brand, Length: 3495, dtype: int64"
            ]
          },
          "metadata": {},
          "execution_count": 43
        }
      ]
    },
    {
      "cell_type": "code",
      "source": [
        "plt.figure(figsize=(15,8))\n",
        "sns.set(style=\"darkgrid\")\n",
        "sns.barplot(x=amazon_L2,y=amazon_L1,data=amazon)\n",
        "plt.xlabel(\"Count\")\n",
        "plt.ylabel(\"Brand\")"
      ],
      "metadata": {
        "colab": {
          "base_uri": "https://localhost:8080/",
          "height": 519
        },
        "id": "Vrawd57nPLCt",
        "outputId": "6320646f-d18a-4868-806a-a1e6410d1475"
      },
      "execution_count": 44,
      "outputs": [
        {
          "output_type": "execute_result",
          "data": {
            "text/plain": [
              "Text(0, 0.5, 'Brand')"
            ]
          },
          "metadata": {},
          "execution_count": 44
        },
        {
          "output_type": "display_data",
          "data": {
            "text/plain": [
              "<Figure size 1080x576 with 1 Axes>"
            ],
            "image/png": "[encoded data removed]"
          },
          "metadata": {}
        }
      ]
    },
    {
      "cell_type": "code",
      "source": [
        "flipkart_L1=list(flipkart[\"brand\"].value_counts().keys()[0:30])\n",
        "flipkart_L2=list(flipkart[\"brand\"].value_counts().values[0:30])"
      ],
      "metadata": {
        "id": "UHWbiYgoPeT7"
      },
      "execution_count": 45,
      "outputs": []
    },
    {
      "cell_type": "code",
      "source": [
        "flipkart[\"brand\"].value_counts()"
      ],
      "metadata": {
        "colab": {
          "base_uri": "https://localhost:8080/"
        },
        "id": "cBICOai3P2VU",
        "outputId": "c8359baa-d30d-4dfc-8394-9876489bf151"
      },
      "execution_count": 46,
      "outputs": [
        {
          "output_type": "execute_result",
          "data": {
            "text/plain": [
              "Allure Auto        468\n",
              "Regular            308\n",
              "Voylla             299\n",
              "Slim               284\n",
              "TheLostPuppy       229\n",
              "                  ... \n",
              "ORIFLAME SWEDEN      1\n",
              "Wella                1\n",
              "Cayman               1\n",
              "Nineteen             1\n",
              "Fun To See           1\n",
              "Name: brand, Length: 3481, dtype: int64"
            ]
          },
          "metadata": {},
          "execution_count": 46
        }
      ]
    },
    {
      "cell_type": "code",
      "source": [
        "plt.figure(figsize=(15,8))\n",
        "sns.set(style=\"darkgrid\")\n",
        "sns.barplot(x=flipkart_L2,y=flipkart_L1,data=flipkart)\n",
        "plt.xlabel(\"Count\")\n",
        "plt.ylabel(\"Brand\")"
      ],
      "metadata": {
        "colab": {
          "base_uri": "https://localhost:8080/",
          "height": 519
        },
        "id": "b_Tjz5C1Pnrt",
        "outputId": "df287efd-d993-4e6b-9fb3-05bd83eb6102"
      },
      "execution_count": 47,
      "outputs": [
        {
          "output_type": "execute_result",
          "data": {
            "text/plain": [
              "Text(0, 0.5, 'Brand')"
            ]
          },
          "metadata": {},
          "execution_count": 47
        },
        {
          "output_type": "display_data",
          "data": {
            "text/plain": [
              "<Figure size 1080x576 with 1 Axes>"
            ],
            "image/png": "[encoded data removed]"
          },
          "metadata": {}
        }
      ]
    },
    {
      "cell_type": "markdown",
      "source": [
        "#Merging complete data first"
      ],
      "metadata": {
        "id": "mk54nf99RMBX"
      }
    },
    {
      "cell_type": "code",
      "source": [
        "amazon.head(1)"
      ],
      "metadata": {
        "colab": {
          "base_uri": "https://localhost:8080/",
          "height": 197
        },
        "id": "pu6Cce76iRd7",
        "outputId": "484a53cc-8221-437f-887b-bc001a2e3d32"
      },
      "execution_count": 48,
      "outputs": [
        {
          "output_type": "execute_result",
          "data": {
            "text/plain": [
              "                            uniq_id            crawl_timestamp  \\\n",
              "0  c2d766ca982eca8304150849735ffef9  2016-03-25 22:59:23 +0000   \n",
              "\n",
              "                                         product_url  \\\n",
              "0  http://www.flipkart.com/alisha-solid-women-s-c...   \n",
              "\n",
              "                          product_name  \\\n",
              "0  Alisha Solid Women's Cycling Shorts   \n",
              "\n",
              "                               product_category_tree               pid  \\\n",
              "0  [\"Clothing >> Women's Clothing >> Lingerie, Sl...  SRTEH2FF9KEDEFGF   \n",
              "\n",
              "   retail_price  discounted_price  \\\n",
              "0           982               438   \n",
              "\n",
              "                                               image  is_FK_Advantage_product  \\\n",
              "0  [\"http://img5a.flixcart.com/image/short/u/4/a/...                    False   \n",
              "\n",
              "                                         description       product_rating  \\\n",
              "0  Key Features of Alisha Solid Women's Cycling S...  No rating available   \n",
              "\n",
              "        overall_rating   brand  \\\n",
              "0  No rating available  Alisha   \n",
              "\n",
              "                              product_specifications  \n",
              "0  {\"product_specification\"=>[{\"key\"=>\"Number of ...  "
            ],
            "text/html": [
              "\n",
              "  <div id=\"df-e71d4996-b62a-4309-9084-830222466f13\">\n",
              "    <div class=\"colab-df-container\">\n",
              "      <div>\n",
              "<style scoped>\n",
              "    .dataframe tbody tr th:only-of-type {\n",
              "        vertical-align: middle;\n",
              "    }\n",
              "\n",
              "    .dataframe tbody tr th {\n",
              "        vertical-align: top;\n",
              "    }\n",
              "\n",
              "    .dataframe thead th {\n",
              "        text-align: right;\n",
              "    }\n",
              "</style>\n",
              "<table border=\"1\" class=\"dataframe\">\n",
              "  <thead>\n",
              "    <tr style=\"text-align: right;\">\n",
              "      <th></th>\n",
              "      <th>uniq_id</th>\n",
              "      <th>crawl_timestamp</th>\n",
              "      <th>product_url</th>\n",
              "      <th>product_name</th>\n",
              "      <th>product_category_tree</th>\n",
              "      <th>pid</th>\n",
              "      <th>retail_price</th>\n",
              "      <th>discounted_price</th>\n",
              "      <th>image</th>\n",
              "      <th>is_FK_Advantage_product</th>\n",
              "      <th>description</th>\n",
              "      <th>product_rating</th>\n",
              "      <th>overall_rating</th>\n",
              "      <th>brand</th>\n",
              "      <th>product_specifications</th>\n",
              "    </tr>\n",
              "  </thead>\n",
              "  <tbody>\n",
              "    <tr>\n",
              "      <th>0</th>\n",
              "      <td>c2d766ca982eca8304150849735ffef9</td>\n",
              "      <td>2016-03-25 22:59:23 +0000</td>\n",
              "      <td>http://www.flipkart.com/alisha-solid-women-s-c...</td>\n",
              "      <td>Alisha Solid Women's Cycling Shorts</td>\n",
              "      <td>[\"Clothing &gt;&gt; Women's Clothing &gt;&gt; Lingerie, Sl...</td>\n",
              "      <td>SRTEH2FF9KEDEFGF</td>\n",
              "      <td>982</td>\n",
              "      <td>438</td>\n",
              "      <td>[\"http://img5a.flixcart.com/image/short/u/4/a/...</td>\n",
              "      <td>False</td>\n",
              "      <td>Key Features of Alisha Solid Women's Cycling S...</td>\n",
              "      <td>No rating available</td>\n",
              "      <td>No rating available</td>\n",
              "      <td>Alisha</td>\n",
              "      <td>{\"product_specification\"=&gt;[{\"key\"=&gt;\"Number of ...</td>\n",
              "    </tr>\n",
              "  </tbody>\n",
              "</table>\n",
              "</div>\n",
              "      <button class=\"colab-df-convert\" onclick=\"convertToInteractive('df-e71d4996-b62a-4309-9084-830222466f13')\"\n",
              "              title=\"Convert this dataframe to an interactive table.\"\n",
              "              style=\"display:none;\">\n",
              "        \n",
              "  <svg xmlns=\"http://www.w3.org/2000/svg\" height=\"24px\"viewBox=\"0 0 24 24\"\n",
              "       width=\"24px\">\n",
              "    <path d=\"M0 0h24v24H0V0z\" fill=\"none\"/>\n",
              "    <path d=\"M18.56 5.44l.94 2.06.94-2.06 2.06-.94-2.06-.94-.94-2.06-.94 2.06-2.06.94zm-11 1L8.5 8.5l.94-2.06 2.06-.94-2.06-.94L8.5 2.5l-.94 2.06-2.06.94zm10 10l.94 2.06.94-2.06 2.06-.94-2.06-.94-.94-2.06-.94 2.06-2.06.94z\"/><path d=\"M17.41 7.96l-1.37-1.37c-.4-.4-.92-.59-1.43-.59-.52 0-1.04.2-1.43.59L10.3 9.45l-7.72 7.72c-.78.78-.78 2.05 0 2.83L4 21.41c.39.39.9.59 1.41.59.51 0 1.02-.2 1.41-.59l7.78-7.78 2.81-2.81c.8-.78.8-2.07 0-2.86zM5.41 20L4 18.59l7.72-7.72 1.47 1.35L5.41 20z\"/>\n",
              "  </svg>\n",
              "      </button>\n",
              "      \n",
              "  <style>\n",
              "    .colab-df-container {\n",
              "      display:flex;\n",
              "      flex-wrap:wrap;\n",
              "      gap: 12px;\n",
              "    }\n",
              "\n",
              "    .colab-df-convert {\n",
              "      background-color: #E8F0FE;\n",
              "      border: none;\n",
              "      border-radius: 50%;\n",
              "      cursor: pointer;\n",
              "      display: none;\n",
              "      fill: #1967D2;\n",
              "      height: 32px;\n",
              "      padding: 0 0 0 0;\n",
              "      width: 32px;\n",
              "    }\n",
              "\n",
              "    .colab-df-convert:hover {\n",
              "      background-color: #E2EBFA;\n",
              "      box-shadow: 0px 1px 2px rgba(60, 64, 67, 0.3), 0px 1px 3px 1px rgba(60, 64, 67, 0.15);\n",
              "      fill: #174EA6;\n",
              "    }\n",
              "\n",
              "    [theme=dark] .colab-df-convert {\n",
              "      background-color: #3B4455;\n",
              "      fill: #D2E3FC;\n",
              "    }\n",
              "\n",
              "    [theme=dark] .colab-df-convert:hover {\n",
              "      background-color: #434B5C;\n",
              "      box-shadow: 0px 1px 3px 1px rgba(0, 0, 0, 0.15);\n",
              "      filter: drop-shadow(0px 1px 2px rgba(0, 0, 0, 0.3));\n",
              "      fill: #FFFFFF;\n",
              "    }\n",
              "  </style>\n",
              "\n",
              "      <script>\n",
              "        const buttonEl =\n",
              "          document.querySelector('#df-e71d4996-b62a-4309-9084-830222466f13 button.colab-df-convert');\n",
              "        buttonEl.style.display =\n",
              "          google.colab.kernel.accessAllowed ? 'block' : 'none';\n",
              "\n",
              "        async function convertToInteractive(key) {\n",
              "          const element = document.querySelector('#df-e71d4996-b62a-4309-9084-830222466f13');\n",
              "          const dataTable =\n",
              "            await google.colab.kernel.invokeFunction('convertToInteractive',\n",
              "                                                     [key], {});\n",
              "          if (!dataTable) return;\n",
              "\n",
              "          const docLinkHtml = 'Like what you see? Visit the ' +\n",
              "            '<a target=\"_blank\" href=https://colab.research.google.com/notebooks/data_table.ipynb>data table notebook</a>'\n",
              "            + ' to learn more about interactive tables.';\n",
              "          element.innerHTML = '';\n",
              "          dataTable['output_type'] = 'display_data';\n",
              "          await google.colab.output.renderOutput(dataTable, element);\n",
              "          const docLink = document.createElement('div');\n",
              "          docLink.innerHTML = docLinkHtml;\n",
              "          element.appendChild(docLink);\n",
              "        }\n",
              "      </script>\n",
              "    </div>\n",
              "  </div>\n",
              "  "
            ]
          },
          "metadata": {},
          "execution_count": 48
        }
      ]
    },
    {
      "cell_type": "code",
      "source": [
        "flipkart.head(1)"
      ],
      "metadata": {
        "colab": {
          "base_uri": "https://localhost:8080/",
          "height": 197
        },
        "id": "Bq-3GrHHifpk",
        "outputId": "8e9dc64f-6cbc-4808-832d-7ca98c577d6c"
      },
      "execution_count": 49,
      "outputs": [
        {
          "output_type": "execute_result",
          "data": {
            "text/plain": [
              "                            uniq_id            crawl_timestamp  \\\n",
              "0  c2d766ca982eca8304150849735ffef9  2016-03-25 22:59:23 +0000   \n",
              "\n",
              "                                         product_url  \\\n",
              "0  http://www.flipkart.com/alisha-solid-women-s-c...   \n",
              "\n",
              "                          product_name  \\\n",
              "0  Alisha Solid Women's Cycling Shorts   \n",
              "\n",
              "                               product_category_tree               pid  \\\n",
              "0  [\"Clothing >> Women's Clothing >> Lingerie, Sl...  SRTEH2FF9KEDEFGF   \n",
              "\n",
              "   retail_price  discounted_price  \\\n",
              "0         999.0             379.0   \n",
              "\n",
              "                                               image  is_FK_Advantage_product  \\\n",
              "0  [\"http://img5a.flixcart.com/image/short/u/4/a/...                    False   \n",
              "\n",
              "                                         description       product_rating  \\\n",
              "0  Key Features of Alisha Solid Women's Cycling S...  No rating available   \n",
              "\n",
              "        overall_rating   brand  \\\n",
              "0  No rating available  Alisha   \n",
              "\n",
              "                              product_specifications  \n",
              "0  {\"product_specification\"=>[{\"key\"=>\"Number of ...  "
            ],
            "text/html": [
              "\n",
              "  <div id=\"df-253a87c5-c11b-4dbe-be38-0c4116880be1\">\n",
              "    <div class=\"colab-df-container\">\n",
              "      <div>\n",
              "<style scoped>\n",
              "    .dataframe tbody tr th:only-of-type {\n",
              "        vertical-align: middle;\n",
              "    }\n",
              "\n",
              "    .dataframe tbody tr th {\n",
              "        vertical-align: top;\n",
              "    }\n",
              "\n",
              "    .dataframe thead th {\n",
              "        text-align: right;\n",
              "    }\n",
              "</style>\n",
              "<table border=\"1\" class=\"dataframe\">\n",
              "  <thead>\n",
              "    <tr style=\"text-align: right;\">\n",
              "      <th></th>\n",
              "      <th>uniq_id</th>\n",
              "      <th>crawl_timestamp</th>\n",
              "      <th>product_url</th>\n",
              "      <th>product_name</th>\n",
              "      <th>product_category_tree</th>\n",
              "      <th>pid</th>\n",
              "      <th>retail_price</th>\n",
              "      <th>discounted_price</th>\n",
              "      <th>image</th>\n",
              "      <th>is_FK_Advantage_product</th>\n",
              "      <th>description</th>\n",
              "      <th>product_rating</th>\n",
              "      <th>overall_rating</th>\n",
              "      <th>brand</th>\n",
              "      <th>product_specifications</th>\n",
              "    </tr>\n",
              "  </thead>\n",
              "  <tbody>\n",
              "    <tr>\n",
              "      <th>0</th>\n",
              "      <td>c2d766ca982eca8304150849735ffef9</td>\n",
              "      <td>2016-03-25 22:59:23 +0000</td>\n",
              "      <td>http://www.flipkart.com/alisha-solid-women-s-c...</td>\n",
              "      <td>Alisha Solid Women's Cycling Shorts</td>\n",
              "      <td>[\"Clothing &gt;&gt; Women's Clothing &gt;&gt; Lingerie, Sl...</td>\n",
              "      <td>SRTEH2FF9KEDEFGF</td>\n",
              "      <td>999.0</td>\n",
              "      <td>379.0</td>\n",
              "      <td>[\"http://img5a.flixcart.com/image/short/u/4/a/...</td>\n",
              "      <td>False</td>\n",
              "      <td>Key Features of Alisha Solid Women's Cycling S...</td>\n",
              "      <td>No rating available</td>\n",
              "      <td>No rating available</td>\n",
              "      <td>Alisha</td>\n",
              "      <td>{\"product_specification\"=&gt;[{\"key\"=&gt;\"Number of ...</td>\n",
              "    </tr>\n",
              "  </tbody>\n",
              "</table>\n",
              "</div>\n",
              "      <button class=\"colab-df-convert\" onclick=\"convertToInteractive('df-253a87c5-c11b-4dbe-be38-0c4116880be1')\"\n",
              "              title=\"Convert this dataframe to an interactive table.\"\n",
              "              style=\"display:none;\">\n",
              "        \n",
              "  <svg xmlns=\"http://www.w3.org/2000/svg\" height=\"24px\"viewBox=\"0 0 24 24\"\n",
              "       width=\"24px\">\n",
              "    <path d=\"M0 0h24v24H0V0z\" fill=\"none\"/>\n",
              "    <path d=\"M18.56 5.44l.94 2.06.94-2.06 2.06-.94-2.06-.94-.94-2.06-.94 2.06-2.06.94zm-11 1L8.5 8.5l.94-2.06 2.06-.94-2.06-.94L8.5 2.5l-.94 2.06-2.06.94zm10 10l.94 2.06.94-2.06 2.06-.94-2.06-.94-.94-2.06-.94 2.06-2.06.94z\"/><path d=\"M17.41 7.96l-1.37-1.37c-.4-.4-.92-.59-1.43-.59-.52 0-1.04.2-1.43.59L10.3 9.45l-7.72 7.72c-.78.78-.78 2.05 0 2.83L4 21.41c.39.39.9.59 1.41.59.51 0 1.02-.2 1.41-.59l7.78-7.78 2.81-2.81c.8-.78.8-2.07 0-2.86zM5.41 20L4 18.59l7.72-7.72 1.47 1.35L5.41 20z\"/>\n",
              "  </svg>\n",
              "      </button>\n",
              "      \n",
              "  <style>\n",
              "    .colab-df-container {\n",
              "      display:flex;\n",
              "      flex-wrap:wrap;\n",
              "      gap: 12px;\n",
              "    }\n",
              "\n",
              "    .colab-df-convert {\n",
              "      background-color: #E8F0FE;\n",
              "      border: none;\n",
              "      border-radius: 50%;\n",
              "      cursor: pointer;\n",
              "      display: none;\n",
              "      fill: #1967D2;\n",
              "      height: 32px;\n",
              "      padding: 0 0 0 0;\n",
              "      width: 32px;\n",
              "    }\n",
              "\n",
              "    .colab-df-convert:hover {\n",
              "      background-color: #E2EBFA;\n",
              "      box-shadow: 0px 1px 2px rgba(60, 64, 67, 0.3), 0px 1px 3px 1px rgba(60, 64, 67, 0.15);\n",
              "      fill: #174EA6;\n",
              "    }\n",
              "\n",
              "    [theme=dark] .colab-df-convert {\n",
              "      background-color: #3B4455;\n",
              "      fill: #D2E3FC;\n",
              "    }\n",
              "\n",
              "    [theme=dark] .colab-df-convert:hover {\n",
              "      background-color: #434B5C;\n",
              "      box-shadow: 0px 1px 3px 1px rgba(0, 0, 0, 0.15);\n",
              "      filter: drop-shadow(0px 1px 2px rgba(0, 0, 0, 0.3));\n",
              "      fill: #FFFFFF;\n",
              "    }\n",
              "  </style>\n",
              "\n",
              "      <script>\n",
              "        const buttonEl =\n",
              "          document.querySelector('#df-253a87c5-c11b-4dbe-be38-0c4116880be1 button.colab-df-convert');\n",
              "        buttonEl.style.display =\n",
              "          google.colab.kernel.accessAllowed ? 'block' : 'none';\n",
              "\n",
              "        async function convertToInteractive(key) {\n",
              "          const element = document.querySelector('#df-253a87c5-c11b-4dbe-be38-0c4116880be1');\n",
              "          const dataTable =\n",
              "            await google.colab.kernel.invokeFunction('convertToInteractive',\n",
              "                                                     [key], {});\n",
              "          if (!dataTable) return;\n",
              "\n",
              "          const docLinkHtml = 'Like what you see? Visit the ' +\n",
              "            '<a target=\"_blank\" href=https://colab.research.google.com/notebooks/data_table.ipynb>data table notebook</a>'\n",
              "            + ' to learn more about interactive tables.';\n",
              "          element.innerHTML = '';\n",
              "          dataTable['output_type'] = 'display_data';\n",
              "          await google.colab.output.renderOutput(dataTable, element);\n",
              "          const docLink = document.createElement('div');\n",
              "          docLink.innerHTML = docLinkHtml;\n",
              "          element.appendChild(docLink);\n",
              "        }\n",
              "      </script>\n",
              "    </div>\n",
              "  </div>\n",
              "  "
            ]
          },
          "metadata": {},
          "execution_count": 49
        }
      ]
    },
    {
      "cell_type": "code",
      "source": [
        "#dropping all columns except retail price and product name\n",
        "amazon1 = amazon.drop(['uniq_id', 'crawl_timestamp','pid','description','product_rating','brand','product_specifications','overall_rating','image','is_FK_Advantage_product','product_category_tree','product_url'], axis=1)\n",
        "amazon1.columns = ['Product_name_amazon','Retail_price_amazon', 'Discount_price_amazon']\n",
        "amazon1.head()"
      ],
      "metadata": {
        "colab": {
          "base_uri": "https://localhost:8080/",
          "height": 206
        },
        "id": "gEy-6ApbjOml",
        "outputId": "5b4c0e95-0e98-4d12-a534-0ff324f64361"
      },
      "execution_count": 50,
      "outputs": [
        {
          "output_type": "execute_result",
          "data": {
            "text/plain": [
              "                     Product_name_amazon  Retail_price_amazon  \\\n",
              "0    Alisha Solid Women's Cycling Shorts                  982   \n",
              "1    FabHomeDecor Fabric Double Sofa Bed                32143   \n",
              "2                             AW Bellies                  991   \n",
              "3    Alisha Solid Women's Cycling Shorts                  694   \n",
              "4  Sicons All Purpose Arnica Dog Shampoo                  208   \n",
              "\n",
              "   Discount_price_amazon  \n",
              "0                    438  \n",
              "1                  29121  \n",
              "2                    551  \n",
              "3                    325  \n",
              "4                    258  "
            ],
            "text/html": [
              "\n",
              "  <div id=\"df-29794164-cb0d-41fe-b615-ff5c404be055\">\n",
              "    <div class=\"colab-df-container\">\n",
              "      <div>\n",
              "<style scoped>\n",
              "    .dataframe tbody tr th:only-of-type {\n",
              "        vertical-align: middle;\n",
              "    }\n",
              "\n",
              "    .dataframe tbody tr th {\n",
              "        vertical-align: top;\n",
              "    }\n",
              "\n",
              "    .dataframe thead th {\n",
              "        text-align: right;\n",
              "    }\n",
              "</style>\n",
              "<table border=\"1\" class=\"dataframe\">\n",
              "  <thead>\n",
              "    <tr style=\"text-align: right;\">\n",
              "      <th></th>\n",
              "      <th>Product_name_amazon</th>\n",
              "      <th>Retail_price_amazon</th>\n",
              "      <th>Discount_price_amazon</th>\n",
              "    </tr>\n",
              "  </thead>\n",
              "  <tbody>\n",
              "    <tr>\n",
              "      <th>0</th>\n",
              "      <td>Alisha Solid Women's Cycling Shorts</td>\n",
              "      <td>982</td>\n",
              "      <td>438</td>\n",
              "    </tr>\n",
              "    <tr>\n",
              "      <th>1</th>\n",
              "      <td>FabHomeDecor Fabric Double Sofa Bed</td>\n",
              "      <td>32143</td>\n",
              "      <td>29121</td>\n",
              "    </tr>\n",
              "    <tr>\n",
              "      <th>2</th>\n",
              "      <td>AW Bellies</td>\n",
              "      <td>991</td>\n",
              "      <td>551</td>\n",
              "    </tr>\n",
              "    <tr>\n",
              "      <th>3</th>\n",
              "      <td>Alisha Solid Women's Cycling Shorts</td>\n",
              "      <td>694</td>\n",
              "      <td>325</td>\n",
              "    </tr>\n",
              "    <tr>\n",
              "      <th>4</th>\n",
              "      <td>Sicons All Purpose Arnica Dog Shampoo</td>\n",
              "      <td>208</td>\n",
              "      <td>258</td>\n",
              "    </tr>\n",
              "  </tbody>\n",
              "</table>\n",
              "</div>\n",
              "      <button class=\"colab-df-convert\" onclick=\"convertToInteractive('df-29794164-cb0d-41fe-b615-ff5c404be055')\"\n",
              "              title=\"Convert this dataframe to an interactive table.\"\n",
              "              style=\"display:none;\">\n",
              "        \n",
              "  <svg xmlns=\"http://www.w3.org/2000/svg\" height=\"24px\"viewBox=\"0 0 24 24\"\n",
              "       width=\"24px\">\n",
              "    <path d=\"M0 0h24v24H0V0z\" fill=\"none\"/>\n",
              "    <path d=\"M18.56 5.44l.94 2.06.94-2.06 2.06-.94-2.06-.94-.94-2.06-.94 2.06-2.06.94zm-11 1L8.5 8.5l.94-2.06 2.06-.94-2.06-.94L8.5 2.5l-.94 2.06-2.06.94zm10 10l.94 2.06.94-2.06 2.06-.94-2.06-.94-.94-2.06-.94 2.06-2.06.94z\"/><path d=\"M17.41 7.96l-1.37-1.37c-.4-.4-.92-.59-1.43-.59-.52 0-1.04.2-1.43.59L10.3 9.45l-7.72 7.72c-.78.78-.78 2.05 0 2.83L4 21.41c.39.39.9.59 1.41.59.51 0 1.02-.2 1.41-.59l7.78-7.78 2.81-2.81c.8-.78.8-2.07 0-2.86zM5.41 20L4 18.59l7.72-7.72 1.47 1.35L5.41 20z\"/>\n",
              "  </svg>\n",
              "      </button>\n",
              "      \n",
              "  <style>\n",
              "    .colab-df-container {\n",
              "      display:flex;\n",
              "      flex-wrap:wrap;\n",
              "      gap: 12px;\n",
              "    }\n",
              "\n",
              "    .colab-df-convert {\n",
              "      background-color: #E8F0FE;\n",
              "      border: none;\n",
              "      border-radius: 50%;\n",
              "      cursor: pointer;\n",
              "      display: none;\n",
              "      fill: #1967D2;\n",
              "      height: 32px;\n",
              "      padding: 0 0 0 0;\n",
              "      width: 32px;\n",
              "    }\n",
              "\n",
              "    .colab-df-convert:hover {\n",
              "      background-color: #E2EBFA;\n",
              "      box-shadow: 0px 1px 2px rgba(60, 64, 67, 0.3), 0px 1px 3px 1px rgba(60, 64, 67, 0.15);\n",
              "      fill: #174EA6;\n",
              "    }\n",
              "\n",
              "    [theme=dark] .colab-df-convert {\n",
              "      background-color: #3B4455;\n",
              "      fill: #D2E3FC;\n",
              "    }\n",
              "\n",
              "    [theme=dark] .colab-df-convert:hover {\n",
              "      background-color: #434B5C;\n",
              "      box-shadow: 0px 1px 3px 1px rgba(0, 0, 0, 0.15);\n",
              "      filter: drop-shadow(0px 1px 2px rgba(0, 0, 0, 0.3));\n",
              "      fill: #FFFFFF;\n",
              "    }\n",
              "  </style>\n",
              "\n",
              "      <script>\n",
              "        const buttonEl =\n",
              "          document.querySelector('#df-29794164-cb0d-41fe-b615-ff5c404be055 button.colab-df-convert');\n",
              "        buttonEl.style.display =\n",
              "          google.colab.kernel.accessAllowed ? 'block' : 'none';\n",
              "\n",
              "        async function convertToInteractive(key) {\n",
              "          const element = document.querySelector('#df-29794164-cb0d-41fe-b615-ff5c404be055');\n",
              "          const dataTable =\n",
              "            await google.colab.kernel.invokeFunction('convertToInteractive',\n",
              "                                                     [key], {});\n",
              "          if (!dataTable) return;\n",
              "\n",
              "          const docLinkHtml = 'Like what you see? Visit the ' +\n",
              "            '<a target=\"_blank\" href=https://colab.research.google.com/notebooks/data_table.ipynb>data table notebook</a>'\n",
              "            + ' to learn more about interactive tables.';\n",
              "          element.innerHTML = '';\n",
              "          dataTable['output_type'] = 'display_data';\n",
              "          await google.colab.output.renderOutput(dataTable, element);\n",
              "          const docLink = document.createElement('div');\n",
              "          docLink.innerHTML = docLinkHtml;\n",
              "          element.appendChild(docLink);\n",
              "        }\n",
              "      </script>\n",
              "    </div>\n",
              "  </div>\n",
              "  "
            ]
          },
          "metadata": {},
          "execution_count": 50
        }
      ]
    },
    {
      "cell_type": "code",
      "source": [
        "#dropping all columns except retail price and product name\n",
        "flipkart1  = flipkart.drop(['uniq_id', 'crawl_timestamp','pid','description','product_rating','brand','product_specifications','overall_rating','image','is_FK_Advantage_product','product_category_tree','product_url'], axis=1)\n",
        "flipkart1.columns = ['Product_name_flipkart','Retail_price_flipkart','Discount_price_flipkart']\n",
        "flipkart1.head()"
      ],
      "metadata": {
        "colab": {
          "base_uri": "https://localhost:8080/",
          "height": 206
        },
        "id": "YLqnPmTEkyd-",
        "outputId": "9e3c2e01-2cab-4aeb-9439-fbeec536e8ff"
      },
      "execution_count": 51,
      "outputs": [
        {
          "output_type": "execute_result",
          "data": {
            "text/plain": [
              "                   Product_name_flipkart  Retail_price_flipkart  \\\n",
              "0    Alisha Solid Women's Cycling Shorts                  999.0   \n",
              "1    FabHomeDecor Fabric Double Sofa Bed                32157.0   \n",
              "2                             AW Bellies                  999.0   \n",
              "3    Alisha Solid Women's Cycling Shorts                  699.0   \n",
              "4  Sicons All Purpose Arnica Dog Shampoo                  220.0   \n",
              "\n",
              "   Discount_price_flipkart  \n",
              "0                    379.0  \n",
              "1                  22646.0  \n",
              "2                    499.0  \n",
              "3                    267.0  \n",
              "4                    210.0  "
            ],
            "text/html": [
              "\n",
              "  <div id=\"df-6d9a900f-d291-4fb7-aab0-3d26faf1ff9d\">\n",
              "    <div class=\"colab-df-container\">\n",
              "      <div>\n",
              "<style scoped>\n",
              "    .dataframe tbody tr th:only-of-type {\n",
              "        vertical-align: middle;\n",
              "    }\n",
              "\n",
              "    .dataframe tbody tr th {\n",
              "        vertical-align: top;\n",
              "    }\n",
              "\n",
              "    .dataframe thead th {\n",
              "        text-align: right;\n",
              "    }\n",
              "</style>\n",
              "<table border=\"1\" class=\"dataframe\">\n",
              "  <thead>\n",
              "    <tr style=\"text-align: right;\">\n",
              "      <th></th>\n",
              "      <th>Product_name_flipkart</th>\n",
              "      <th>Retail_price_flipkart</th>\n",
              "      <th>Discount_price_flipkart</th>\n",
              "    </tr>\n",
              "  </thead>\n",
              "  <tbody>\n",
              "    <tr>\n",
              "      <th>0</th>\n",
              "      <td>Alisha Solid Women's Cycling Shorts</td>\n",
              "      <td>999.0</td>\n",
              "      <td>379.0</td>\n",
              "    </tr>\n",
              "    <tr>\n",
              "      <th>1</th>\n",
              "      <td>FabHomeDecor Fabric Double Sofa Bed</td>\n",
              "      <td>32157.0</td>\n",
              "      <td>22646.0</td>\n",
              "    </tr>\n",
              "    <tr>\n",
              "      <th>2</th>\n",
              "      <td>AW Bellies</td>\n",
              "      <td>999.0</td>\n",
              "      <td>499.0</td>\n",
              "    </tr>\n",
              "    <tr>\n",
              "      <th>3</th>\n",
              "      <td>Alisha Solid Women's Cycling Shorts</td>\n",
              "      <td>699.0</td>\n",
              "      <td>267.0</td>\n",
              "    </tr>\n",
              "    <tr>\n",
              "      <th>4</th>\n",
              "      <td>Sicons All Purpose Arnica Dog Shampoo</td>\n",
              "      <td>220.0</td>\n",
              "      <td>210.0</td>\n",
              "    </tr>\n",
              "  </tbody>\n",
              "</table>\n",
              "</div>\n",
              "      <button class=\"colab-df-convert\" onclick=\"convertToInteractive('df-6d9a900f-d291-4fb7-aab0-3d26faf1ff9d')\"\n",
              "              title=\"Convert this dataframe to an interactive table.\"\n",
              "              style=\"display:none;\">\n",
              "        \n",
              "  <svg xmlns=\"http://www.w3.org/2000/svg\" height=\"24px\"viewBox=\"0 0 24 24\"\n",
              "       width=\"24px\">\n",
              "    <path d=\"M0 0h24v24H0V0z\" fill=\"none\"/>\n",
              "    <path d=\"M18.56 5.44l.94 2.06.94-2.06 2.06-.94-2.06-.94-.94-2.06-.94 2.06-2.06.94zm-11 1L8.5 8.5l.94-2.06 2.06-.94-2.06-.94L8.5 2.5l-.94 2.06-2.06.94zm10 10l.94 2.06.94-2.06 2.06-.94-2.06-.94-.94-2.06-.94 2.06-2.06.94z\"/><path d=\"M17.41 7.96l-1.37-1.37c-.4-.4-.92-.59-1.43-.59-.52 0-1.04.2-1.43.59L10.3 9.45l-7.72 7.72c-.78.78-.78 2.05 0 2.83L4 21.41c.39.39.9.59 1.41.59.51 0 1.02-.2 1.41-.59l7.78-7.78 2.81-2.81c.8-.78.8-2.07 0-2.86zM5.41 20L4 18.59l7.72-7.72 1.47 1.35L5.41 20z\"/>\n",
              "  </svg>\n",
              "      </button>\n",
              "      \n",
              "  <style>\n",
              "    .colab-df-container {\n",
              "      display:flex;\n",
              "      flex-wrap:wrap;\n",
              "      gap: 12px;\n",
              "    }\n",
              "\n",
              "    .colab-df-convert {\n",
              "      background-color: #E8F0FE;\n",
              "      border: none;\n",
              "      border-radius: 50%;\n",
              "      cursor: pointer;\n",
              "      display: none;\n",
              "      fill: #1967D2;\n",
              "      height: 32px;\n",
              "      padding: 0 0 0 0;\n",
              "      width: 32px;\n",
              "    }\n",
              "\n",
              "    .colab-df-convert:hover {\n",
              "      background-color: #E2EBFA;\n",
              "      box-shadow: 0px 1px 2px rgba(60, 64, 67, 0.3), 0px 1px 3px 1px rgba(60, 64, 67, 0.15);\n",
              "      fill: #174EA6;\n",
              "    }\n",
              "\n",
              "    [theme=dark] .colab-df-convert {\n",
              "      background-color: #3B4455;\n",
              "      fill: #D2E3FC;\n",
              "    }\n",
              "\n",
              "    [theme=dark] .colab-df-convert:hover {\n",
              "      background-color: #434B5C;\n",
              "      box-shadow: 0px 1px 3px 1px rgba(0, 0, 0, 0.15);\n",
              "      filter: drop-shadow(0px 1px 2px rgba(0, 0, 0, 0.3));\n",
              "      fill: #FFFFFF;\n",
              "    }\n",
              "  </style>\n",
              "\n",
              "      <script>\n",
              "        const buttonEl =\n",
              "          document.querySelector('#df-6d9a900f-d291-4fb7-aab0-3d26faf1ff9d button.colab-df-convert');\n",
              "        buttonEl.style.display =\n",
              "          google.colab.kernel.accessAllowed ? 'block' : 'none';\n",
              "\n",
              "        async function convertToInteractive(key) {\n",
              "          const element = document.querySelector('#df-6d9a900f-d291-4fb7-aab0-3d26faf1ff9d');\n",
              "          const dataTable =\n",
              "            await google.colab.kernel.invokeFunction('convertToInteractive',\n",
              "                                                     [key], {});\n",
              "          if (!dataTable) return;\n",
              "\n",
              "          const docLinkHtml = 'Like what you see? Visit the ' +\n",
              "            '<a target=\"_blank\" href=https://colab.research.google.com/notebooks/data_table.ipynb>data table notebook</a>'\n",
              "            + ' to learn more about interactive tables.';\n",
              "          element.innerHTML = '';\n",
              "          dataTable['output_type'] = 'display_data';\n",
              "          await google.colab.output.renderOutput(dataTable, element);\n",
              "          const docLink = document.createElement('div');\n",
              "          docLink.innerHTML = docLinkHtml;\n",
              "          element.appendChild(docLink);\n",
              "        }\n",
              "      </script>\n",
              "    </div>\n",
              "  </div>\n",
              "  "
            ]
          },
          "metadata": {},
          "execution_count": 51
        }
      ]
    },
    {
      "cell_type": "code",
      "source": [
        "#joining the data with product names.\n",
        "''' while joining we should remember that we're joining the same data type colums from each of the tables/dataframe or else it will give us error '''\n",
        "\n",
        "\n",
        "joint_data=amazon1.merge(flipkart1,left_on=\"Product_name_amazon\",right_on='Product_name_flipkart',how='inner')"
      ],
      "metadata": {
        "id": "0s83yQ1Fihib"
      },
      "execution_count": 52,
      "outputs": []
    },
    {
      "cell_type": "code",
      "source": [
        "joint_data"
      ],
      "metadata": {
        "colab": {
          "base_uri": "https://localhost:8080/",
          "height": 607
        },
        "id": "Y6v-4pWWjFNl",
        "outputId": "0bd70b80-7548-466b-faa0-e9920a49b4dc"
      },
      "execution_count": 53,
      "outputs": [
        {
          "output_type": "execute_result",
          "data": {
            "text/plain": [
              "                             Product_name_amazon  Retail_price_amazon  \\\n",
              "0            Alisha Solid Women's Cycling Shorts                  982   \n",
              "1            Alisha Solid Women's Cycling Shorts                  982   \n",
              "2            Alisha Solid Women's Cycling Shorts                  982   \n",
              "3            Alisha Solid Women's Cycling Shorts                  982   \n",
              "4            Alisha Solid Women's Cycling Shorts                  982   \n",
              "...                                          ...                  ...   \n",
              "79162                    GEMKOLABWELL G-S-725-14                 6586   \n",
              "79163            LOTTIE LONDON PERFECTLY PRECISE                  537   \n",
              "79164              LOTTIE LONDON ALL EYES ON YOU                  540   \n",
              "79165                LOTTIE LONDON MAKE ME BLUSH                  848   \n",
              "79166  MUA MAKEUP ACADEMY SWEET SHEEN DUSKY ROSE                  530   \n",
              "\n",
              "       Discount_price_amazon                      Product_name_flipkart  \\\n",
              "0                        438        Alisha Solid Women's Cycling Shorts   \n",
              "1                        438        Alisha Solid Women's Cycling Shorts   \n",
              "2                        438        Alisha Solid Women's Cycling Shorts   \n",
              "3                        438        Alisha Solid Women's Cycling Shorts   \n",
              "4                        438        Alisha Solid Women's Cycling Shorts   \n",
              "...                      ...                                        ...   \n",
              "79162                   3967                    GEMKOLABWELL G-S-725-14   \n",
              "79163                    577            LOTTIE LONDON PERFECTLY PRECISE   \n",
              "79164                    603              LOTTIE LONDON ALL EYES ON YOU   \n",
              "79165                    943                LOTTIE LONDON MAKE ME BLUSH   \n",
              "79166                    432  MUA MAKEUP ACADEMY SWEET SHEEN DUSKY ROSE   \n",
              "\n",
              "       Retail_price_flipkart  Discount_price_flipkart  \n",
              "0                      999.0                    379.0  \n",
              "1                      699.0                    267.0  \n",
              "2                     1199.0                    479.0  \n",
              "3                     1199.0                    479.0  \n",
              "4                      999.0                    379.0  \n",
              "...                      ...                      ...  \n",
              "79162                 6590.0                   3345.0  \n",
              "79163                  550.0                    495.0  \n",
              "79164                  550.0                    495.0  \n",
              "79165                  850.0                    765.0  \n",
              "79166                  550.0                    350.0  \n",
              "\n",
              "[79167 rows x 6 columns]"
            ],
            "text/html": [
              "\n",
              "  <div id=\"df-87d835ed-3a56-4af4-96f4-5a679b55121b\">\n",
              "    <div class=\"colab-df-container\">\n",
              "      <div>\n",
              "<style scoped>\n",
              "    .dataframe tbody tr th:only-of-type {\n",
              "        vertical-align: middle;\n",
              "    }\n",
              "\n",
              "    .dataframe tbody tr th {\n",
              "        vertical-align: top;\n",
              "    }\n",
              "\n",
              "    .dataframe thead th {\n",
              "        text-align: right;\n",
              "    }\n",
              "</style>\n",
              "<table border=\"1\" class=\"dataframe\">\n",
              "  <thead>\n",
              "    <tr style=\"text-align: right;\">\n",
              "      <th></th>\n",
              "      <th>Product_name_amazon</th>\n",
              "      <th>Retail_price_amazon</th>\n",
              "      <th>Discount_price_amazon</th>\n",
              "      <th>Product_name_flipkart</th>\n",
              "      <th>Retail_price_flipkart</th>\n",
              "      <th>Discount_price_flipkart</th>\n",
              "    </tr>\n",
              "  </thead>\n",
              "  <tbody>\n",
              "    <tr>\n",
              "      <th>0</th>\n",
              "      <td>Alisha Solid Women's Cycling Shorts</td>\n",
              "      <td>982</td>\n",
              "      <td>438</td>\n",
              "      <td>Alisha Solid Women's Cycling Shorts</td>\n",
              "      <td>999.0</td>\n",
              "      <td>379.0</td>\n",
              "    </tr>\n",
              "    <tr>\n",
              "      <th>1</th>\n",
              "      <td>Alisha Solid Women's Cycling Shorts</td>\n",
              "      <td>982</td>\n",
              "      <td>438</td>\n",
              "      <td>Alisha Solid Women's Cycling Shorts</td>\n",
              "      <td>699.0</td>\n",
              "      <td>267.0</td>\n",
              "    </tr>\n",
              "    <tr>\n",
              "      <th>2</th>\n",
              "      <td>Alisha Solid Women's Cycling Shorts</td>\n",
              "      <td>982</td>\n",
              "      <td>438</td>\n",
              "      <td>Alisha Solid Women's Cycling Shorts</td>\n",
              "      <td>1199.0</td>\n",
              "      <td>479.0</td>\n",
              "    </tr>\n",
              "    <tr>\n",
              "      <th>3</th>\n",
              "      <td>Alisha Solid Women's Cycling Shorts</td>\n",
              "      <td>982</td>\n",
              "      <td>438</td>\n",
              "      <td>Alisha Solid Women's Cycling Shorts</td>\n",
              "      <td>1199.0</td>\n",
              "      <td>479.0</td>\n",
              "    </tr>\n",
              "    <tr>\n",
              "      <th>4</th>\n",
              "      <td>Alisha Solid Women's Cycling Shorts</td>\n",
              "      <td>982</td>\n",
              "      <td>438</td>\n",
              "      <td>Alisha Solid Women's Cycling Shorts</td>\n",
              "      <td>999.0</td>\n",
              "      <td>379.0</td>\n",
              "    </tr>\n",
              "    <tr>\n",
              "      <th>...</th>\n",
              "      <td>...</td>\n",
              "      <td>...</td>\n",
              "      <td>...</td>\n",
              "      <td>...</td>\n",
              "      <td>...</td>\n",
              "      <td>...</td>\n",
              "    </tr>\n",
              "    <tr>\n",
              "      <th>79162</th>\n",
              "      <td>GEMKOLABWELL G-S-725-14</td>\n",
              "      <td>6586</td>\n",
              "      <td>3967</td>\n",
              "      <td>GEMKOLABWELL G-S-725-14</td>\n",
              "      <td>6590.0</td>\n",
              "      <td>3345.0</td>\n",
              "    </tr>\n",
              "    <tr>\n",
              "      <th>79163</th>\n",
              "      <td>LOTTIE LONDON PERFECTLY PRECISE</td>\n",
              "      <td>537</td>\n",
              "      <td>577</td>\n",
              "      <td>LOTTIE LONDON PERFECTLY PRECISE</td>\n",
              "      <td>550.0</td>\n",
              "      <td>495.0</td>\n",
              "    </tr>\n",
              "    <tr>\n",
              "      <th>79164</th>\n",
              "      <td>LOTTIE LONDON ALL EYES ON YOU</td>\n",
              "      <td>540</td>\n",
              "      <td>603</td>\n",
              "      <td>LOTTIE LONDON ALL EYES ON YOU</td>\n",
              "      <td>550.0</td>\n",
              "      <td>495.0</td>\n",
              "    </tr>\n",
              "    <tr>\n",
              "      <th>79165</th>\n",
              "      <td>LOTTIE LONDON MAKE ME BLUSH</td>\n",
              "      <td>848</td>\n",
              "      <td>943</td>\n",
              "      <td>LOTTIE LONDON MAKE ME BLUSH</td>\n",
              "      <td>850.0</td>\n",
              "      <td>765.0</td>\n",
              "    </tr>\n",
              "    <tr>\n",
              "      <th>79166</th>\n",
              "      <td>MUA MAKEUP ACADEMY SWEET SHEEN DUSKY ROSE</td>\n",
              "      <td>530</td>\n",
              "      <td>432</td>\n",
              "      <td>MUA MAKEUP ACADEMY SWEET SHEEN DUSKY ROSE</td>\n",
              "      <td>550.0</td>\n",
              "      <td>350.0</td>\n",
              "    </tr>\n",
              "  </tbody>\n",
              "</table>\n",
              "<p>79167 rows × 6 columns</p>\n",
              "</div>\n",
              "      <button class=\"colab-df-convert\" onclick=\"convertToInteractive('df-87d835ed-3a56-4af4-96f4-5a679b55121b')\"\n",
              "              title=\"Convert this dataframe to an interactive table.\"\n",
              "              style=\"display:none;\">\n",
              "        \n",
              "  <svg xmlns=\"http://www.w3.org/2000/svg\" height=\"24px\"viewBox=\"0 0 24 24\"\n",
              "       width=\"24px\">\n",
              "    <path d=\"M0 0h24v24H0V0z\" fill=\"none\"/>\n",
              "    <path d=\"M18.56 5.44l.94 2.06.94-2.06 2.06-.94-2.06-.94-.94-2.06-.94 2.06-2.06.94zm-11 1L8.5 8.5l.94-2.06 2.06-.94-2.06-.94L8.5 2.5l-.94 2.06-2.06.94zm10 10l.94 2.06.94-2.06 2.06-.94-2.06-.94-.94-2.06-.94 2.06-2.06.94z\"/><path d=\"M17.41 7.96l-1.37-1.37c-.4-.4-.92-.59-1.43-.59-.52 0-1.04.2-1.43.59L10.3 9.45l-7.72 7.72c-.78.78-.78 2.05 0 2.83L4 21.41c.39.39.9.59 1.41.59.51 0 1.02-.2 1.41-.59l7.78-7.78 2.81-2.81c.8-.78.8-2.07 0-2.86zM5.41 20L4 18.59l7.72-7.72 1.47 1.35L5.41 20z\"/>\n",
              "  </svg>\n",
              "      </button>\n",
              "      \n",
              "  <style>\n",
              "    .colab-df-container {\n",
              "      display:flex;\n",
              "      flex-wrap:wrap;\n",
              "      gap: 12px;\n",
              "    }\n",
              "\n",
              "    .colab-df-convert {\n",
              "      background-color: #E8F0FE;\n",
              "      border: none;\n",
              "      border-radius: 50%;\n",
              "      cursor: pointer;\n",
              "      display: none;\n",
              "      fill: #1967D2;\n",
              "      height: 32px;\n",
              "      padding: 0 0 0 0;\n",
              "      width: 32px;\n",
              "    }\n",
              "\n",
              "    .colab-df-convert:hover {\n",
              "      background-color: #E2EBFA;\n",
              "      box-shadow: 0px 1px 2px rgba(60, 64, 67, 0.3), 0px 1px 3px 1px rgba(60, 64, 67, 0.15);\n",
              "      fill: #174EA6;\n",
              "    }\n",
              "\n",
              "    [theme=dark] .colab-df-convert {\n",
              "      background-color: #3B4455;\n",
              "      fill: #D2E3FC;\n",
              "    }\n",
              "\n",
              "    [theme=dark] .colab-df-convert:hover {\n",
              "      background-color: #434B5C;\n",
              "      box-shadow: 0px 1px 3px 1px rgba(0, 0, 0, 0.15);\n",
              "      filter: drop-shadow(0px 1px 2px rgba(0, 0, 0, 0.3));\n",
              "      fill: #FFFFFF;\n",
              "    }\n",
              "  </style>\n",
              "\n",
              "      <script>\n",
              "        const buttonEl =\n",
              "          document.querySelector('#df-87d835ed-3a56-4af4-96f4-5a679b55121b button.colab-df-convert');\n",
              "        buttonEl.style.display =\n",
              "          google.colab.kernel.accessAllowed ? 'block' : 'none';\n",
              "\n",
              "        async function convertToInteractive(key) {\n",
              "          const element = document.querySelector('#df-87d835ed-3a56-4af4-96f4-5a679b55121b');\n",
              "          const dataTable =\n",
              "            await google.colab.kernel.invokeFunction('convertToInteractive',\n",
              "                                                     [key], {});\n",
              "          if (!dataTable) return;\n",
              "\n",
              "          const docLinkHtml = 'Like what you see? Visit the ' +\n",
              "            '<a target=\"_blank\" href=https://colab.research.google.com/notebooks/data_table.ipynb>data table notebook</a>'\n",
              "            + ' to learn more about interactive tables.';\n",
              "          element.innerHTML = '';\n",
              "          dataTable['output_type'] = 'display_data';\n",
              "          await google.colab.output.renderOutput(dataTable, element);\n",
              "          const docLink = document.createElement('div');\n",
              "          docLink.innerHTML = docLinkHtml;\n",
              "          element.appendChild(docLink);\n",
              "        }\n",
              "      </script>\n",
              "    </div>\n",
              "  </div>\n",
              "  "
            ]
          },
          "metadata": {},
          "execution_count": 53
        }
      ]
    },
    {
      "cell_type": "code",
      "source": [
        "#removing duplicates\n",
        "joint_data_1=joint_data.drop_duplicates()\n",
        "joint_data_1"
      ],
      "metadata": {
        "colab": {
          "base_uri": "https://localhost:8080/",
          "height": 607
        },
        "id": "vWjNN5sQleMO",
        "outputId": "43bb4cbb-de76-4317-e3c7-87525e603697"
      },
      "execution_count": 57,
      "outputs": [
        {
          "output_type": "execute_result",
          "data": {
            "text/plain": [
              "                             Product_name_amazon  Retail_price_amazon  \\\n",
              "0            Alisha Solid Women's Cycling Shorts                  982   \n",
              "1            Alisha Solid Women's Cycling Shorts                  982   \n",
              "2            Alisha Solid Women's Cycling Shorts                  982   \n",
              "6            Alisha Solid Women's Cycling Shorts                  694   \n",
              "7            Alisha Solid Women's Cycling Shorts                  694   \n",
              "...                                          ...                  ...   \n",
              "79162                    GEMKOLABWELL G-S-725-14                 6586   \n",
              "79163            LOTTIE LONDON PERFECTLY PRECISE                  537   \n",
              "79164              LOTTIE LONDON ALL EYES ON YOU                  540   \n",
              "79165                LOTTIE LONDON MAKE ME BLUSH                  848   \n",
              "79166  MUA MAKEUP ACADEMY SWEET SHEEN DUSKY ROSE                  530   \n",
              "\n",
              "       Discount_price_amazon                      Product_name_flipkart  \\\n",
              "0                        438        Alisha Solid Women's Cycling Shorts   \n",
              "1                        438        Alisha Solid Women's Cycling Shorts   \n",
              "2                        438        Alisha Solid Women's Cycling Shorts   \n",
              "6                        325        Alisha Solid Women's Cycling Shorts   \n",
              "7                        325        Alisha Solid Women's Cycling Shorts   \n",
              "...                      ...                                        ...   \n",
              "79162                   3967                    GEMKOLABWELL G-S-725-14   \n",
              "79163                    577            LOTTIE LONDON PERFECTLY PRECISE   \n",
              "79164                    603              LOTTIE LONDON ALL EYES ON YOU   \n",
              "79165                    943                LOTTIE LONDON MAKE ME BLUSH   \n",
              "79166                    432  MUA MAKEUP ACADEMY SWEET SHEEN DUSKY ROSE   \n",
              "\n",
              "       Retail_price_flipkart  Discount_price_flipkart  \n",
              "0                      999.0                    379.0  \n",
              "1                      699.0                    267.0  \n",
              "2                     1199.0                    479.0  \n",
              "6                      999.0                    379.0  \n",
              "7                      699.0                    267.0  \n",
              "...                      ...                      ...  \n",
              "79162                 6590.0                   3345.0  \n",
              "79163                  550.0                    495.0  \n",
              "79164                  550.0                    495.0  \n",
              "79165                  850.0                    765.0  \n",
              "79166                  550.0                    350.0  \n",
              "\n",
              "[32989 rows x 6 columns]"
            ],
            "text/html": [
              "\n",
              "  <div id=\"df-e172fa18-6d69-4a28-98e1-86e1b1422c21\">\n",
              "    <div class=\"colab-df-container\">\n",
              "      <div>\n",
              "<style scoped>\n",
              "    .dataframe tbody tr th:only-of-type {\n",
              "        vertical-align: middle;\n",
              "    }\n",
              "\n",
              "    .dataframe tbody tr th {\n",
              "        vertical-align: top;\n",
              "    }\n",
              "\n",
              "    .dataframe thead th {\n",
              "        text-align: right;\n",
              "    }\n",
              "</style>\n",
              "<table border=\"1\" class=\"dataframe\">\n",
              "  <thead>\n",
              "    <tr style=\"text-align: right;\">\n",
              "      <th></th>\n",
              "      <th>Product_name_amazon</th>\n",
              "      <th>Retail_price_amazon</th>\n",
              "      <th>Discount_price_amazon</th>\n",
              "      <th>Product_name_flipkart</th>\n",
              "      <th>Retail_price_flipkart</th>\n",
              "      <th>Discount_price_flipkart</th>\n",
              "    </tr>\n",
              "  </thead>\n",
              "  <tbody>\n",
              "    <tr>\n",
              "      <th>0</th>\n",
              "      <td>Alisha Solid Women's Cycling Shorts</td>\n",
              "      <td>982</td>\n",
              "      <td>438</td>\n",
              "      <td>Alisha Solid Women's Cycling Shorts</td>\n",
              "      <td>999.0</td>\n",
              "      <td>379.0</td>\n",
              "    </tr>\n",
              "    <tr>\n",
              "      <th>1</th>\n",
              "      <td>Alisha Solid Women's Cycling Shorts</td>\n",
              "      <td>982</td>\n",
              "      <td>438</td>\n",
              "      <td>Alisha Solid Women's Cycling Shorts</td>\n",
              "      <td>699.0</td>\n",
              "      <td>267.0</td>\n",
              "    </tr>\n",
              "    <tr>\n",
              "      <th>2</th>\n",
              "      <td>Alisha Solid Women's Cycling Shorts</td>\n",
              "      <td>982</td>\n",
              "      <td>438</td>\n",
              "      <td>Alisha Solid Women's Cycling Shorts</td>\n",
              "      <td>1199.0</td>\n",
              "      <td>479.0</td>\n",
              "    </tr>\n",
              "    <tr>\n",
              "      <th>6</th>\n",
              "      <td>Alisha Solid Women's Cycling Shorts</td>\n",
              "      <td>694</td>\n",
              "      <td>325</td>\n",
              "      <td>Alisha Solid Women's Cycling Shorts</td>\n",
              "      <td>999.0</td>\n",
              "      <td>379.0</td>\n",
              "    </tr>\n",
              "    <tr>\n",
              "      <th>7</th>\n",
              "      <td>Alisha Solid Women's Cycling Shorts</td>\n",
              "      <td>694</td>\n",
              "      <td>325</td>\n",
              "      <td>Alisha Solid Women's Cycling Shorts</td>\n",
              "      <td>699.0</td>\n",
              "      <td>267.0</td>\n",
              "    </tr>\n",
              "    <tr>\n",
              "      <th>...</th>\n",
              "      <td>...</td>\n",
              "      <td>...</td>\n",
              "      <td>...</td>\n",
              "      <td>...</td>\n",
              "      <td>...</td>\n",
              "      <td>...</td>\n",
              "    </tr>\n",
              "    <tr>\n",
              "      <th>79162</th>\n",
              "      <td>GEMKOLABWELL G-S-725-14</td>\n",
              "      <td>6586</td>\n",
              "      <td>3967</td>\n",
              "      <td>GEMKOLABWELL G-S-725-14</td>\n",
              "      <td>6590.0</td>\n",
              "      <td>3345.0</td>\n",
              "    </tr>\n",
              "    <tr>\n",
              "      <th>79163</th>\n",
              "      <td>LOTTIE LONDON PERFECTLY PRECISE</td>\n",
              "      <td>537</td>\n",
              "      <td>577</td>\n",
              "      <td>LOTTIE LONDON PERFECTLY PRECISE</td>\n",
              "      <td>550.0</td>\n",
              "      <td>495.0</td>\n",
              "    </tr>\n",
              "    <tr>\n",
              "      <th>79164</th>\n",
              "      <td>LOTTIE LONDON ALL EYES ON YOU</td>\n",
              "      <td>540</td>\n",
              "      <td>603</td>\n",
              "      <td>LOTTIE LONDON ALL EYES ON YOU</td>\n",
              "      <td>550.0</td>\n",
              "      <td>495.0</td>\n",
              "    </tr>\n",
              "    <tr>\n",
              "      <th>79165</th>\n",
              "      <td>LOTTIE LONDON MAKE ME BLUSH</td>\n",
              "      <td>848</td>\n",
              "      <td>943</td>\n",
              "      <td>LOTTIE LONDON MAKE ME BLUSH</td>\n",
              "      <td>850.0</td>\n",
              "      <td>765.0</td>\n",
              "    </tr>\n",
              "    <tr>\n",
              "      <th>79166</th>\n",
              "      <td>MUA MAKEUP ACADEMY SWEET SHEEN DUSKY ROSE</td>\n",
              "      <td>530</td>\n",
              "      <td>432</td>\n",
              "      <td>MUA MAKEUP ACADEMY SWEET SHEEN DUSKY ROSE</td>\n",
              "      <td>550.0</td>\n",
              "      <td>350.0</td>\n",
              "    </tr>\n",
              "  </tbody>\n",
              "</table>\n",
              "<p>32989 rows × 6 columns</p>\n",
              "</div>\n",
              "      <button class=\"colab-df-convert\" onclick=\"convertToInteractive('df-e172fa18-6d69-4a28-98e1-86e1b1422c21')\"\n",
              "              title=\"Convert this dataframe to an interactive table.\"\n",
              "              style=\"display:none;\">\n",
              "        \n",
              "  <svg xmlns=\"http://www.w3.org/2000/svg\" height=\"24px\"viewBox=\"0 0 24 24\"\n",
              "       width=\"24px\">\n",
              "    <path d=\"M0 0h24v24H0V0z\" fill=\"none\"/>\n",
              "    <path d=\"M18.56 5.44l.94 2.06.94-2.06 2.06-.94-2.06-.94-.94-2.06-.94 2.06-2.06.94zm-11 1L8.5 8.5l.94-2.06 2.06-.94-2.06-.94L8.5 2.5l-.94 2.06-2.06.94zm10 10l.94 2.06.94-2.06 2.06-.94-2.06-.94-.94-2.06-.94 2.06-2.06.94z\"/><path d=\"M17.41 7.96l-1.37-1.37c-.4-.4-.92-.59-1.43-.59-.52 0-1.04.2-1.43.59L10.3 9.45l-7.72 7.72c-.78.78-.78 2.05 0 2.83L4 21.41c.39.39.9.59 1.41.59.51 0 1.02-.2 1.41-.59l7.78-7.78 2.81-2.81c.8-.78.8-2.07 0-2.86zM5.41 20L4 18.59l7.72-7.72 1.47 1.35L5.41 20z\"/>\n",
              "  </svg>\n",
              "      </button>\n",
              "      \n",
              "  <style>\n",
              "    .colab-df-container {\n",
              "      display:flex;\n",
              "      flex-wrap:wrap;\n",
              "      gap: 12px;\n",
              "    }\n",
              "\n",
              "    .colab-df-convert {\n",
              "      background-color: #E8F0FE;\n",
              "      border: none;\n",
              "      border-radius: 50%;\n",
              "      cursor: pointer;\n",
              "      display: none;\n",
              "      fill: #1967D2;\n",
              "      height: 32px;\n",
              "      padding: 0 0 0 0;\n",
              "      width: 32px;\n",
              "    }\n",
              "\n",
              "    .colab-df-convert:hover {\n",
              "      background-color: #E2EBFA;\n",
              "      box-shadow: 0px 1px 2px rgba(60, 64, 67, 0.3), 0px 1px 3px 1px rgba(60, 64, 67, 0.15);\n",
              "      fill: #174EA6;\n",
              "    }\n",
              "\n",
              "    [theme=dark] .colab-df-convert {\n",
              "      background-color: #3B4455;\n",
              "      fill: #D2E3FC;\n",
              "    }\n",
              "\n",
              "    [theme=dark] .colab-df-convert:hover {\n",
              "      background-color: #434B5C;\n",
              "      box-shadow: 0px 1px 3px 1px rgba(0, 0, 0, 0.15);\n",
              "      filter: drop-shadow(0px 1px 2px rgba(0, 0, 0, 0.3));\n",
              "      fill: #FFFFFF;\n",
              "    }\n",
              "  </style>\n",
              "\n",
              "      <script>\n",
              "        const buttonEl =\n",
              "          document.querySelector('#df-e172fa18-6d69-4a28-98e1-86e1b1422c21 button.colab-df-convert');\n",
              "        buttonEl.style.display =\n",
              "          google.colab.kernel.accessAllowed ? 'block' : 'none';\n",
              "\n",
              "        async function convertToInteractive(key) {\n",
              "          const element = document.querySelector('#df-e172fa18-6d69-4a28-98e1-86e1b1422c21');\n",
              "          const dataTable =\n",
              "            await google.colab.kernel.invokeFunction('convertToInteractive',\n",
              "                                                     [key], {});\n",
              "          if (!dataTable) return;\n",
              "\n",
              "          const docLinkHtml = 'Like what you see? Visit the ' +\n",
              "            '<a target=\"_blank\" href=https://colab.research.google.com/notebooks/data_table.ipynb>data table notebook</a>'\n",
              "            + ' to learn more about interactive tables.';\n",
              "          element.innerHTML = '';\n",
              "          dataTable['output_type'] = 'display_data';\n",
              "          await google.colab.output.renderOutput(dataTable, element);\n",
              "          const docLink = document.createElement('div');\n",
              "          docLink.innerHTML = docLinkHtml;\n",
              "          element.appendChild(docLink);\n",
              "        }\n",
              "      </script>\n",
              "    </div>\n",
              "  </div>\n",
              "  "
            ]
          },
          "metadata": {},
          "execution_count": 57
        }
      ]
    },
    {
      "cell_type": "code",
      "source": [
        "'''  \n",
        "As far as i know, only if the product name is same in both the datasets we can find the intersection or else we can't. \n",
        "So I've checked if there are any extra products. \n",
        "'''\n",
        "\n",
        "# AM commenting this as is_equal column is getting added to the original one which misleads the understanding.\n",
        "\n",
        "#the table is null because all names are same in both cases\n",
        "\n",
        "'''\n",
        "joint_data_1['is_equal']= (joint_data_1['Product_name_amazon'].str.lower().str.replace('s/+',\"\") == joint_data_1['Product_name_flipkart'].str.lower().str.replace('s/+',\"\"))\n",
        "joint_data_not_matching = joint_data_1[joint_data_1[\"is_equal\"]=='False']\n",
        "joint_data_not_matching  '''"
      ],
      "metadata": {
        "colab": {
          "base_uri": "https://localhost:8080/",
          "height": 208
        },
        "id": "tAIRLQFsrACy",
        "outputId": "11d6f324-3ebd-44a8-9461-2332b4900897"
      },
      "execution_count": 56,
      "outputs": [
        {
          "output_type": "stream",
          "name": "stderr",
          "text": [
            "<ipython-input-56-032dada81cfd>:11: FutureWarning: The default value of regex will change from True to False in a future version.\n",
            "  joint_data_1['is_equal']= (joint_data_1['Product_name_amazon'].str.lower().str.replace('s/+',\"\") == joint_data_1['Product_name_flipkart'].str.lower().str.replace('s/+',\"\"))\n",
            "<ipython-input-56-032dada81cfd>:11: SettingWithCopyWarning: \n",
            "A value is trying to be set on a copy of a slice from a DataFrame.\n",
            "Try using .loc[row_indexer,col_indexer] = value instead\n",
            "\n",
            "See the caveats in the documentation: https://pandas.pydata.org/pandas-docs/stable/user_guide/indexing.html#returning-a-view-versus-a-copy\n",
            "  joint_data_1['is_equal']= (joint_data_1['Product_name_amazon'].str.lower().str.replace('s/+',\"\") == joint_data_1['Product_name_flipkart'].str.lower().str.replace('s/+',\"\"))\n"
          ]
        },
        {
          "output_type": "execute_result",
          "data": {
            "text/plain": [
              "Empty DataFrame\n",
              "Columns: [Product_name_amazon, Retail_price_amazon, Discount_price_amazon, Product_name_flipkart, Retail_price_flipkart, Discount_price_flipkart, is_equal]\n",
              "Index: []"
            ],
            "text/html": [
              "\n",
              "  <div id=\"df-037bc0ea-b900-4657-9876-698ee2e95640\">\n",
              "    <div class=\"colab-df-container\">\n",
              "      <div>\n",
              "<style scoped>\n",
              "    .dataframe tbody tr th:only-of-type {\n",
              "        vertical-align: middle;\n",
              "    }\n",
              "\n",
              "    .dataframe tbody tr th {\n",
              "        vertical-align: top;\n",
              "    }\n",
              "\n",
              "    .dataframe thead th {\n",
              "        text-align: right;\n",
              "    }\n",
              "</style>\n",
              "<table border=\"1\" class=\"dataframe\">\n",
              "  <thead>\n",
              "    <tr style=\"text-align: right;\">\n",
              "      <th></th>\n",
              "      <th>Product_name_amazon</th>\n",
              "      <th>Retail_price_amazon</th>\n",
              "      <th>Discount_price_amazon</th>\n",
              "      <th>Product_name_flipkart</th>\n",
              "      <th>Retail_price_flipkart</th>\n",
              "      <th>Discount_price_flipkart</th>\n",
              "      <th>is_equal</th>\n",
              "    </tr>\n",
              "  </thead>\n",
              "  <tbody>\n",
              "  </tbody>\n",
              "</table>\n",
              "</div>\n",
              "      <button class=\"colab-df-convert\" onclick=\"convertToInteractive('df-037bc0ea-b900-4657-9876-698ee2e95640')\"\n",
              "              title=\"Convert this dataframe to an interactive table.\"\n",
              "              style=\"display:none;\">\n",
              "        \n",
              "  <svg xmlns=\"http://www.w3.org/2000/svg\" height=\"24px\"viewBox=\"0 0 24 24\"\n",
              "       width=\"24px\">\n",
              "    <path d=\"M0 0h24v24H0V0z\" fill=\"none\"/>\n",
              "    <path d=\"M18.56 5.44l.94 2.06.94-2.06 2.06-.94-2.06-.94-.94-2.06-.94 2.06-2.06.94zm-11 1L8.5 8.5l.94-2.06 2.06-.94-2.06-.94L8.5 2.5l-.94 2.06-2.06.94zm10 10l.94 2.06.94-2.06 2.06-.94-2.06-.94-.94-2.06-.94 2.06-2.06.94z\"/><path d=\"M17.41 7.96l-1.37-1.37c-.4-.4-.92-.59-1.43-.59-.52 0-1.04.2-1.43.59L10.3 9.45l-7.72 7.72c-.78.78-.78 2.05 0 2.83L4 21.41c.39.39.9.59 1.41.59.51 0 1.02-.2 1.41-.59l7.78-7.78 2.81-2.81c.8-.78.8-2.07 0-2.86zM5.41 20L4 18.59l7.72-7.72 1.47 1.35L5.41 20z\"/>\n",
              "  </svg>\n",
              "      </button>\n",
              "      \n",
              "  <style>\n",
              "    .colab-df-container {\n",
              "      display:flex;\n",
              "      flex-wrap:wrap;\n",
              "      gap: 12px;\n",
              "    }\n",
              "\n",
              "    .colab-df-convert {\n",
              "      background-color: #E8F0FE;\n",
              "      border: none;\n",
              "      border-radius: 50%;\n",
              "      cursor: pointer;\n",
              "      display: none;\n",
              "      fill: #1967D2;\n",
              "      height: 32px;\n",
              "      padding: 0 0 0 0;\n",
              "      width: 32px;\n",
              "    }\n",
              "\n",
              "    .colab-df-convert:hover {\n",
              "      background-color: #E2EBFA;\n",
              "      box-shadow: 0px 1px 2px rgba(60, 64, 67, 0.3), 0px 1px 3px 1px rgba(60, 64, 67, 0.15);\n",
              "      fill: #174EA6;\n",
              "    }\n",
              "\n",
              "    [theme=dark] .colab-df-convert {\n",
              "      background-color: #3B4455;\n",
              "      fill: #D2E3FC;\n",
              "    }\n",
              "\n",
              "    [theme=dark] .colab-df-convert:hover {\n",
              "      background-color: #434B5C;\n",
              "      box-shadow: 0px 1px 3px 1px rgba(0, 0, 0, 0.15);\n",
              "      filter: drop-shadow(0px 1px 2px rgba(0, 0, 0, 0.3));\n",
              "      fill: #FFFFFF;\n",
              "    }\n",
              "  </style>\n",
              "\n",
              "      <script>\n",
              "        const buttonEl =\n",
              "          document.querySelector('#df-037bc0ea-b900-4657-9876-698ee2e95640 button.colab-df-convert');\n",
              "        buttonEl.style.display =\n",
              "          google.colab.kernel.accessAllowed ? 'block' : 'none';\n",
              "\n",
              "        async function convertToInteractive(key) {\n",
              "          const element = document.querySelector('#df-037bc0ea-b900-4657-9876-698ee2e95640');\n",
              "          const dataTable =\n",
              "            await google.colab.kernel.invokeFunction('convertToInteractive',\n",
              "                                                     [key], {});\n",
              "          if (!dataTable) return;\n",
              "\n",
              "          const docLinkHtml = 'Like what you see? Visit the ' +\n",
              "            '<a target=\"_blank\" href=https://colab.research.google.com/notebooks/data_table.ipynb>data table notebook</a>'\n",
              "            + ' to learn more about interactive tables.';\n",
              "          element.innerHTML = '';\n",
              "          dataTable['output_type'] = 'display_data';\n",
              "          await google.colab.output.renderOutput(dataTable, element);\n",
              "          const docLink = document.createElement('div');\n",
              "          docLink.innerHTML = docLinkHtml;\n",
              "          element.appendChild(docLink);\n",
              "        }\n",
              "      </script>\n",
              "    </div>\n",
              "  </div>\n",
              "  "
            ]
          },
          "metadata": {},
          "execution_count": 56
        }
      ]
    },
    {
      "cell_type": "markdown",
      "source": [
        "#METHOD 1: taking input from user and displaying the product prices in both flipkart and amazon"
      ],
      "metadata": {
        "id": "XOpU76fURTLI"
      }
    },
    {
      "cell_type": "code",
      "source": [
        "product_name = input('Enter product name:') \n",
        "joint_data_1.loc[joint_data_1['Product_name_amazon'] == product_name]"
      ],
      "metadata": {
        "colab": {
          "base_uri": "https://localhost:8080/",
          "height": 675
        },
        "id": "4HJjXLwam5We",
        "outputId": "11ed6ae4-c296-4a59-987a-5c4402d594e2"
      },
      "execution_count": 58,
      "outputs": [
        {
          "name": "stdout",
          "output_type": "stream",
          "text": [
            "Enter product name:Alisha Solid Women's Cycling Shorts\n"
          ]
        },
        {
          "output_type": "execute_result",
          "data": {
            "text/plain": [
              "                    Product_name_amazon  Retail_price_amazon  \\\n",
              "0   Alisha Solid Women's Cycling Shorts                  982   \n",
              "1   Alisha Solid Women's Cycling Shorts                  982   \n",
              "2   Alisha Solid Women's Cycling Shorts                  982   \n",
              "6   Alisha Solid Women's Cycling Shorts                  694   \n",
              "7   Alisha Solid Women's Cycling Shorts                  694   \n",
              "8   Alisha Solid Women's Cycling Shorts                  694   \n",
              "12  Alisha Solid Women's Cycling Shorts                 1198   \n",
              "13  Alisha Solid Women's Cycling Shorts                 1198   \n",
              "14  Alisha Solid Women's Cycling Shorts                 1198   \n",
              "18  Alisha Solid Women's Cycling Shorts                 1197   \n",
              "19  Alisha Solid Women's Cycling Shorts                 1197   \n",
              "20  Alisha Solid Women's Cycling Shorts                 1197   \n",
              "24  Alisha Solid Women's Cycling Shorts                  990   \n",
              "25  Alisha Solid Women's Cycling Shorts                  990   \n",
              "26  Alisha Solid Women's Cycling Shorts                  990   \n",
              "30  Alisha Solid Women's Cycling Shorts                  995   \n",
              "31  Alisha Solid Women's Cycling Shorts                  995   \n",
              "32  Alisha Solid Women's Cycling Shorts                  995   \n",
              "\n",
              "    Discount_price_amazon                Product_name_flipkart  \\\n",
              "0                     438  Alisha Solid Women's Cycling Shorts   \n",
              "1                     438  Alisha Solid Women's Cycling Shorts   \n",
              "2                     438  Alisha Solid Women's Cycling Shorts   \n",
              "6                     325  Alisha Solid Women's Cycling Shorts   \n",
              "7                     325  Alisha Solid Women's Cycling Shorts   \n",
              "8                     325  Alisha Solid Women's Cycling Shorts   \n",
              "12                    602  Alisha Solid Women's Cycling Shorts   \n",
              "13                    602  Alisha Solid Women's Cycling Shorts   \n",
              "14                    602  Alisha Solid Women's Cycling Shorts   \n",
              "18                    542  Alisha Solid Women's Cycling Shorts   \n",
              "19                    542  Alisha Solid Women's Cycling Shorts   \n",
              "20                    542  Alisha Solid Women's Cycling Shorts   \n",
              "24                    479  Alisha Solid Women's Cycling Shorts   \n",
              "25                    479  Alisha Solid Women's Cycling Shorts   \n",
              "26                    479  Alisha Solid Women's Cycling Shorts   \n",
              "30                    434  Alisha Solid Women's Cycling Shorts   \n",
              "31                    434  Alisha Solid Women's Cycling Shorts   \n",
              "32                    434  Alisha Solid Women's Cycling Shorts   \n",
              "\n",
              "    Retail_price_flipkart  Discount_price_flipkart  \n",
              "0                   999.0                    379.0  \n",
              "1                   699.0                    267.0  \n",
              "2                  1199.0                    479.0  \n",
              "6                   999.0                    379.0  \n",
              "7                   699.0                    267.0  \n",
              "8                  1199.0                    479.0  \n",
              "12                  999.0                    379.0  \n",
              "13                  699.0                    267.0  \n",
              "14                 1199.0                    479.0  \n",
              "18                  999.0                    379.0  \n",
              "19                  699.0                    267.0  \n",
              "20                 1199.0                    479.0  \n",
              "24                  999.0                    379.0  \n",
              "25                  699.0                    267.0  \n",
              "26                 1199.0                    479.0  \n",
              "30                  999.0                    379.0  \n",
              "31                  699.0                    267.0  \n",
              "32                 1199.0                    479.0  "
            ],
            "text/html": [
              "\n",
              "  <div id=\"df-e9003677-ce08-4452-992c-025edef75c0f\">\n",
              "    <div class=\"colab-df-container\">\n",
              "      <div>\n",
              "<style scoped>\n",
              "    .dataframe tbody tr th:only-of-type {\n",
              "        vertical-align: middle;\n",
              "    }\n",
              "\n",
              "    .dataframe tbody tr th {\n",
              "        vertical-align: top;\n",
              "    }\n",
              "\n",
              "    .dataframe thead th {\n",
              "        text-align: right;\n",
              "    }\n",
              "</style>\n",
              "<table border=\"1\" class=\"dataframe\">\n",
              "  <thead>\n",
              "    <tr style=\"text-align: right;\">\n",
              "      <th></th>\n",
              "      <th>Product_name_amazon</th>\n",
              "      <th>Retail_price_amazon</th>\n",
              "      <th>Discount_price_amazon</th>\n",
              "      <th>Product_name_flipkart</th>\n",
              "      <th>Retail_price_flipkart</th>\n",
              "      <th>Discount_price_flipkart</th>\n",
              "    </tr>\n",
              "  </thead>\n",
              "  <tbody>\n",
              "    <tr>\n",
              "      <th>0</th>\n",
              "      <td>Alisha Solid Women's Cycling Shorts</td>\n",
              "      <td>982</td>\n",
              "      <td>438</td>\n",
              "      <td>Alisha Solid Women's Cycling Shorts</td>\n",
              "      <td>999.0</td>\n",
              "      <td>379.0</td>\n",
              "    </tr>\n",
              "    <tr>\n",
              "      <th>1</th>\n",
              "      <td>Alisha Solid Women's Cycling Shorts</td>\n",
              "      <td>982</td>\n",
              "      <td>438</td>\n",
              "      <td>Alisha Solid Women's Cycling Shorts</td>\n",
              "      <td>699.0</td>\n",
              "      <td>267.0</td>\n",
              "    </tr>\n",
              "    <tr>\n",
              "      <th>2</th>\n",
              "      <td>Alisha Solid Women's Cycling Shorts</td>\n",
              "      <td>982</td>\n",
              "      <td>438</td>\n",
              "      <td>Alisha Solid Women's Cycling Shorts</td>\n",
              "      <td>1199.0</td>\n",
              "      <td>479.0</td>\n",
              "    </tr>\n",
              "    <tr>\n",
              "      <th>6</th>\n",
              "      <td>Alisha Solid Women's Cycling Shorts</td>\n",
              "      <td>694</td>\n",
              "      <td>325</td>\n",
              "      <td>Alisha Solid Women's Cycling Shorts</td>\n",
              "      <td>999.0</td>\n",
              "      <td>379.0</td>\n",
              "    </tr>\n",
              "    <tr>\n",
              "      <th>7</th>\n",
              "      <td>Alisha Solid Women's Cycling Shorts</td>\n",
              "      <td>694</td>\n",
              "      <td>325</td>\n",
              "      <td>Alisha Solid Women's Cycling Shorts</td>\n",
              "      <td>699.0</td>\n",
              "      <td>267.0</td>\n",
              "    </tr>\n",
              "    <tr>\n",
              "      <th>8</th>\n",
              "      <td>Alisha Solid Women's Cycling Shorts</td>\n",
              "      <td>694</td>\n",
              "      <td>325</td>\n",
              "      <td>Alisha Solid Women's Cycling Shorts</td>\n",
              "      <td>1199.0</td>\n",
              "      <td>479.0</td>\n",
              "    </tr>\n",
              "    <tr>\n",
              "      <th>12</th>\n",
              "      <td>Alisha Solid Women's Cycling Shorts</td>\n",
              "      <td>1198</td>\n",
              "      <td>602</td>\n",
              "      <td>Alisha Solid Women's Cycling Shorts</td>\n",
              "      <td>999.0</td>\n",
              "      <td>379.0</td>\n",
              "    </tr>\n",
              "    <tr>\n",
              "      <th>13</th>\n",
              "      <td>Alisha Solid Women's Cycling Shorts</td>\n",
              "      <td>1198</td>\n",
              "      <td>602</td>\n",
              "      <td>Alisha Solid Women's Cycling Shorts</td>\n",
              "      <td>699.0</td>\n",
              "      <td>267.0</td>\n",
              "    </tr>\n",
              "    <tr>\n",
              "      <th>14</th>\n",
              "      <td>Alisha Solid Women's Cycling Shorts</td>\n",
              "      <td>1198</td>\n",
              "      <td>602</td>\n",
              "      <td>Alisha Solid Women's Cycling Shorts</td>\n",
              "      <td>1199.0</td>\n",
              "      <td>479.0</td>\n",
              "    </tr>\n",
              "    <tr>\n",
              "      <th>18</th>\n",
              "      <td>Alisha Solid Women's Cycling Shorts</td>\n",
              "      <td>1197</td>\n",
              "      <td>542</td>\n",
              "      <td>Alisha Solid Women's Cycling Shorts</td>\n",
              "      <td>999.0</td>\n",
              "      <td>379.0</td>\n",
              "    </tr>\n",
              "    <tr>\n",
              "      <th>19</th>\n",
              "      <td>Alisha Solid Women's Cycling Shorts</td>\n",
              "      <td>1197</td>\n",
              "      <td>542</td>\n",
              "      <td>Alisha Solid Women's Cycling Shorts</td>\n",
              "      <td>699.0</td>\n",
              "      <td>267.0</td>\n",
              "    </tr>\n",
              "    <tr>\n",
              "      <th>20</th>\n",
              "      <td>Alisha Solid Women's Cycling Shorts</td>\n",
              "      <td>1197</td>\n",
              "      <td>542</td>\n",
              "      <td>Alisha Solid Women's Cycling Shorts</td>\n",
              "      <td>1199.0</td>\n",
              "      <td>479.0</td>\n",
              "    </tr>\n",
              "    <tr>\n",
              "      <th>24</th>\n",
              "      <td>Alisha Solid Women's Cycling Shorts</td>\n",
              "      <td>990</td>\n",
              "      <td>479</td>\n",
              "      <td>Alisha Solid Women's Cycling Shorts</td>\n",
              "      <td>999.0</td>\n",
              "      <td>379.0</td>\n",
              "    </tr>\n",
              "    <tr>\n",
              "      <th>25</th>\n",
              "      <td>Alisha Solid Women's Cycling Shorts</td>\n",
              "      <td>990</td>\n",
              "      <td>479</td>\n",
              "      <td>Alisha Solid Women's Cycling Shorts</td>\n",
              "      <td>699.0</td>\n",
              "      <td>267.0</td>\n",
              "    </tr>\n",
              "    <tr>\n",
              "      <th>26</th>\n",
              "      <td>Alisha Solid Women's Cycling Shorts</td>\n",
              "      <td>990</td>\n",
              "      <td>479</td>\n",
              "      <td>Alisha Solid Women's Cycling Shorts</td>\n",
              "      <td>1199.0</td>\n",
              "      <td>479.0</td>\n",
              "    </tr>\n",
              "    <tr>\n",
              "      <th>30</th>\n",
              "      <td>Alisha Solid Women's Cycling Shorts</td>\n",
              "      <td>995</td>\n",
              "      <td>434</td>\n",
              "      <td>Alisha Solid Women's Cycling Shorts</td>\n",
              "      <td>999.0</td>\n",
              "      <td>379.0</td>\n",
              "    </tr>\n",
              "    <tr>\n",
              "      <th>31</th>\n",
              "      <td>Alisha Solid Women's Cycling Shorts</td>\n",
              "      <td>995</td>\n",
              "      <td>434</td>\n",
              "      <td>Alisha Solid Women's Cycling Shorts</td>\n",
              "      <td>699.0</td>\n",
              "      <td>267.0</td>\n",
              "    </tr>\n",
              "    <tr>\n",
              "      <th>32</th>\n",
              "      <td>Alisha Solid Women's Cycling Shorts</td>\n",
              "      <td>995</td>\n",
              "      <td>434</td>\n",
              "      <td>Alisha Solid Women's Cycling Shorts</td>\n",
              "      <td>1199.0</td>\n",
              "      <td>479.0</td>\n",
              "    </tr>\n",
              "  </tbody>\n",
              "</table>\n",
              "</div>\n",
              "      <button class=\"colab-df-convert\" onclick=\"convertToInteractive('df-e9003677-ce08-4452-992c-025edef75c0f')\"\n",
              "              title=\"Convert this dataframe to an interactive table.\"\n",
              "              style=\"display:none;\">\n",
              "        \n",
              "  <svg xmlns=\"http://www.w3.org/2000/svg\" height=\"24px\"viewBox=\"0 0 24 24\"\n",
              "       width=\"24px\">\n",
              "    <path d=\"M0 0h24v24H0V0z\" fill=\"none\"/>\n",
              "    <path d=\"M18.56 5.44l.94 2.06.94-2.06 2.06-.94-2.06-.94-.94-2.06-.94 2.06-2.06.94zm-11 1L8.5 8.5l.94-2.06 2.06-.94-2.06-.94L8.5 2.5l-.94 2.06-2.06.94zm10 10l.94 2.06.94-2.06 2.06-.94-2.06-.94-.94-2.06-.94 2.06-2.06.94z\"/><path d=\"M17.41 7.96l-1.37-1.37c-.4-.4-.92-.59-1.43-.59-.52 0-1.04.2-1.43.59L10.3 9.45l-7.72 7.72c-.78.78-.78 2.05 0 2.83L4 21.41c.39.39.9.59 1.41.59.51 0 1.02-.2 1.41-.59l7.78-7.78 2.81-2.81c.8-.78.8-2.07 0-2.86zM5.41 20L4 18.59l7.72-7.72 1.47 1.35L5.41 20z\"/>\n",
              "  </svg>\n",
              "      </button>\n",
              "      \n",
              "  <style>\n",
              "    .colab-df-container {\n",
              "      display:flex;\n",
              "      flex-wrap:wrap;\n",
              "      gap: 12px;\n",
              "    }\n",
              "\n",
              "    .colab-df-convert {\n",
              "      background-color: #E8F0FE;\n",
              "      border: none;\n",
              "      border-radius: 50%;\n",
              "      cursor: pointer;\n",
              "      display: none;\n",
              "      fill: #1967D2;\n",
              "      height: 32px;\n",
              "      padding: 0 0 0 0;\n",
              "      width: 32px;\n",
              "    }\n",
              "\n",
              "    .colab-df-convert:hover {\n",
              "      background-color: #E2EBFA;\n",
              "      box-shadow: 0px 1px 2px rgba(60, 64, 67, 0.3), 0px 1px 3px 1px rgba(60, 64, 67, 0.15);\n",
              "      fill: #174EA6;\n",
              "    }\n",
              "\n",
              "    [theme=dark] .colab-df-convert {\n",
              "      background-color: #3B4455;\n",
              "      fill: #D2E3FC;\n",
              "    }\n",
              "\n",
              "    [theme=dark] .colab-df-convert:hover {\n",
              "      background-color: #434B5C;\n",
              "      box-shadow: 0px 1px 3px 1px rgba(0, 0, 0, 0.15);\n",
              "      filter: drop-shadow(0px 1px 2px rgba(0, 0, 0, 0.3));\n",
              "      fill: #FFFFFF;\n",
              "    }\n",
              "  </style>\n",
              "\n",
              "      <script>\n",
              "        const buttonEl =\n",
              "          document.querySelector('#df-e9003677-ce08-4452-992c-025edef75c0f button.colab-df-convert');\n",
              "        buttonEl.style.display =\n",
              "          google.colab.kernel.accessAllowed ? 'block' : 'none';\n",
              "\n",
              "        async function convertToInteractive(key) {\n",
              "          const element = document.querySelector('#df-e9003677-ce08-4452-992c-025edef75c0f');\n",
              "          const dataTable =\n",
              "            await google.colab.kernel.invokeFunction('convertToInteractive',\n",
              "                                                     [key], {});\n",
              "          if (!dataTable) return;\n",
              "\n",
              "          const docLinkHtml = 'Like what you see? Visit the ' +\n",
              "            '<a target=\"_blank\" href=https://colab.research.google.com/notebooks/data_table.ipynb>data table notebook</a>'\n",
              "            + ' to learn more about interactive tables.';\n",
              "          element.innerHTML = '';\n",
              "          dataTable['output_type'] = 'display_data';\n",
              "          await google.colab.output.renderOutput(dataTable, element);\n",
              "          const docLink = document.createElement('div');\n",
              "          docLink.innerHTML = docLinkHtml;\n",
              "          element.appendChild(docLink);\n",
              "        }\n",
              "      </script>\n",
              "    </div>\n",
              "  </div>\n",
              "  "
            ]
          },
          "metadata": {},
          "execution_count": 58
        }
      ]
    },
    {
      "cell_type": "code",
      "source": [
        "joint_data_1.loc[joint_data_1['Product_name_amazon'] == product_name].shape"
      ],
      "metadata": {
        "colab": {
          "base_uri": "https://localhost:8080/"
        },
        "id": "7hnjtIYEom_d",
        "outputId": "e7fea056-4675-4028-8c1e-4a589324a0b3"
      },
      "execution_count": 59,
      "outputs": [
        {
          "output_type": "execute_result",
          "data": {
            "text/plain": [
              "(18, 6)"
            ]
          },
          "metadata": {},
          "execution_count": 59
        }
      ]
    },
    {
      "cell_type": "code",
      "source": [
        "#re checking if we will get same result if we take the product name for flipkart. \n",
        "#It will be true as we have already checked the names are same or not\n",
        "\n",
        "joint_data_1.loc[joint_data_1['Product_name_flipkart'] == product_name].shape"
      ],
      "metadata": {
        "colab": {
          "base_uri": "https://localhost:8080/"
        },
        "id": "s_rl3WtaoqrE",
        "outputId": "98a0007f-24e2-4b52-eff8-7fcb11431d24"
      },
      "execution_count": 60,
      "outputs": [
        {
          "output_type": "execute_result",
          "data": {
            "text/plain": [
              "(18, 6)"
            ]
          },
          "metadata": {},
          "execution_count": 60
        }
      ]
    },
    {
      "cell_type": "markdown",
      "source": [
        "#METHOD 2: Creating a form and asking for user input then displaying the product price in both amazon and flipkart"
      ],
      "metadata": {
        "id": "5EeGy9ApRyj4"
      }
    },
    {
      "cell_type": "code",
      "source": [
        "#@title AMAZON PRICE vs FLIPKART PRICE\n",
        "product_name = \"Alisha Solid Women's Cycling Shorts\" #@param {type:\"string\"}\n",
        "joint_data_1.loc[joint_data_1['Product_name_amazon'] == product_name]"
      ],
      "metadata": {
        "colab": {
          "base_uri": "https://localhost:8080/",
          "height": 658
        },
        "id": "xhmXq7I3pkM5",
        "outputId": "cc521695-a5cb-43f6-a087-f00ff1984db6"
      },
      "execution_count": 61,
      "outputs": [
        {
          "output_type": "execute_result",
          "data": {
            "text/plain": [
              "                    Product_name_amazon  Retail_price_amazon  \\\n",
              "0   Alisha Solid Women's Cycling Shorts                  982   \n",
              "1   Alisha Solid Women's Cycling Shorts                  982   \n",
              "2   Alisha Solid Women's Cycling Shorts                  982   \n",
              "6   Alisha Solid Women's Cycling Shorts                  694   \n",
              "7   Alisha Solid Women's Cycling Shorts                  694   \n",
              "8   Alisha Solid Women's Cycling Shorts                  694   \n",
              "12  Alisha Solid Women's Cycling Shorts                 1198   \n",
              "13  Alisha Solid Women's Cycling Shorts                 1198   \n",
              "14  Alisha Solid Women's Cycling Shorts                 1198   \n",
              "18  Alisha Solid Women's Cycling Shorts                 1197   \n",
              "19  Alisha Solid Women's Cycling Shorts                 1197   \n",
              "20  Alisha Solid Women's Cycling Shorts                 1197   \n",
              "24  Alisha Solid Women's Cycling Shorts                  990   \n",
              "25  Alisha Solid Women's Cycling Shorts                  990   \n",
              "26  Alisha Solid Women's Cycling Shorts                  990   \n",
              "30  Alisha Solid Women's Cycling Shorts                  995   \n",
              "31  Alisha Solid Women's Cycling Shorts                  995   \n",
              "32  Alisha Solid Women's Cycling Shorts                  995   \n",
              "\n",
              "    Discount_price_amazon                Product_name_flipkart  \\\n",
              "0                     438  Alisha Solid Women's Cycling Shorts   \n",
              "1                     438  Alisha Solid Women's Cycling Shorts   \n",
              "2                     438  Alisha Solid Women's Cycling Shorts   \n",
              "6                     325  Alisha Solid Women's Cycling Shorts   \n",
              "7                     325  Alisha Solid Women's Cycling Shorts   \n",
              "8                     325  Alisha Solid Women's Cycling Shorts   \n",
              "12                    602  Alisha Solid Women's Cycling Shorts   \n",
              "13                    602  Alisha Solid Women's Cycling Shorts   \n",
              "14                    602  Alisha Solid Women's Cycling Shorts   \n",
              "18                    542  Alisha Solid Women's Cycling Shorts   \n",
              "19                    542  Alisha Solid Women's Cycling Shorts   \n",
              "20                    542  Alisha Solid Women's Cycling Shorts   \n",
              "24                    479  Alisha Solid Women's Cycling Shorts   \n",
              "25                    479  Alisha Solid Women's Cycling Shorts   \n",
              "26                    479  Alisha Solid Women's Cycling Shorts   \n",
              "30                    434  Alisha Solid Women's Cycling Shorts   \n",
              "31                    434  Alisha Solid Women's Cycling Shorts   \n",
              "32                    434  Alisha Solid Women's Cycling Shorts   \n",
              "\n",
              "    Retail_price_flipkart  Discount_price_flipkart  \n",
              "0                   999.0                    379.0  \n",
              "1                   699.0                    267.0  \n",
              "2                  1199.0                    479.0  \n",
              "6                   999.0                    379.0  \n",
              "7                   699.0                    267.0  \n",
              "8                  1199.0                    479.0  \n",
              "12                  999.0                    379.0  \n",
              "13                  699.0                    267.0  \n",
              "14                 1199.0                    479.0  \n",
              "18                  999.0                    379.0  \n",
              "19                  699.0                    267.0  \n",
              "20                 1199.0                    479.0  \n",
              "24                  999.0                    379.0  \n",
              "25                  699.0                    267.0  \n",
              "26                 1199.0                    479.0  \n",
              "30                  999.0                    379.0  \n",
              "31                  699.0                    267.0  \n",
              "32                 1199.0                    479.0  "
            ],
            "text/html": [
              "\n",
              "  <div id=\"df-34f178e2-a3f9-4422-a408-55978e439184\">\n",
              "    <div class=\"colab-df-container\">\n",
              "      <div>\n",
              "<style scoped>\n",
              "    .dataframe tbody tr th:only-of-type {\n",
              "        vertical-align: middle;\n",
              "    }\n",
              "\n",
              "    .dataframe tbody tr th {\n",
              "        vertical-align: top;\n",
              "    }\n",
              "\n",
              "    .dataframe thead th {\n",
              "        text-align: right;\n",
              "    }\n",
              "</style>\n",
              "<table border=\"1\" class=\"dataframe\">\n",
              "  <thead>\n",
              "    <tr style=\"text-align: right;\">\n",
              "      <th></th>\n",
              "      <th>Product_name_amazon</th>\n",
              "      <th>Retail_price_amazon</th>\n",
              "      <th>Discount_price_amazon</th>\n",
              "      <th>Product_name_flipkart</th>\n",
              "      <th>Retail_price_flipkart</th>\n",
              "      <th>Discount_price_flipkart</th>\n",
              "    </tr>\n",
              "  </thead>\n",
              "  <tbody>\n",
              "    <tr>\n",
              "      <th>0</th>\n",
              "      <td>Alisha Solid Women's Cycling Shorts</td>\n",
              "      <td>982</td>\n",
              "      <td>438</td>\n",
              "      <td>Alisha Solid Women's Cycling Shorts</td>\n",
              "      <td>999.0</td>\n",
              "      <td>379.0</td>\n",
              "    </tr>\n",
              "    <tr>\n",
              "      <th>1</th>\n",
              "      <td>Alisha Solid Women's Cycling Shorts</td>\n",
              "      <td>982</td>\n",
              "      <td>438</td>\n",
              "      <td>Alisha Solid Women's Cycling Shorts</td>\n",
              "      <td>699.0</td>\n",
              "      <td>267.0</td>\n",
              "    </tr>\n",
              "    <tr>\n",
              "      <th>2</th>\n",
              "      <td>Alisha Solid Women's Cycling Shorts</td>\n",
              "      <td>982</td>\n",
              "      <td>438</td>\n",
              "      <td>Alisha Solid Women's Cycling Shorts</td>\n",
              "      <td>1199.0</td>\n",
              "      <td>479.0</td>\n",
              "    </tr>\n",
              "    <tr>\n",
              "      <th>6</th>\n",
              "      <td>Alisha Solid Women's Cycling Shorts</td>\n",
              "      <td>694</td>\n",
              "      <td>325</td>\n",
              "      <td>Alisha Solid Women's Cycling Shorts</td>\n",
              "      <td>999.0</td>\n",
              "      <td>379.0</td>\n",
              "    </tr>\n",
              "    <tr>\n",
              "      <th>7</th>\n",
              "      <td>Alisha Solid Women's Cycling Shorts</td>\n",
              "      <td>694</td>\n",
              "      <td>325</td>\n",
              "      <td>Alisha Solid Women's Cycling Shorts</td>\n",
              "      <td>699.0</td>\n",
              "      <td>267.0</td>\n",
              "    </tr>\n",
              "    <tr>\n",
              "      <th>8</th>\n",
              "      <td>Alisha Solid Women's Cycling Shorts</td>\n",
              "      <td>694</td>\n",
              "      <td>325</td>\n",
              "      <td>Alisha Solid Women's Cycling Shorts</td>\n",
              "      <td>1199.0</td>\n",
              "      <td>479.0</td>\n",
              "    </tr>\n",
              "    <tr>\n",
              "      <th>12</th>\n",
              "      <td>Alisha Solid Women's Cycling Shorts</td>\n",
              "      <td>1198</td>\n",
              "      <td>602</td>\n",
              "      <td>Alisha Solid Women's Cycling Shorts</td>\n",
              "      <td>999.0</td>\n",
              "      <td>379.0</td>\n",
              "    </tr>\n",
              "    <tr>\n",
              "      <th>13</th>\n",
              "      <td>Alisha Solid Women's Cycling Shorts</td>\n",
              "      <td>1198</td>\n",
              "      <td>602</td>\n",
              "      <td>Alisha Solid Women's Cycling Shorts</td>\n",
              "      <td>699.0</td>\n",
              "      <td>267.0</td>\n",
              "    </tr>\n",
              "    <tr>\n",
              "      <th>14</th>\n",
              "      <td>Alisha Solid Women's Cycling Shorts</td>\n",
              "      <td>1198</td>\n",
              "      <td>602</td>\n",
              "      <td>Alisha Solid Women's Cycling Shorts</td>\n",
              "      <td>1199.0</td>\n",
              "      <td>479.0</td>\n",
              "    </tr>\n",
              "    <tr>\n",
              "      <th>18</th>\n",
              "      <td>Alisha Solid Women's Cycling Shorts</td>\n",
              "      <td>1197</td>\n",
              "      <td>542</td>\n",
              "      <td>Alisha Solid Women's Cycling Shorts</td>\n",
              "      <td>999.0</td>\n",
              "      <td>379.0</td>\n",
              "    </tr>\n",
              "    <tr>\n",
              "      <th>19</th>\n",
              "      <td>Alisha Solid Women's Cycling Shorts</td>\n",
              "      <td>1197</td>\n",
              "      <td>542</td>\n",
              "      <td>Alisha Solid Women's Cycling Shorts</td>\n",
              "      <td>699.0</td>\n",
              "      <td>267.0</td>\n",
              "    </tr>\n",
              "    <tr>\n",
              "      <th>20</th>\n",
              "      <td>Alisha Solid Women's Cycling Shorts</td>\n",
              "      <td>1197</td>\n",
              "      <td>542</td>\n",
              "      <td>Alisha Solid Women's Cycling Shorts</td>\n",
              "      <td>1199.0</td>\n",
              "      <td>479.0</td>\n",
              "    </tr>\n",
              "    <tr>\n",
              "      <th>24</th>\n",
              "      <td>Alisha Solid Women's Cycling Shorts</td>\n",
              "      <td>990</td>\n",
              "      <td>479</td>\n",
              "      <td>Alisha Solid Women's Cycling Shorts</td>\n",
              "      <td>999.0</td>\n",
              "      <td>379.0</td>\n",
              "    </tr>\n",
              "    <tr>\n",
              "      <th>25</th>\n",
              "      <td>Alisha Solid Women's Cycling Shorts</td>\n",
              "      <td>990</td>\n",
              "      <td>479</td>\n",
              "      <td>Alisha Solid Women's Cycling Shorts</td>\n",
              "      <td>699.0</td>\n",
              "      <td>267.0</td>\n",
              "    </tr>\n",
              "    <tr>\n",
              "      <th>26</th>\n",
              "      <td>Alisha Solid Women's Cycling Shorts</td>\n",
              "      <td>990</td>\n",
              "      <td>479</td>\n",
              "      <td>Alisha Solid Women's Cycling Shorts</td>\n",
              "      <td>1199.0</td>\n",
              "      <td>479.0</td>\n",
              "    </tr>\n",
              "    <tr>\n",
              "      <th>30</th>\n",
              "      <td>Alisha Solid Women's Cycling Shorts</td>\n",
              "      <td>995</td>\n",
              "      <td>434</td>\n",
              "      <td>Alisha Solid Women's Cycling Shorts</td>\n",
              "      <td>999.0</td>\n",
              "      <td>379.0</td>\n",
              "    </tr>\n",
              "    <tr>\n",
              "      <th>31</th>\n",
              "      <td>Alisha Solid Women's Cycling Shorts</td>\n",
              "      <td>995</td>\n",
              "      <td>434</td>\n",
              "      <td>Alisha Solid Women's Cycling Shorts</td>\n",
              "      <td>699.0</td>\n",
              "      <td>267.0</td>\n",
              "    </tr>\n",
              "    <tr>\n",
              "      <th>32</th>\n",
              "      <td>Alisha Solid Women's Cycling Shorts</td>\n",
              "      <td>995</td>\n",
              "      <td>434</td>\n",
              "      <td>Alisha Solid Women's Cycling Shorts</td>\n",
              "      <td>1199.0</td>\n",
              "      <td>479.0</td>\n",
              "    </tr>\n",
              "  </tbody>\n",
              "</table>\n",
              "</div>\n",
              "      <button class=\"colab-df-convert\" onclick=\"convertToInteractive('df-34f178e2-a3f9-4422-a408-55978e439184')\"\n",
              "              title=\"Convert this dataframe to an interactive table.\"\n",
              "              style=\"display:none;\">\n",
              "        \n",
              "  <svg xmlns=\"http://www.w3.org/2000/svg\" height=\"24px\"viewBox=\"0 0 24 24\"\n",
              "       width=\"24px\">\n",
              "    <path d=\"M0 0h24v24H0V0z\" fill=\"none\"/>\n",
              "    <path d=\"M18.56 5.44l.94 2.06.94-2.06 2.06-.94-2.06-.94-.94-2.06-.94 2.06-2.06.94zm-11 1L8.5 8.5l.94-2.06 2.06-.94-2.06-.94L8.5 2.5l-.94 2.06-2.06.94zm10 10l.94 2.06.94-2.06 2.06-.94-2.06-.94-.94-2.06-.94 2.06-2.06.94z\"/><path d=\"M17.41 7.96l-1.37-1.37c-.4-.4-.92-.59-1.43-.59-.52 0-1.04.2-1.43.59L10.3 9.45l-7.72 7.72c-.78.78-.78 2.05 0 2.83L4 21.41c.39.39.9.59 1.41.59.51 0 1.02-.2 1.41-.59l7.78-7.78 2.81-2.81c.8-.78.8-2.07 0-2.86zM5.41 20L4 18.59l7.72-7.72 1.47 1.35L5.41 20z\"/>\n",
              "  </svg>\n",
              "      </button>\n",
              "      \n",
              "  <style>\n",
              "    .colab-df-container {\n",
              "      display:flex;\n",
              "      flex-wrap:wrap;\n",
              "      gap: 12px;\n",
              "    }\n",
              "\n",
              "    .colab-df-convert {\n",
              "      background-color: #E8F0FE;\n",
              "      border: none;\n",
              "      border-radius: 50%;\n",
              "      cursor: pointer;\n",
              "      display: none;\n",
              "      fill: #1967D2;\n",
              "      height: 32px;\n",
              "      padding: 0 0 0 0;\n",
              "      width: 32px;\n",
              "    }\n",
              "\n",
              "    .colab-df-convert:hover {\n",
              "      background-color: #E2EBFA;\n",
              "      box-shadow: 0px 1px 2px rgba(60, 64, 67, 0.3), 0px 1px 3px 1px rgba(60, 64, 67, 0.15);\n",
              "      fill: #174EA6;\n",
              "    }\n",
              "\n",
              "    [theme=dark] .colab-df-convert {\n",
              "      background-color: #3B4455;\n",
              "      fill: #D2E3FC;\n",
              "    }\n",
              "\n",
              "    [theme=dark] .colab-df-convert:hover {\n",
              "      background-color: #434B5C;\n",
              "      box-shadow: 0px 1px 3px 1px rgba(0, 0, 0, 0.15);\n",
              "      filter: drop-shadow(0px 1px 2px rgba(0, 0, 0, 0.3));\n",
              "      fill: #FFFFFF;\n",
              "    }\n",
              "  </style>\n",
              "\n",
              "      <script>\n",
              "        const buttonEl =\n",
              "          document.querySelector('#df-34f178e2-a3f9-4422-a408-55978e439184 button.colab-df-convert');\n",
              "        buttonEl.style.display =\n",
              "          google.colab.kernel.accessAllowed ? 'block' : 'none';\n",
              "\n",
              "        async function convertToInteractive(key) {\n",
              "          const element = document.querySelector('#df-34f178e2-a3f9-4422-a408-55978e439184');\n",
              "          const dataTable =\n",
              "            await google.colab.kernel.invokeFunction('convertToInteractive',\n",
              "                                                     [key], {});\n",
              "          if (!dataTable) return;\n",
              "\n",
              "          const docLinkHtml = 'Like what you see? Visit the ' +\n",
              "            '<a target=\"_blank\" href=https://colab.research.google.com/notebooks/data_table.ipynb>data table notebook</a>'\n",
              "            + ' to learn more about interactive tables.';\n",
              "          element.innerHTML = '';\n",
              "          dataTable['output_type'] = 'display_data';\n",
              "          await google.colab.output.renderOutput(dataTable, element);\n",
              "          const docLink = document.createElement('div');\n",
              "          docLink.innerHTML = docLinkHtml;\n",
              "          element.appendChild(docLink);\n",
              "        }\n",
              "      </script>\n",
              "    </div>\n",
              "  </div>\n",
              "  "
            ]
          },
          "metadata": {},
          "execution_count": 61
        }
      ]
    },
    {
      "cell_type": "markdown",
      "source": [
        "#Suggesting least price from both websites"
      ],
      "metadata": {
        "id": "-M_ItBW7V-bx"
      }
    },
    {
      "cell_type": "code",
      "source": [
        "product_name_1 = input('enter a product name: ')\n",
        "suggestion_amazon = amazon1.loc[amazon1['Product_name_amazon']==product_name_1] \n",
        "\n",
        "\n",
        "suggestion_amazon = suggestion_amazon[suggestion_amazon.Discount_price_amazon == suggestion_amazon.Discount_price_amazon.min()]\n",
        "suggestion_amazon"
      ],
      "metadata": {
        "colab": {
          "base_uri": "https://localhost:8080/",
          "height": 98
        },
        "id": "l69NanpCV9hX",
        "outputId": "a07979e8-cd6e-40da-e009-f736571c17ec"
      },
      "execution_count": 62,
      "outputs": [
        {
          "name": "stdout",
          "output_type": "stream",
          "text": [
            "enter a product name: Alisha Solid Women's Cycling Shorts\n"
          ]
        },
        {
          "output_type": "execute_result",
          "data": {
            "text/plain": [
              "                   Product_name_amazon  Retail_price_amazon  \\\n",
              "3  Alisha Solid Women's Cycling Shorts                  694   \n",
              "\n",
              "   Discount_price_amazon  \n",
              "3                    325  "
            ],
            "text/html": [
              "\n",
              "  <div id=\"df-3a6ccb96-e4b9-41cc-8a5e-54469dc11cfd\">\n",
              "    <div class=\"colab-df-container\">\n",
              "      <div>\n",
              "<style scoped>\n",
              "    .dataframe tbody tr th:only-of-type {\n",
              "        vertical-align: middle;\n",
              "    }\n",
              "\n",
              "    .dataframe tbody tr th {\n",
              "        vertical-align: top;\n",
              "    }\n",
              "\n",
              "    .dataframe thead th {\n",
              "        text-align: right;\n",
              "    }\n",
              "</style>\n",
              "<table border=\"1\" class=\"dataframe\">\n",
              "  <thead>\n",
              "    <tr style=\"text-align: right;\">\n",
              "      <th></th>\n",
              "      <th>Product_name_amazon</th>\n",
              "      <th>Retail_price_amazon</th>\n",
              "      <th>Discount_price_amazon</th>\n",
              "    </tr>\n",
              "  </thead>\n",
              "  <tbody>\n",
              "    <tr>\n",
              "      <th>3</th>\n",
              "      <td>Alisha Solid Women's Cycling Shorts</td>\n",
              "      <td>694</td>\n",
              "      <td>325</td>\n",
              "    </tr>\n",
              "  </tbody>\n",
              "</table>\n",
              "</div>\n",
              "      <button class=\"colab-df-convert\" onclick=\"convertToInteractive('df-3a6ccb96-e4b9-41cc-8a5e-54469dc11cfd')\"\n",
              "              title=\"Convert this dataframe to an interactive table.\"\n",
              "              style=\"display:none;\">\n",
              "        \n",
              "  <svg xmlns=\"http://www.w3.org/2000/svg\" height=\"24px\"viewBox=\"0 0 24 24\"\n",
              "       width=\"24px\">\n",
              "    <path d=\"M0 0h24v24H0V0z\" fill=\"none\"/>\n",
              "    <path d=\"M18.56 5.44l.94 2.06.94-2.06 2.06-.94-2.06-.94-.94-2.06-.94 2.06-2.06.94zm-11 1L8.5 8.5l.94-2.06 2.06-.94-2.06-.94L8.5 2.5l-.94 2.06-2.06.94zm10 10l.94 2.06.94-2.06 2.06-.94-2.06-.94-.94-2.06-.94 2.06-2.06.94z\"/><path d=\"M17.41 7.96l-1.37-1.37c-.4-.4-.92-.59-1.43-.59-.52 0-1.04.2-1.43.59L10.3 9.45l-7.72 7.72c-.78.78-.78 2.05 0 2.83L4 21.41c.39.39.9.59 1.41.59.51 0 1.02-.2 1.41-.59l7.78-7.78 2.81-2.81c.8-.78.8-2.07 0-2.86zM5.41 20L4 18.59l7.72-7.72 1.47 1.35L5.41 20z\"/>\n",
              "  </svg>\n",
              "      </button>\n",
              "      \n",
              "  <style>\n",
              "    .colab-df-container {\n",
              "      display:flex;\n",
              "      flex-wrap:wrap;\n",
              "      gap: 12px;\n",
              "    }\n",
              "\n",
              "    .colab-df-convert {\n",
              "      background-color: #E8F0FE;\n",
              "      border: none;\n",
              "      border-radius: 50%;\n",
              "      cursor: pointer;\n",
              "      display: none;\n",
              "      fill: #1967D2;\n",
              "      height: 32px;\n",
              "      padding: 0 0 0 0;\n",
              "      width: 32px;\n",
              "    }\n",
              "\n",
              "    .colab-df-convert:hover {\n",
              "      background-color: #E2EBFA;\n",
              "      box-shadow: 0px 1px 2px rgba(60, 64, 67, 0.3), 0px 1px 3px 1px rgba(60, 64, 67, 0.15);\n",
              "      fill: #174EA6;\n",
              "    }\n",
              "\n",
              "    [theme=dark] .colab-df-convert {\n",
              "      background-color: #3B4455;\n",
              "      fill: #D2E3FC;\n",
              "    }\n",
              "\n",
              "    [theme=dark] .colab-df-convert:hover {\n",
              "      background-color: #434B5C;\n",
              "      box-shadow: 0px 1px 3px 1px rgba(0, 0, 0, 0.15);\n",
              "      filter: drop-shadow(0px 1px 2px rgba(0, 0, 0, 0.3));\n",
              "      fill: #FFFFFF;\n",
              "    }\n",
              "  </style>\n",
              "\n",
              "      <script>\n",
              "        const buttonEl =\n",
              "          document.querySelector('#df-3a6ccb96-e4b9-41cc-8a5e-54469dc11cfd button.colab-df-convert');\n",
              "        buttonEl.style.display =\n",
              "          google.colab.kernel.accessAllowed ? 'block' : 'none';\n",
              "\n",
              "        async function convertToInteractive(key) {\n",
              "          const element = document.querySelector('#df-3a6ccb96-e4b9-41cc-8a5e-54469dc11cfd');\n",
              "          const dataTable =\n",
              "            await google.colab.kernel.invokeFunction('convertToInteractive',\n",
              "                                                     [key], {});\n",
              "          if (!dataTable) return;\n",
              "\n",
              "          const docLinkHtml = 'Like what you see? Visit the ' +\n",
              "            '<a target=\"_blank\" href=https://colab.research.google.com/notebooks/data_table.ipynb>data table notebook</a>'\n",
              "            + ' to learn more about interactive tables.';\n",
              "          element.innerHTML = '';\n",
              "          dataTable['output_type'] = 'display_data';\n",
              "          await google.colab.output.renderOutput(dataTable, element);\n",
              "          const docLink = document.createElement('div');\n",
              "          docLink.innerHTML = docLinkHtml;\n",
              "          element.appendChild(docLink);\n",
              "        }\n",
              "      </script>\n",
              "    </div>\n",
              "  </div>\n",
              "  "
            ]
          },
          "metadata": {},
          "execution_count": 62
        }
      ]
    },
    {
      "cell_type": "code",
      "source": [
        "product_name_2 = input('enter a product name: ')\n",
        "suggestion_flipkart = flipkart1.loc[flipkart1['Product_name_flipkart']==product_name_1] \n",
        "\n",
        "\n",
        "suggestion_flipkart = suggestion_flipkart[suggestion_flipkart.Discount_price_flipkart == suggestion_flipkart.Discount_price_flipkart.min()]\n",
        "suggestion_flipkart"
      ],
      "metadata": {
        "colab": {
          "base_uri": "https://localhost:8080/",
          "height": 98
        },
        "id": "XSxdSxLCWmv7",
        "outputId": "64c13094-a97d-4cbc-df06-dacd2b157943"
      },
      "execution_count": 63,
      "outputs": [
        {
          "name": "stdout",
          "output_type": "stream",
          "text": [
            "enter a product name: Alisha Solid Women's Cycling Shorts\n"
          ]
        },
        {
          "output_type": "execute_result",
          "data": {
            "text/plain": [
              "                 Product_name_flipkart  Retail_price_flipkart  \\\n",
              "3  Alisha Solid Women's Cycling Shorts                  699.0   \n",
              "\n",
              "   Discount_price_flipkart  \n",
              "3                    267.0  "
            ],
            "text/html": [
              "\n",
              "  <div id=\"df-7a5a46c2-2be6-48d5-89f6-45cf7871ec3c\">\n",
              "    <div class=\"colab-df-container\">\n",
              "      <div>\n",
              "<style scoped>\n",
              "    .dataframe tbody tr th:only-of-type {\n",
              "        vertical-align: middle;\n",
              "    }\n",
              "\n",
              "    .dataframe tbody tr th {\n",
              "        vertical-align: top;\n",
              "    }\n",
              "\n",
              "    .dataframe thead th {\n",
              "        text-align: right;\n",
              "    }\n",
              "</style>\n",
              "<table border=\"1\" class=\"dataframe\">\n",
              "  <thead>\n",
              "    <tr style=\"text-align: right;\">\n",
              "      <th></th>\n",
              "      <th>Product_name_flipkart</th>\n",
              "      <th>Retail_price_flipkart</th>\n",
              "      <th>Discount_price_flipkart</th>\n",
              "    </tr>\n",
              "  </thead>\n",
              "  <tbody>\n",
              "    <tr>\n",
              "      <th>3</th>\n",
              "      <td>Alisha Solid Women's Cycling Shorts</td>\n",
              "      <td>699.0</td>\n",
              "      <td>267.0</td>\n",
              "    </tr>\n",
              "  </tbody>\n",
              "</table>\n",
              "</div>\n",
              "      <button class=\"colab-df-convert\" onclick=\"convertToInteractive('df-7a5a46c2-2be6-48d5-89f6-45cf7871ec3c')\"\n",
              "              title=\"Convert this dataframe to an interactive table.\"\n",
              "              style=\"display:none;\">\n",
              "        \n",
              "  <svg xmlns=\"http://www.w3.org/2000/svg\" height=\"24px\"viewBox=\"0 0 24 24\"\n",
              "       width=\"24px\">\n",
              "    <path d=\"M0 0h24v24H0V0z\" fill=\"none\"/>\n",
              "    <path d=\"M18.56 5.44l.94 2.06.94-2.06 2.06-.94-2.06-.94-.94-2.06-.94 2.06-2.06.94zm-11 1L8.5 8.5l.94-2.06 2.06-.94-2.06-.94L8.5 2.5l-.94 2.06-2.06.94zm10 10l.94 2.06.94-2.06 2.06-.94-2.06-.94-.94-2.06-.94 2.06-2.06.94z\"/><path d=\"M17.41 7.96l-1.37-1.37c-.4-.4-.92-.59-1.43-.59-.52 0-1.04.2-1.43.59L10.3 9.45l-7.72 7.72c-.78.78-.78 2.05 0 2.83L4 21.41c.39.39.9.59 1.41.59.51 0 1.02-.2 1.41-.59l7.78-7.78 2.81-2.81c.8-.78.8-2.07 0-2.86zM5.41 20L4 18.59l7.72-7.72 1.47 1.35L5.41 20z\"/>\n",
              "  </svg>\n",
              "      </button>\n",
              "      \n",
              "  <style>\n",
              "    .colab-df-container {\n",
              "      display:flex;\n",
              "      flex-wrap:wrap;\n",
              "      gap: 12px;\n",
              "    }\n",
              "\n",
              "    .colab-df-convert {\n",
              "      background-color: #E8F0FE;\n",
              "      border: none;\n",
              "      border-radius: 50%;\n",
              "      cursor: pointer;\n",
              "      display: none;\n",
              "      fill: #1967D2;\n",
              "      height: 32px;\n",
              "      padding: 0 0 0 0;\n",
              "      width: 32px;\n",
              "    }\n",
              "\n",
              "    .colab-df-convert:hover {\n",
              "      background-color: #E2EBFA;\n",
              "      box-shadow: 0px 1px 2px rgba(60, 64, 67, 0.3), 0px 1px 3px 1px rgba(60, 64, 67, 0.15);\n",
              "      fill: #174EA6;\n",
              "    }\n",
              "\n",
              "    [theme=dark] .colab-df-convert {\n",
              "      background-color: #3B4455;\n",
              "      fill: #D2E3FC;\n",
              "    }\n",
              "\n",
              "    [theme=dark] .colab-df-convert:hover {\n",
              "      background-color: #434B5C;\n",
              "      box-shadow: 0px 1px 3px 1px rgba(0, 0, 0, 0.15);\n",
              "      filter: drop-shadow(0px 1px 2px rgba(0, 0, 0, 0.3));\n",
              "      fill: #FFFFFF;\n",
              "    }\n",
              "  </style>\n",
              "\n",
              "      <script>\n",
              "        const buttonEl =\n",
              "          document.querySelector('#df-7a5a46c2-2be6-48d5-89f6-45cf7871ec3c button.colab-df-convert');\n",
              "        buttonEl.style.display =\n",
              "          google.colab.kernel.accessAllowed ? 'block' : 'none';\n",
              "\n",
              "        async function convertToInteractive(key) {\n",
              "          const element = document.querySelector('#df-7a5a46c2-2be6-48d5-89f6-45cf7871ec3c');\n",
              "          const dataTable =\n",
              "            await google.colab.kernel.invokeFunction('convertToInteractive',\n",
              "                                                     [key], {});\n",
              "          if (!dataTable) return;\n",
              "\n",
              "          const docLinkHtml = 'Like what you see? Visit the ' +\n",
              "            '<a target=\"_blank\" href=https://colab.research.google.com/notebooks/data_table.ipynb>data table notebook</a>'\n",
              "            + ' to learn more about interactive tables.';\n",
              "          element.innerHTML = '';\n",
              "          dataTable['output_type'] = 'display_data';\n",
              "          await google.colab.output.renderOutput(dataTable, element);\n",
              "          const docLink = document.createElement('div');\n",
              "          docLink.innerHTML = docLinkHtml;\n",
              "          element.appendChild(docLink);\n",
              "        }\n",
              "      </script>\n",
              "    </div>\n",
              "  </div>\n",
              "  "
            ]
          },
          "metadata": {},
          "execution_count": 63
        }
      ]
    },
    {
      "cell_type": "code",
      "source": [
        "join_suggestion = suggestion_amazon.merge(suggestion_flipkart,left_on=\"Product_name_amazon\",right_on='Product_name_flipkart',how='inner')\n",
        "join_suggestion"
      ],
      "metadata": {
        "colab": {
          "base_uri": "https://localhost:8080/",
          "height": 125
        },
        "id": "XE0XZwlFZZKt",
        "outputId": "e11725e2-65cc-4501-cef8-ecd35d3ebc82"
      },
      "execution_count": 64,
      "outputs": [
        {
          "output_type": "execute_result",
          "data": {
            "text/plain": [
              "                   Product_name_amazon  Retail_price_amazon  \\\n",
              "0  Alisha Solid Women's Cycling Shorts                  694   \n",
              "\n",
              "   Discount_price_amazon                Product_name_flipkart  \\\n",
              "0                    325  Alisha Solid Women's Cycling Shorts   \n",
              "\n",
              "   Retail_price_flipkart  Discount_price_flipkart  \n",
              "0                  699.0                    267.0  "
            ],
            "text/html": [
              "\n",
              "  <div id=\"df-3ba762cc-f791-4802-8a2a-4540e6b013d3\">\n",
              "    <div class=\"colab-df-container\">\n",
              "      <div>\n",
              "<style scoped>\n",
              "    .dataframe tbody tr th:only-of-type {\n",
              "        vertical-align: middle;\n",
              "    }\n",
              "\n",
              "    .dataframe tbody tr th {\n",
              "        vertical-align: top;\n",
              "    }\n",
              "\n",
              "    .dataframe thead th {\n",
              "        text-align: right;\n",
              "    }\n",
              "</style>\n",
              "<table border=\"1\" class=\"dataframe\">\n",
              "  <thead>\n",
              "    <tr style=\"text-align: right;\">\n",
              "      <th></th>\n",
              "      <th>Product_name_amazon</th>\n",
              "      <th>Retail_price_amazon</th>\n",
              "      <th>Discount_price_amazon</th>\n",
              "      <th>Product_name_flipkart</th>\n",
              "      <th>Retail_price_flipkart</th>\n",
              "      <th>Discount_price_flipkart</th>\n",
              "    </tr>\n",
              "  </thead>\n",
              "  <tbody>\n",
              "    <tr>\n",
              "      <th>0</th>\n",
              "      <td>Alisha Solid Women's Cycling Shorts</td>\n",
              "      <td>694</td>\n",
              "      <td>325</td>\n",
              "      <td>Alisha Solid Women's Cycling Shorts</td>\n",
              "      <td>699.0</td>\n",
              "      <td>267.0</td>\n",
              "    </tr>\n",
              "  </tbody>\n",
              "</table>\n",
              "</div>\n",
              "      <button class=\"colab-df-convert\" onclick=\"convertToInteractive('df-3ba762cc-f791-4802-8a2a-4540e6b013d3')\"\n",
              "              title=\"Convert this dataframe to an interactive table.\"\n",
              "              style=\"display:none;\">\n",
              "        \n",
              "  <svg xmlns=\"http://www.w3.org/2000/svg\" height=\"24px\"viewBox=\"0 0 24 24\"\n",
              "       width=\"24px\">\n",
              "    <path d=\"M0 0h24v24H0V0z\" fill=\"none\"/>\n",
              "    <path d=\"M18.56 5.44l.94 2.06.94-2.06 2.06-.94-2.06-.94-.94-2.06-.94 2.06-2.06.94zm-11 1L8.5 8.5l.94-2.06 2.06-.94-2.06-.94L8.5 2.5l-.94 2.06-2.06.94zm10 10l.94 2.06.94-2.06 2.06-.94-2.06-.94-.94-2.06-.94 2.06-2.06.94z\"/><path d=\"M17.41 7.96l-1.37-1.37c-.4-.4-.92-.59-1.43-.59-.52 0-1.04.2-1.43.59L10.3 9.45l-7.72 7.72c-.78.78-.78 2.05 0 2.83L4 21.41c.39.39.9.59 1.41.59.51 0 1.02-.2 1.41-.59l7.78-7.78 2.81-2.81c.8-.78.8-2.07 0-2.86zM5.41 20L4 18.59l7.72-7.72 1.47 1.35L5.41 20z\"/>\n",
              "  </svg>\n",
              "      </button>\n",
              "      \n",
              "  <style>\n",
              "    .colab-df-container {\n",
              "      display:flex;\n",
              "      flex-wrap:wrap;\n",
              "      gap: 12px;\n",
              "    }\n",
              "\n",
              "    .colab-df-convert {\n",
              "      background-color: #E8F0FE;\n",
              "      border: none;\n",
              "      border-radius: 50%;\n",
              "      cursor: pointer;\n",
              "      display: none;\n",
              "      fill: #1967D2;\n",
              "      height: 32px;\n",
              "      padding: 0 0 0 0;\n",
              "      width: 32px;\n",
              "    }\n",
              "\n",
              "    .colab-df-convert:hover {\n",
              "      background-color: #E2EBFA;\n",
              "      box-shadow: 0px 1px 2px rgba(60, 64, 67, 0.3), 0px 1px 3px 1px rgba(60, 64, 67, 0.15);\n",
              "      fill: #174EA6;\n",
              "    }\n",
              "\n",
              "    [theme=dark] .colab-df-convert {\n",
              "      background-color: #3B4455;\n",
              "      fill: #D2E3FC;\n",
              "    }\n",
              "\n",
              "    [theme=dark] .colab-df-convert:hover {\n",
              "      background-color: #434B5C;\n",
              "      box-shadow: 0px 1px 3px 1px rgba(0, 0, 0, 0.15);\n",
              "      filter: drop-shadow(0px 1px 2px rgba(0, 0, 0, 0.3));\n",
              "      fill: #FFFFFF;\n",
              "    }\n",
              "  </style>\n",
              "\n",
              "      <script>\n",
              "        const buttonEl =\n",
              "          document.querySelector('#df-3ba762cc-f791-4802-8a2a-4540e6b013d3 button.colab-df-convert');\n",
              "        buttonEl.style.display =\n",
              "          google.colab.kernel.accessAllowed ? 'block' : 'none';\n",
              "\n",
              "        async function convertToInteractive(key) {\n",
              "          const element = document.querySelector('#df-3ba762cc-f791-4802-8a2a-4540e6b013d3');\n",
              "          const dataTable =\n",
              "            await google.colab.kernel.invokeFunction('convertToInteractive',\n",
              "                                                     [key], {});\n",
              "          if (!dataTable) return;\n",
              "\n",
              "          const docLinkHtml = 'Like what you see? Visit the ' +\n",
              "            '<a target=\"_blank\" href=https://colab.research.google.com/notebooks/data_table.ipynb>data table notebook</a>'\n",
              "            + ' to learn more about interactive tables.';\n",
              "          element.innerHTML = '';\n",
              "          dataTable['output_type'] = 'display_data';\n",
              "          await google.colab.output.renderOutput(dataTable, element);\n",
              "          const docLink = document.createElement('div');\n",
              "          docLink.innerHTML = docLinkHtml;\n",
              "          element.appendChild(docLink);\n",
              "        }\n",
              "      </script>\n",
              "    </div>\n",
              "  </div>\n",
              "  "
            ]
          },
          "metadata": {},
          "execution_count": 64
        }
      ]
    }
  ]
}